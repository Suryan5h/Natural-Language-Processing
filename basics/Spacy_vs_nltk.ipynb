{
 "cells": [
  {
   "cell_type": "code",
   "execution_count": 1,
   "id": "fc94acf0",
   "metadata": {},
   "outputs": [],
   "source": [
    "#Spacy sentence and word tokenization\n",
    "import spacy"
   ]
  },
  {
   "cell_type": "code",
   "execution_count": 2,
   "id": "77bbcb28",
   "metadata": {},
   "outputs": [],
   "source": [
    "#Spacy is object oriented and nltk is string based"
   ]
  },
  {
   "cell_type": "code",
   "execution_count": 3,
   "id": "26838fe8",
   "metadata": {},
   "outputs": [],
   "source": [
    "nlp = spacy.load(\"en_core_web_sm\")"
   ]
  },
  {
   "cell_type": "code",
   "execution_count": 5,
   "id": "43fd8db8",
   "metadata": {},
   "outputs": [
    {
     "name": "stdout",
     "output_type": "stream",
     "text": [
      "Dr. Strange loves pav bhaji of mumbai.\n",
      "Hulk loves shahi paneer of delhi\n"
     ]
    }
   ],
   "source": [
    "#Sentence tokenization\n",
    "#Spacy is object oriented\n",
    "doc = nlp(\"Dr. Strange loves pav bhaji of mumbai. Hulk loves shahi paneer of delhi\")\n",
    "for sentence in doc.sents:\n",
    "    print(sentence)"
   ]
  },
  {
   "cell_type": "code",
   "execution_count": 6,
   "id": "53e9bf63",
   "metadata": {},
   "outputs": [
    {
     "name": "stdout",
     "output_type": "stream",
     "text": [
      "Dr.\n",
      "Strange\n",
      "loves\n",
      "pav\n",
      "bhaji\n",
      "of\n",
      "mumbai\n",
      ".\n",
      "Hulk\n",
      "loves\n",
      "shahi\n",
      "paneer\n",
      "of\n",
      "delhi\n"
     ]
    }
   ],
   "source": [
    "#Word tokenization\n",
    "for sentence in doc.sents:\n",
    "    for word in sentence:\n",
    "        print(word)"
   ]
  },
  {
   "cell_type": "code",
   "execution_count": 11,
   "id": "8f882480",
   "metadata": {},
   "outputs": [
    {
     "name": "stderr",
     "output_type": "stream",
     "text": [
      "[nltk_data] Downloading package punkt to\n",
      "[nltk_data]     C:\\Users\\Asus\\AppData\\Roaming\\nltk_data...\n",
      "[nltk_data]   Unzipping tokenizers\\punkt.zip.\n"
     ]
    },
    {
     "data": {
      "text/plain": [
       "True"
      ]
     },
     "execution_count": 11,
     "metadata": {},
     "output_type": "execute_result"
    }
   ],
   "source": [
    "#NLTK\n",
    "import nltk\n",
    "nltk.download('punkt')"
   ]
  },
  {
   "cell_type": "code",
   "execution_count": 12,
   "id": "9c62ed76",
   "metadata": {},
   "outputs": [
    {
     "data": {
      "text/plain": [
       "['Dr.',\n",
       " 'Strange loves pav bhaji of mumbai.',\n",
       " 'Hulk loves shahi paneer of delhi']"
      ]
     },
     "execution_count": 12,
     "metadata": {},
     "output_type": "execute_result"
    }
   ],
   "source": [
    "from nltk.tokenize import sent_tokenize\n",
    "\n",
    "sent_tokenize(\"Dr. Strange loves pav bhaji of mumbai. Hulk loves shahi paneer of delhi\")"
   ]
  },
  {
   "cell_type": "code",
   "execution_count": 13,
   "id": "b23aa970",
   "metadata": {},
   "outputs": [
    {
     "data": {
      "text/plain": [
       "['Dr',\n",
       " '.',\n",
       " 'Strange',\n",
       " 'loves',\n",
       " 'pav',\n",
       " 'bhaji',\n",
       " 'of',\n",
       " 'mumbai',\n",
       " '.',\n",
       " 'Hulk',\n",
       " 'loves',\n",
       " 'shahi',\n",
       " 'paneer',\n",
       " 'of',\n",
       " 'delhi']"
      ]
     },
     "execution_count": 13,
     "metadata": {},
     "output_type": "execute_result"
    }
   ],
   "source": [
    "#NLTK is string processing library. There is no object.\n",
    "#Same for word tokenization\n",
    "\n",
    "from nltk.tokenize import word_tokenize\n",
    "word_tokenize(\"Dr. Strange loves pav bhaji of mumbai. Hulk loves shahi paneer of delhi\")"
   ]
  }
 ],
 "metadata": {
  "kernelspec": {
   "display_name": "Python 3 (ipykernel)",
   "language": "python",
   "name": "python3"
  },
  "language_info": {
   "codemirror_mode": {
    "name": "ipython",
    "version": 3
   },
   "file_extension": ".py",
   "mimetype": "text/x-python",
   "name": "python",
   "nbconvert_exporter": "python",
   "pygments_lexer": "ipython3",
   "version": "3.9.7"
  }
 },
 "nbformat": 4,
 "nbformat_minor": 5
}
