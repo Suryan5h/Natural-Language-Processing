{
  "nbformat": 4,
  "nbformat_minor": 0,
  "metadata": {
    "colab": {
      "provenance": [],
      "authorship_tag": "ABX9TyPPFrD17DLjes0z6vwIAH88",
      "include_colab_link": true
    },
    "kernelspec": {
      "name": "python3",
      "display_name": "Python 3"
    },
    "language_info": {
      "name": "python"
    }
  },
  "cells": [
    {
      "cell_type": "markdown",
      "metadata": {
        "id": "view-in-github",
        "colab_type": "text"
      },
      "source": [
        "<a href=\"https://colab.research.google.com/github/Suryan5h/Natural-Language-Processing/blob/main/basics/PoSTagging.ipynb\" target=\"_parent\"><img src=\"https://colab.research.google.com/assets/colab-badge.svg\" alt=\"Open In Colab\"/></a>"
      ]
    },
    {
      "cell_type": "code",
      "execution_count": 1,
      "metadata": {
        "id": "ZEM1l2vNqxBQ"
      },
      "outputs": [],
      "source": [
        "import pandas as pd\n",
        "import numpy as np\n",
        "import warnings\n",
        "warnings.filterwarnings('ignore')"
      ]
    },
    {
      "cell_type": "code",
      "source": [
        "tagged_words = pd.read_csv('tagged_words.csv')"
      ],
      "metadata": {
        "id": "j63BUBMUrAum"
      },
      "execution_count": 2,
      "outputs": []
    },
    {
      "cell_type": "code",
      "source": [
        "tagged_words"
      ],
      "metadata": {
        "colab": {
          "base_uri": "https://localhost:8080/",
          "height": 423
        },
        "id": "ygSN42YOrxzD",
        "outputId": "ace46973-158f-45e9-9efe-fa5966877694"
      },
      "execution_count": 3,
      "outputs": [
        {
          "output_type": "execute_result",
          "data": {
            "text/plain": [
              "               word   tag\n",
              "0               the   DET\n",
              "1            fulton  NOUN\n",
              "2            county  NOUN\n",
              "3             grand   ADJ\n",
              "4              jury  NOUN\n",
              "...             ...   ...\n",
              "1161187      boucle  NOUN\n",
              "1161188       dress  NOUN\n",
              "1161189         was  VERB\n",
              "1161190  stupefying  VERB\n",
              "1161191           !   ADJ\n",
              "\n",
              "[1161192 rows x 2 columns]"
            ],
            "text/html": [
              "\n",
              "  <div id=\"df-a961b14c-632c-40b4-b2b3-26370ebbb2a0\">\n",
              "    <div class=\"colab-df-container\">\n",
              "      <div>\n",
              "<style scoped>\n",
              "    .dataframe tbody tr th:only-of-type {\n",
              "        vertical-align: middle;\n",
              "    }\n",
              "\n",
              "    .dataframe tbody tr th {\n",
              "        vertical-align: top;\n",
              "    }\n",
              "\n",
              "    .dataframe thead th {\n",
              "        text-align: right;\n",
              "    }\n",
              "</style>\n",
              "<table border=\"1\" class=\"dataframe\">\n",
              "  <thead>\n",
              "    <tr style=\"text-align: right;\">\n",
              "      <th></th>\n",
              "      <th>word</th>\n",
              "      <th>tag</th>\n",
              "    </tr>\n",
              "  </thead>\n",
              "  <tbody>\n",
              "    <tr>\n",
              "      <th>0</th>\n",
              "      <td>the</td>\n",
              "      <td>DET</td>\n",
              "    </tr>\n",
              "    <tr>\n",
              "      <th>1</th>\n",
              "      <td>fulton</td>\n",
              "      <td>NOUN</td>\n",
              "    </tr>\n",
              "    <tr>\n",
              "      <th>2</th>\n",
              "      <td>county</td>\n",
              "      <td>NOUN</td>\n",
              "    </tr>\n",
              "    <tr>\n",
              "      <th>3</th>\n",
              "      <td>grand</td>\n",
              "      <td>ADJ</td>\n",
              "    </tr>\n",
              "    <tr>\n",
              "      <th>4</th>\n",
              "      <td>jury</td>\n",
              "      <td>NOUN</td>\n",
              "    </tr>\n",
              "    <tr>\n",
              "      <th>...</th>\n",
              "      <td>...</td>\n",
              "      <td>...</td>\n",
              "    </tr>\n",
              "    <tr>\n",
              "      <th>1161187</th>\n",
              "      <td>boucle</td>\n",
              "      <td>NOUN</td>\n",
              "    </tr>\n",
              "    <tr>\n",
              "      <th>1161188</th>\n",
              "      <td>dress</td>\n",
              "      <td>NOUN</td>\n",
              "    </tr>\n",
              "    <tr>\n",
              "      <th>1161189</th>\n",
              "      <td>was</td>\n",
              "      <td>VERB</td>\n",
              "    </tr>\n",
              "    <tr>\n",
              "      <th>1161190</th>\n",
              "      <td>stupefying</td>\n",
              "      <td>VERB</td>\n",
              "    </tr>\n",
              "    <tr>\n",
              "      <th>1161191</th>\n",
              "      <td>!</td>\n",
              "      <td>ADJ</td>\n",
              "    </tr>\n",
              "  </tbody>\n",
              "</table>\n",
              "<p>1161192 rows × 2 columns</p>\n",
              "</div>\n",
              "      <button class=\"colab-df-convert\" onclick=\"convertToInteractive('df-a961b14c-632c-40b4-b2b3-26370ebbb2a0')\"\n",
              "              title=\"Convert this dataframe to an interactive table.\"\n",
              "              style=\"display:none;\">\n",
              "        \n",
              "  <svg xmlns=\"http://www.w3.org/2000/svg\" height=\"24px\"viewBox=\"0 0 24 24\"\n",
              "       width=\"24px\">\n",
              "    <path d=\"M0 0h24v24H0V0z\" fill=\"none\"/>\n",
              "    <path d=\"M18.56 5.44l.94 2.06.94-2.06 2.06-.94-2.06-.94-.94-2.06-.94 2.06-2.06.94zm-11 1L8.5 8.5l.94-2.06 2.06-.94-2.06-.94L8.5 2.5l-.94 2.06-2.06.94zm10 10l.94 2.06.94-2.06 2.06-.94-2.06-.94-.94-2.06-.94 2.06-2.06.94z\"/><path d=\"M17.41 7.96l-1.37-1.37c-.4-.4-.92-.59-1.43-.59-.52 0-1.04.2-1.43.59L10.3 9.45l-7.72 7.72c-.78.78-.78 2.05 0 2.83L4 21.41c.39.39.9.59 1.41.59.51 0 1.02-.2 1.41-.59l7.78-7.78 2.81-2.81c.8-.78.8-2.07 0-2.86zM5.41 20L4 18.59l7.72-7.72 1.47 1.35L5.41 20z\"/>\n",
              "  </svg>\n",
              "      </button>\n",
              "      \n",
              "  <style>\n",
              "    .colab-df-container {\n",
              "      display:flex;\n",
              "      flex-wrap:wrap;\n",
              "      gap: 12px;\n",
              "    }\n",
              "\n",
              "    .colab-df-convert {\n",
              "      background-color: #E8F0FE;\n",
              "      border: none;\n",
              "      border-radius: 50%;\n",
              "      cursor: pointer;\n",
              "      display: none;\n",
              "      fill: #1967D2;\n",
              "      height: 32px;\n",
              "      padding: 0 0 0 0;\n",
              "      width: 32px;\n",
              "    }\n",
              "\n",
              "    .colab-df-convert:hover {\n",
              "      background-color: #E2EBFA;\n",
              "      box-shadow: 0px 1px 2px rgba(60, 64, 67, 0.3), 0px 1px 3px 1px rgba(60, 64, 67, 0.15);\n",
              "      fill: #174EA6;\n",
              "    }\n",
              "\n",
              "    [theme=dark] .colab-df-convert {\n",
              "      background-color: #3B4455;\n",
              "      fill: #D2E3FC;\n",
              "    }\n",
              "\n",
              "    [theme=dark] .colab-df-convert:hover {\n",
              "      background-color: #434B5C;\n",
              "      box-shadow: 0px 1px 3px 1px rgba(0, 0, 0, 0.15);\n",
              "      filter: drop-shadow(0px 1px 2px rgba(0, 0, 0, 0.3));\n",
              "      fill: #FFFFFF;\n",
              "    }\n",
              "  </style>\n",
              "\n",
              "      <script>\n",
              "        const buttonEl =\n",
              "          document.querySelector('#df-a961b14c-632c-40b4-b2b3-26370ebbb2a0 button.colab-df-convert');\n",
              "        buttonEl.style.display =\n",
              "          google.colab.kernel.accessAllowed ? 'block' : 'none';\n",
              "\n",
              "        async function convertToInteractive(key) {\n",
              "          const element = document.querySelector('#df-a961b14c-632c-40b4-b2b3-26370ebbb2a0');\n",
              "          const dataTable =\n",
              "            await google.colab.kernel.invokeFunction('convertToInteractive',\n",
              "                                                     [key], {});\n",
              "          if (!dataTable) return;\n",
              "\n",
              "          const docLinkHtml = 'Like what you see? Visit the ' +\n",
              "            '<a target=\"_blank\" href=https://colab.research.google.com/notebooks/data_table.ipynb>data table notebook</a>'\n",
              "            + ' to learn more about interactive tables.';\n",
              "          element.innerHTML = '';\n",
              "          dataTable['output_type'] = 'display_data';\n",
              "          await google.colab.output.renderOutput(dataTable, element);\n",
              "          const docLink = document.createElement('div');\n",
              "          docLink.innerHTML = docLinkHtml;\n",
              "          element.appendChild(docLink);\n",
              "        }\n",
              "      </script>\n",
              "    </div>\n",
              "  </div>\n",
              "  "
            ]
          },
          "metadata": {},
          "execution_count": 3
        }
      ]
    },
    {
      "cell_type": "code",
      "source": [
        "tagged_words[tagged_words['word']=='saw'].value_counts()"
      ],
      "metadata": {
        "colab": {
          "base_uri": "https://localhost:8080/"
        },
        "id": "pFBC6Styryzl",
        "outputId": "4ee4236a-f66f-43b4-ff47-ac32daeb7020"
      },
      "execution_count": 6,
      "outputs": [
        {
          "output_type": "execute_result",
          "data": {
            "text/plain": [
              "word  tag \n",
              "saw   VERB    347\n",
              "      NOUN      5\n",
              "dtype: int64"
            ]
          },
          "metadata": {},
          "execution_count": 6
        }
      ]
    },
    {
      "cell_type": "code",
      "source": [
        "tagged_words[tagged_words['word']=='SAW'].value_counts()"
      ],
      "metadata": {
        "colab": {
          "base_uri": "https://localhost:8080/"
        },
        "id": "CTwE8W1Etpi0",
        "outputId": "b712654a-e208-4cff-ec81-f041aa3fc5ae"
      },
      "execution_count": 8,
      "outputs": [
        {
          "output_type": "execute_result",
          "data": {
            "text/plain": [
              "Series([], dtype: int64)"
            ]
          },
          "metadata": {},
          "execution_count": 8
        }
      ]
    },
    {
      "cell_type": "code",
      "source": [
        "data = pd.read_csv(\"tagged_words.csv\")\n",
        "sent = \"I saw him running away\"\n",
        "\n",
        "def get_common_tag(data,word):\n",
        "    if word.lower() in data['word'].unique():\n",
        "        q = f\"word=='{word.lower()}'\"\n",
        "        return word , data.query(q)['tag'].value_counts().head(1).index.tolist()[0]\n",
        "    else:\n",
        "        return f\"{word} not in data\"\n",
        "\n",
        "for word in sent.split(\" \"):\n",
        "    print(get_common_tag(data,word))\n",
        " \n",
        "data.query(\"word=='saw'\")['tag'].value_counts()"
      ],
      "metadata": {
        "colab": {
          "base_uri": "https://localhost:8080/"
        },
        "id": "_WZqoiOmtwwz",
        "outputId": "b190c82b-8e50-452f-a4a1-926b00529216"
      },
      "execution_count": 9,
      "outputs": [
        {
          "output_type": "stream",
          "name": "stdout",
          "text": [
            "('I', 'PRON')\n",
            "('saw', 'VERB')\n",
            "('him', 'PRON')\n",
            "('running', 'VERB')\n",
            "('away', 'ADV')\n"
          ]
        },
        {
          "output_type": "execute_result",
          "data": {
            "text/plain": [
              "VERB    347\n",
              "NOUN      5\n",
              "Name: tag, dtype: int64"
            ]
          },
          "metadata": {},
          "execution_count": 9
        }
      ]
    },
    {
      "cell_type": "code",
      "source": [
        "sent = \"He wished he was rich\"\n",
        "for word in sent.split(\" \"):\n",
        "    print(get_common_tag(data,word))"
      ],
      "metadata": {
        "colab": {
          "base_uri": "https://localhost:8080/"
        },
        "id": "wDL0ArwPt7Bj",
        "outputId": "87c8cd20-b421-421d-fe4b-20616987704b"
      },
      "execution_count": 10,
      "outputs": [
        {
          "output_type": "stream",
          "name": "stdout",
          "text": [
            "('He', 'PRON')\n",
            "('wished', 'VERB')\n",
            "('he', 'PRON')\n",
            "('was', 'VERB')\n",
            "('rich', 'ADJ')\n"
          ]
        }
      ]
    },
    {
      "cell_type": "code",
      "source": [
        "crosstbl = pd.crosstab(tagged_words['word'],tagged_words['tag'],normalize='columns')"
      ],
      "metadata": {
        "id": "poddhQwBuzdj"
      },
      "execution_count": 56,
      "outputs": []
    },
    {
      "cell_type": "code",
      "source": [
        "crosstbl.loc['his']"
      ],
      "metadata": {
        "colab": {
          "base_uri": "https://localhost:8080/"
        },
        "id": "l-2g5BRVwjED",
        "outputId": "2b6c5b1f-ce16-40f1-f39c-b010f5f843bb"
      },
      "execution_count": 57,
      "outputs": [
        {
          "output_type": "execute_result",
          "data": {
            "text/plain": [
              "tag\n",
              "ADJ     0.000000\n",
              "ADP     0.000000\n",
              "ADV     0.000000\n",
              "CONJ    0.000000\n",
              "DET     0.050774\n",
              "NOUN    0.000000\n",
              "NUM     0.000000\n",
              "PRON    0.000750\n",
              "PRT     0.000000\n",
              "VERB    0.000000\n",
              "X       0.001443\n",
              "Name: his, dtype: float64"
            ]
          },
          "metadata": {},
          "execution_count": 57
        }
      ]
    },
    {
      "cell_type": "code",
      "source": [
        "crosstbl.PRON.value_counts()"
      ],
      "metadata": {
        "colab": {
          "base_uri": "https://localhost:8080/"
        },
        "id": "3pgdQzrywGzj",
        "outputId": "c9e07025-e8f3-4fc1-9a1c-245c3240a0d5"
      },
      "execution_count": 53,
      "outputs": [
        {
          "output_type": "execute_result",
          "data": {
            "text/plain": [
              "0       49741\n",
              "1          17\n",
              "5           3\n",
              "2           3\n",
              "4           3\n",
              "3           2\n",
              "37          2\n",
              "10          2\n",
              "13          1\n",
              "2252        1\n",
              "145         1\n",
              "1798        1\n",
              "3286        1\n",
              "25          1\n",
              "2652        1\n",
              "671         1\n",
              "14          1\n",
              "3620        1\n",
              "67          1\n",
              "270         1\n",
              "1775        1\n",
              "21          1\n",
              "17          1\n",
              "27          1\n",
              "2860        1\n",
              "2619        1\n",
              "6           1\n",
              "7           1\n",
              "9546        1\n",
              "1107        1\n",
              "16          1\n",
              "125         1\n",
              "603         1\n",
              "66          1\n",
              "5155        1\n",
              "8759        1\n",
              "304         1\n",
              "1180        1\n",
              "129         1\n",
              "41          1\n",
              "8           1\n",
              "Name: PRON, dtype: int64"
            ]
          },
          "metadata": {},
          "execution_count": 53
        }
      ]
    },
    {
      "cell_type": "code",
      "source": [
        "sum(crosstbl.PRON)"
      ],
      "metadata": {
        "colab": {
          "base_uri": "https://localhost:8080/"
        },
        "id": "5pwmOmTrwYlz",
        "outputId": "c29b24be-f31a-4435-d0fe-b1aa514dced4"
      },
      "execution_count": 54,
      "outputs": [
        {
          "output_type": "execute_result",
          "data": {
            "text/plain": [
              "49334"
            ]
          },
          "metadata": {},
          "execution_count": 54
        }
      ]
    },
    {
      "cell_type": "code",
      "source": [
        "37/49246"
      ],
      "metadata": {
        "colab": {
          "base_uri": "https://localhost:8080/"
        },
        "id": "ooCGGC_10tTg",
        "outputId": "5e0b8634-a5fa-4bfa-ab41-80db51402df9"
      },
      "execution_count": 55,
      "outputs": [
        {
          "output_type": "execute_result",
          "data": {
            "text/plain": [
              "0.0007513300572635341"
            ]
          },
          "metadata": {},
          "execution_count": 55
        }
      ]
    },
    {
      "cell_type": "code",
      "source": [
        "crosstbl['PRON'].loc['his'].round(3)"
      ],
      "metadata": {
        "colab": {
          "base_uri": "https://localhost:8080/"
        },
        "id": "XBDFP4qo1Mtx",
        "outputId": "14131ae6-3f6b-4f19-c575-ff0ab507e123"
      },
      "execution_count": 60,
      "outputs": [
        {
          "output_type": "execute_result",
          "data": {
            "text/plain": [
              "0.001"
            ]
          },
          "metadata": {},
          "execution_count": 60
        }
      ]
    },
    {
      "cell_type": "code",
      "source": [
        "import pandas as pd\n",
        "data = pd.read_csv(\"tagged_words.csv\")\n",
        "emmission_matrix = pd.crosstab(data['word'],data['tag'],normalize='columns')\n",
        "\n",
        "word = 'his'\n",
        "emmission_matrix.loc[word][emmission_matrix.loc[word]>0].round(3)\n",
        "emmission_matrix['PRON'].loc['his'].round(3)"
      ],
      "metadata": {
        "colab": {
          "base_uri": "https://localhost:8080/"
        },
        "id": "bkvOaik20wag",
        "outputId": "fee767a8-60e8-454c-fa8d-13304dbe327b"
      },
      "execution_count": 58,
      "outputs": [
        {
          "output_type": "execute_result",
          "data": {
            "text/plain": [
              "0.001"
            ]
          },
          "metadata": {},
          "execution_count": 58
        }
      ]
    },
    {
      "cell_type": "code",
      "source": [
        "import spacy\n",
        "sp = spacy.load('en_core_web_sm')"
      ],
      "metadata": {
        "id": "T8fy2aTc1IkB"
      },
      "execution_count": 61,
      "outputs": []
    },
    {
      "cell_type": "code",
      "source": [
        "sen = sp(u\"I like to play football. I hated it in my childhood though\")"
      ],
      "metadata": {
        "id": "Y9owbTPQ2MAP"
      },
      "execution_count": 62,
      "outputs": []
    },
    {
      "cell_type": "code",
      "source": [
        "print(sen[7].pos_)"
      ],
      "metadata": {
        "colab": {
          "base_uri": "https://localhost:8080/"
        },
        "id": "ovzuSYWm2PGD",
        "outputId": "75902177-233d-47ea-a679-7e09ecb2928b"
      },
      "execution_count": 63,
      "outputs": [
        {
          "output_type": "stream",
          "name": "stdout",
          "text": [
            "VERB\n"
          ]
        }
      ]
    },
    {
      "cell_type": "code",
      "source": [
        "print(sen[7].tag_)"
      ],
      "metadata": {
        "colab": {
          "base_uri": "https://localhost:8080/"
        },
        "id": "IIT3lmaM2Tyf",
        "outputId": "f36eec7f-9474-4f4f-811b-5f6ffb4d9079"
      },
      "execution_count": 64,
      "outputs": [
        {
          "output_type": "stream",
          "name": "stdout",
          "text": [
            "VBD\n"
          ]
        }
      ]
    },
    {
      "cell_type": "code",
      "source": [
        "print(sen[7].pos)"
      ],
      "metadata": {
        "colab": {
          "base_uri": "https://localhost:8080/"
        },
        "id": "qbbVlavF2VJw",
        "outputId": "fbe5ea30-ae83-4562-fc54-f00c8bb7a92d"
      },
      "execution_count": 65,
      "outputs": [
        {
          "output_type": "stream",
          "name": "stdout",
          "text": [
            "100\n"
          ]
        }
      ]
    },
    {
      "cell_type": "code",
      "source": [
        "print(sen[7].tag)"
      ],
      "metadata": {
        "colab": {
          "base_uri": "https://localhost:8080/"
        },
        "id": "9ePZm0cH2Wug",
        "outputId": "adf208fb-82cd-4b3c-d992-e10bad0ac204"
      },
      "execution_count": 66,
      "outputs": [
        {
          "output_type": "stream",
          "name": "stdout",
          "text": [
            "17109001835818727656\n"
          ]
        }
      ]
    },
    {
      "cell_type": "code",
      "source": [],
      "metadata": {
        "id": "aUN-uNSd2Yjw"
      },
      "execution_count": null,
      "outputs": []
    }
  ]
}