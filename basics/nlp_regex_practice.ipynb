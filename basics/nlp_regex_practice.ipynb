{
  "nbformat": 4,
  "nbformat_minor": 0,
  "metadata": {
    "colab": {
      "name": "nlp_regex_practice.ipynb",
      "provenance": [],
      "authorship_tag": "ABX9TyO5qGNNvtOWfh16jWKVl6jb",
      "include_colab_link": true
    },
    "kernelspec": {
      "name": "python3",
      "display_name": "Python 3"
    },
    "language_info": {
      "name": "python"
    }
  },
  "cells": [
    {
      "cell_type": "markdown",
      "metadata": {
        "id": "view-in-github",
        "colab_type": "text"
      },
      "source": [
        "<a href=\"https://colab.research.google.com/github/Suryan5h/Natural-Language-Processing/blob/main/basics/nlp_regex_practice.ipynb\" target=\"_parent\"><img src=\"https://colab.research.google.com/assets/colab-badge.svg\" alt=\"Open In Colab\"/></a>"
      ]
    },
    {
      "cell_type": "code",
      "source": [
        "text = '''\n",
        "Born\tElon Reeve Musk\n",
        "June 28, 1971 (age 51)\n",
        "Pretoria, Transvaal, South Africa\n",
        "Education\t\n",
        "University of Pennsylvania (BA, BS)\n",
        "Title\t\n",
        "Founder, CEO, and Chief Engineer of SpaceX\n",
        "CEO and product architect of Tesla, Inc.\n",
        "Founder of The Boring Company and X.com (now part of PayPal)\n",
        "Co-founder of Neuralink, OpenAI, and Zip2\n",
        "President of Musk Foundation\n",
        "Spouse(s)\t\n",
        "Justine Wilson\n",
        "​\n",
        "​(m. 2000; div. 2008)​\n",
        "Talulah Riley\n",
        "​\n",
        "​(m. 2010; div. 2012)​\n",
        "​\n",
        "​(m. 2013; div. 2016)​\n",
        "Partner(s)\tGrimes (2018–2022)[1]\n",
        "Children\t10[a][3]\n",
        "Parents\t\n",
        "Errol Musk (father)\n",
        "Maye Musk (mother)\n",
        "Relatives\t\n",
        "Tosca Musk (sister)\n",
        "Kimbal Musk (brother)\n",
        "Lyndon Rive (cousin)\n",
        "Family\tMusk family\n",
        "Awards\tList of honors and awards'''"
      ],
      "metadata": {
        "id": "82xgtC251tas"
      },
      "execution_count": 1,
      "outputs": []
    },
    {
      "cell_type": "code",
      "source": [
        "import re\n",
        "def get_pattern_match(pattern,text):\n",
        "  matches = re.findall(pattern,text)\n",
        "  if matches:\n",
        "    return matches[0]"
      ],
      "metadata": {
        "id": "wxE9Y994zfh6"
      },
      "execution_count": 2,
      "outputs": []
    },
    {
      "cell_type": "code",
      "source": [
        "get_pattern_match(r'Born(.*)',text).strip()"
      ],
      "metadata": {
        "colab": {
          "base_uri": "https://localhost:8080/",
          "height": 35
        },
        "id": "kfyOyfpQxgxG",
        "outputId": "c068f02e-39c6-437f-e667-573e1c7802ba"
      },
      "execution_count": 3,
      "outputs": [
        {
          "output_type": "execute_result",
          "data": {
            "text/plain": [
              "'Elon Reeve Musk'"
            ],
            "application/vnd.google.colaboratory.intrinsic+json": {
              "type": "string"
            }
          },
          "metadata": {},
          "execution_count": 3
        }
      ]
    },
    {
      "cell_type": "code",
      "source": [
        "get_pattern_match(r'age\\s(\\d*)',text)"
      ],
      "metadata": {
        "colab": {
          "base_uri": "https://localhost:8080/",
          "height": 35
        },
        "id": "T8n-YK4m0FnM",
        "outputId": "94d6896a-8be6-4355-c3f7-3f5432fab621"
      },
      "execution_count": 4,
      "outputs": [
        {
          "output_type": "execute_result",
          "data": {
            "text/plain": [
              "'51'"
            ],
            "application/vnd.google.colaboratory.intrinsic+json": {
              "type": "string"
            }
          },
          "metadata": {},
          "execution_count": 4
        }
      ]
    },
    {
      "cell_type": "code",
      "source": [
        "#dob\n",
        "get_pattern_match(r'Born.*\\n(.*)\\(age',text).strip()"
      ],
      "metadata": {
        "colab": {
          "base_uri": "https://localhost:8080/",
          "height": 35
        },
        "id": "C8GTLxIu1nlM",
        "outputId": "47d884cf-2985-4ad9-eb49-d06b88a7e803"
      },
      "execution_count": 5,
      "outputs": [
        {
          "output_type": "execute_result",
          "data": {
            "text/plain": [
              "'June 28, 1971'"
            ],
            "application/vnd.google.colaboratory.intrinsic+json": {
              "type": "string"
            }
          },
          "metadata": {},
          "execution_count": 5
        }
      ]
    },
    {
      "cell_type": "code",
      "source": [
        "#Education\n",
        "get_pattern_match(r'Education.*\\n(.*)\\nTitle',text)"
      ],
      "metadata": {
        "colab": {
          "base_uri": "https://localhost:8080/",
          "height": 35
        },
        "id": "GgutCd6d2qKT",
        "outputId": "b7a7d127-11e8-45ac-f2e9-2240c45528f4"
      },
      "execution_count": 6,
      "outputs": [
        {
          "output_type": "execute_result",
          "data": {
            "text/plain": [
              "'University of Pennsylvania (BA, BS)'"
            ],
            "application/vnd.google.colaboratory.intrinsic+json": {
              "type": "string"
            }
          },
          "metadata": {},
          "execution_count": 6
        }
      ]
    },
    {
      "cell_type": "code",
      "source": [
        "def extract_personal_information(text):\n",
        "  name = get_pattern_match(r'Born(.*)',text).strip()\n",
        "  age = get_pattern_match(r'age\\s(\\d*)',text)\n",
        "  dob = get_pattern_match(r'Born.*\\n(.*)\\(age',text).strip()\n",
        "  education = get_pattern_match(r'Education.*\\n(.*)\\nTitle',text)\n",
        "  return {\n",
        "      'name': name,\n",
        "      'age': int(age),\n",
        "      'dob': dob,\n",
        "      'education': education,\n",
        "  }"
      ],
      "metadata": {
        "id": "VRY5Apso3JNL"
      },
      "execution_count": 7,
      "outputs": []
    },
    {
      "cell_type": "code",
      "source": [
        "extract_personal_information(text)"
      ],
      "metadata": {
        "colab": {
          "base_uri": "https://localhost:8080/"
        },
        "id": "ALyaPMCz3uYD",
        "outputId": "44e1ebe6-8fa0-4e43-aafd-335a9b412e17"
      },
      "execution_count": 8,
      "outputs": [
        {
          "output_type": "execute_result",
          "data": {
            "text/plain": [
              "{'name': 'Elon Reeve Musk',\n",
              " 'age': 51,\n",
              " 'dob': 'June 28, 1971',\n",
              " 'education': 'University of Pennsylvania (BA, BS)'}"
            ]
          },
          "metadata": {},
          "execution_count": 8
        }
      ]
    },
    {
      "cell_type": "code",
      "source": [
        "#Text 2 trial\n",
        "text2 = '''\n",
        "Born\tMukesh Dhirubhai Ambani\n",
        "19 April 1957 (age 64)\n",
        "Aden, Colony of Aden\n",
        "(present-day Yemen)[1][2]\n",
        "Nationality\tIndian\n",
        "Education\t\n",
        "Institute of Chemical Technology (B.E.)\n",
        "Title\tChairman and MD, Reliance Industries\n",
        "Spouse(s)\tNita Ambani ​(m. 1985)​[3]\n",
        "Children\t3\n",
        "Parent(s)\t\n",
        "Dhirubhai Ambani (father)\n",
        "Kokilaben Ambani (mother)\n",
        "Relatives\tAnil Ambani (brother)\n",
        "Tina Ambani (sister-in-law)'''"
      ],
      "metadata": {
        "id": "gfIW4tO23wA2"
      },
      "execution_count": 13,
      "outputs": []
    },
    {
      "cell_type": "code",
      "source": [
        "extract_personal_information(text2)"
      ],
      "metadata": {
        "colab": {
          "base_uri": "https://localhost:8080/"
        },
        "id": "Nq-89DU74QIq",
        "outputId": "80b67515-3ece-410a-b6f0-b1d667130b4b"
      },
      "execution_count": 14,
      "outputs": [
        {
          "output_type": "execute_result",
          "data": {
            "text/plain": [
              "{'name': 'Mukesh Dhirubhai Ambani',\n",
              " 'age': 64,\n",
              " 'dob': '19 April 1957',\n",
              " 'education': 'Institute of Chemical Technology (B.E.)'}"
            ]
          },
          "metadata": {},
          "execution_count": 14
        }
      ]
    },
    {
      "cell_type": "code",
      "source": [
        "#The End"
      ],
      "metadata": {
        "id": "hBgy-5pc4SMK"
      },
      "execution_count": 15,
      "outputs": []
    }
  ]
}