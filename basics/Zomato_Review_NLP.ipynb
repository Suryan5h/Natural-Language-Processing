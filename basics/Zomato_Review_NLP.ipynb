{
  "nbformat": 4,
  "nbformat_minor": 0,
  "metadata": {
    "colab": {
      "provenance": [],
      "authorship_tag": "ABX9TyNeC03RrQCROc0qhRGgX/ga",
      "include_colab_link": true
    },
    "kernelspec": {
      "name": "python3",
      "display_name": "Python 3"
    },
    "language_info": {
      "name": "python"
    }
  },
  "cells": [
    {
      "cell_type": "markdown",
      "metadata": {
        "id": "view-in-github",
        "colab_type": "text"
      },
      "source": [
        "<a href=\"https://colab.research.google.com/github/Suryan5h/Natural-Language-Processing/blob/main/basics/Zomato_Review_NLP.ipynb\" target=\"_parent\"><img src=\"https://colab.research.google.com/assets/colab-badge.svg\" alt=\"Open In Colab\"/></a>"
      ]
    },
    {
      "cell_type": "markdown",
      "source": [
        "# ZOMATO REVIEW NLP"
      ],
      "metadata": {
        "id": "FjeEgRwIuU-3"
      }
    },
    {
      "cell_type": "markdown",
      "source": [
        "## Importing the libraries"
      ],
      "metadata": {
        "id": "l-bkVndsvFV-"
      }
    },
    {
      "cell_type": "code",
      "source": [
        "#Libraries\n",
        "import numpy as np\n",
        "import pandas as pd\n",
        "import seaborn as sns\n",
        "import matplotlib.pyplot as plt\n",
        "import matplotlib.cm as cm #Colormap\n",
        "import nltk\n",
        "\n",
        "import os\n",
        "import warnings\n",
        "warnings.filterwarnings('ignore')\n",
        "nltk.download('stopwords')"
      ],
      "metadata": {
        "colab": {
          "base_uri": "https://localhost:8080/"
        },
        "id": "MJ0pPHKHueBH",
        "outputId": "1724fdd2-d36e-4364-d1f5-6f939554cb25"
      },
      "execution_count": 2,
      "outputs": [
        {
          "output_type": "stream",
          "name": "stderr",
          "text": [
            "[nltk_data] Downloading package stopwords to /root/nltk_data...\n",
            "[nltk_data]   Package stopwords is already up-to-date!\n"
          ]
        },
        {
          "output_type": "execute_result",
          "data": {
            "text/plain": [
              "True"
            ]
          },
          "metadata": {},
          "execution_count": 2
        }
      ]
    },
    {
      "cell_type": "markdown",
      "source": [
        "## Reading input data"
      ],
      "metadata": {
        "id": "sHhO_Wz1u8re"
      }
    },
    {
      "cell_type": "code",
      "source": [
        "zomato = pd.read_csv('Restaurant reviews.csv')\n",
        "print(zomato.shape)"
      ],
      "metadata": {
        "colab": {
          "base_uri": "https://localhost:8080/"
        },
        "id": "_lo_3AX6wv8X",
        "outputId": "8aff9c69-fe12-4ba7-bacc-a7cea0c69a95"
      },
      "execution_count": 4,
      "outputs": [
        {
          "output_type": "stream",
          "name": "stdout",
          "text": [
            "(10000, 7)\n"
          ]
        }
      ]
    },
    {
      "cell_type": "code",
      "source": [
        "zomato.head()"
      ],
      "metadata": {
        "colab": {
          "base_uri": "https://localhost:8080/",
          "height": 206
        },
        "id": "KiGq8HwEw0-O",
        "outputId": "26f133a7-1cfd-49e0-b4e6-48f9a20b7898"
      },
      "execution_count": 5,
      "outputs": [
        {
          "output_type": "execute_result",
          "data": {
            "text/plain": [
              "        Restaurant              Reviewer  \\\n",
              "0  Beyond Flavours     Rusha Chakraborty   \n",
              "1  Beyond Flavours  Anusha Tirumalaneedi   \n",
              "2  Beyond Flavours       Ashok Shekhawat   \n",
              "3  Beyond Flavours        Swapnil Sarkar   \n",
              "4  Beyond Flavours                Dileep   \n",
              "\n",
              "                                              Review Rating  \\\n",
              "0  The ambience was good, food was quite good . h...      5   \n",
              "1  Ambience is too good for a pleasant evening. S...      5   \n",
              "2  A must try.. great food great ambience. Thnx f...      5   \n",
              "3  Soumen das and Arun was a great guy. Only beca...      5   \n",
              "4  Food is good.we ordered Kodi drumsticks and ba...      5   \n",
              "\n",
              "                  Metadata             Time  Pictures  \n",
              "0   1 Review , 2 Followers  5/25/2019 15:54         0  \n",
              "1  3 Reviews , 2 Followers  5/25/2019 14:20         0  \n",
              "2  2 Reviews , 3 Followers  5/24/2019 22:54         0  \n",
              "3    1 Review , 1 Follower  5/24/2019 22:11         0  \n",
              "4  3 Reviews , 2 Followers  5/24/2019 21:37         0  "
            ],
            "text/html": [
              "\n",
              "  <div id=\"df-b9b504bc-eabb-4a0e-b1f6-8bd50b1b2459\">\n",
              "    <div class=\"colab-df-container\">\n",
              "      <div>\n",
              "<style scoped>\n",
              "    .dataframe tbody tr th:only-of-type {\n",
              "        vertical-align: middle;\n",
              "    }\n",
              "\n",
              "    .dataframe tbody tr th {\n",
              "        vertical-align: top;\n",
              "    }\n",
              "\n",
              "    .dataframe thead th {\n",
              "        text-align: right;\n",
              "    }\n",
              "</style>\n",
              "<table border=\"1\" class=\"dataframe\">\n",
              "  <thead>\n",
              "    <tr style=\"text-align: right;\">\n",
              "      <th></th>\n",
              "      <th>Restaurant</th>\n",
              "      <th>Reviewer</th>\n",
              "      <th>Review</th>\n",
              "      <th>Rating</th>\n",
              "      <th>Metadata</th>\n",
              "      <th>Time</th>\n",
              "      <th>Pictures</th>\n",
              "    </tr>\n",
              "  </thead>\n",
              "  <tbody>\n",
              "    <tr>\n",
              "      <th>0</th>\n",
              "      <td>Beyond Flavours</td>\n",
              "      <td>Rusha Chakraborty</td>\n",
              "      <td>The ambience was good, food was quite good . h...</td>\n",
              "      <td>5</td>\n",
              "      <td>1 Review , 2 Followers</td>\n",
              "      <td>5/25/2019 15:54</td>\n",
              "      <td>0</td>\n",
              "    </tr>\n",
              "    <tr>\n",
              "      <th>1</th>\n",
              "      <td>Beyond Flavours</td>\n",
              "      <td>Anusha Tirumalaneedi</td>\n",
              "      <td>Ambience is too good for a pleasant evening. S...</td>\n",
              "      <td>5</td>\n",
              "      <td>3 Reviews , 2 Followers</td>\n",
              "      <td>5/25/2019 14:20</td>\n",
              "      <td>0</td>\n",
              "    </tr>\n",
              "    <tr>\n",
              "      <th>2</th>\n",
              "      <td>Beyond Flavours</td>\n",
              "      <td>Ashok Shekhawat</td>\n",
              "      <td>A must try.. great food great ambience. Thnx f...</td>\n",
              "      <td>5</td>\n",
              "      <td>2 Reviews , 3 Followers</td>\n",
              "      <td>5/24/2019 22:54</td>\n",
              "      <td>0</td>\n",
              "    </tr>\n",
              "    <tr>\n",
              "      <th>3</th>\n",
              "      <td>Beyond Flavours</td>\n",
              "      <td>Swapnil Sarkar</td>\n",
              "      <td>Soumen das and Arun was a great guy. Only beca...</td>\n",
              "      <td>5</td>\n",
              "      <td>1 Review , 1 Follower</td>\n",
              "      <td>5/24/2019 22:11</td>\n",
              "      <td>0</td>\n",
              "    </tr>\n",
              "    <tr>\n",
              "      <th>4</th>\n",
              "      <td>Beyond Flavours</td>\n",
              "      <td>Dileep</td>\n",
              "      <td>Food is good.we ordered Kodi drumsticks and ba...</td>\n",
              "      <td>5</td>\n",
              "      <td>3 Reviews , 2 Followers</td>\n",
              "      <td>5/24/2019 21:37</td>\n",
              "      <td>0</td>\n",
              "    </tr>\n",
              "  </tbody>\n",
              "</table>\n",
              "</div>\n",
              "      <button class=\"colab-df-convert\" onclick=\"convertToInteractive('df-b9b504bc-eabb-4a0e-b1f6-8bd50b1b2459')\"\n",
              "              title=\"Convert this dataframe to an interactive table.\"\n",
              "              style=\"display:none;\">\n",
              "        \n",
              "  <svg xmlns=\"http://www.w3.org/2000/svg\" height=\"24px\"viewBox=\"0 0 24 24\"\n",
              "       width=\"24px\">\n",
              "    <path d=\"M0 0h24v24H0V0z\" fill=\"none\"/>\n",
              "    <path d=\"M18.56 5.44l.94 2.06.94-2.06 2.06-.94-2.06-.94-.94-2.06-.94 2.06-2.06.94zm-11 1L8.5 8.5l.94-2.06 2.06-.94-2.06-.94L8.5 2.5l-.94 2.06-2.06.94zm10 10l.94 2.06.94-2.06 2.06-.94-2.06-.94-.94-2.06-.94 2.06-2.06.94z\"/><path d=\"M17.41 7.96l-1.37-1.37c-.4-.4-.92-.59-1.43-.59-.52 0-1.04.2-1.43.59L10.3 9.45l-7.72 7.72c-.78.78-.78 2.05 0 2.83L4 21.41c.39.39.9.59 1.41.59.51 0 1.02-.2 1.41-.59l7.78-7.78 2.81-2.81c.8-.78.8-2.07 0-2.86zM5.41 20L4 18.59l7.72-7.72 1.47 1.35L5.41 20z\"/>\n",
              "  </svg>\n",
              "      </button>\n",
              "      \n",
              "  <style>\n",
              "    .colab-df-container {\n",
              "      display:flex;\n",
              "      flex-wrap:wrap;\n",
              "      gap: 12px;\n",
              "    }\n",
              "\n",
              "    .colab-df-convert {\n",
              "      background-color: #E8F0FE;\n",
              "      border: none;\n",
              "      border-radius: 50%;\n",
              "      cursor: pointer;\n",
              "      display: none;\n",
              "      fill: #1967D2;\n",
              "      height: 32px;\n",
              "      padding: 0 0 0 0;\n",
              "      width: 32px;\n",
              "    }\n",
              "\n",
              "    .colab-df-convert:hover {\n",
              "      background-color: #E2EBFA;\n",
              "      box-shadow: 0px 1px 2px rgba(60, 64, 67, 0.3), 0px 1px 3px 1px rgba(60, 64, 67, 0.15);\n",
              "      fill: #174EA6;\n",
              "    }\n",
              "\n",
              "    [theme=dark] .colab-df-convert {\n",
              "      background-color: #3B4455;\n",
              "      fill: #D2E3FC;\n",
              "    }\n",
              "\n",
              "    [theme=dark] .colab-df-convert:hover {\n",
              "      background-color: #434B5C;\n",
              "      box-shadow: 0px 1px 3px 1px rgba(0, 0, 0, 0.15);\n",
              "      filter: drop-shadow(0px 1px 2px rgba(0, 0, 0, 0.3));\n",
              "      fill: #FFFFFF;\n",
              "    }\n",
              "  </style>\n",
              "\n",
              "      <script>\n",
              "        const buttonEl =\n",
              "          document.querySelector('#df-b9b504bc-eabb-4a0e-b1f6-8bd50b1b2459 button.colab-df-convert');\n",
              "        buttonEl.style.display =\n",
              "          google.colab.kernel.accessAllowed ? 'block' : 'none';\n",
              "\n",
              "        async function convertToInteractive(key) {\n",
              "          const element = document.querySelector('#df-b9b504bc-eabb-4a0e-b1f6-8bd50b1b2459');\n",
              "          const dataTable =\n",
              "            await google.colab.kernel.invokeFunction('convertToInteractive',\n",
              "                                                     [key], {});\n",
              "          if (!dataTable) return;\n",
              "\n",
              "          const docLinkHtml = 'Like what you see? Visit the ' +\n",
              "            '<a target=\"_blank\" href=https://colab.research.google.com/notebooks/data_table.ipynb>data table notebook</a>'\n",
              "            + ' to learn more about interactive tables.';\n",
              "          element.innerHTML = '';\n",
              "          dataTable['output_type'] = 'display_data';\n",
              "          await google.colab.output.renderOutput(dataTable, element);\n",
              "          const docLink = document.createElement('div');\n",
              "          docLink.innerHTML = docLinkHtml;\n",
              "          element.appendChild(docLink);\n",
              "        }\n",
              "      </script>\n",
              "    </div>\n",
              "  </div>\n",
              "  "
            ]
          },
          "metadata": {},
          "execution_count": 5
        }
      ]
    },
    {
      "cell_type": "markdown",
      "source": [
        "## Example Review with urls, html tags, empjis and other text noise"
      ],
      "metadata": {
        "id": "um4jwxs7w3r9"
      }
    },
    {
      "cell_type": "code",
      "source": [
        "text = u'<div><h1><Title>The apple π was [*][AMAZING][*] and YuMmY too\\U0001f602! You can Checkout the entire Menu in https://www.zomato.com/chennai/top-restaurants</div></h1></Title>'\n",
        "print(text)"
      ],
      "metadata": {
        "colab": {
          "base_uri": "https://localhost:8080/"
        },
        "id": "-D28Hu5YxeCt",
        "outputId": "ea803cd3-9058-47e3-ba61-4624bb3f43c0"
      },
      "execution_count": 10,
      "outputs": [
        {
          "output_type": "stream",
          "name": "stdout",
          "text": [
            "<div><h1><Title>The apple π was [*][AMAZING][*] and YuMmY too😂! You can Checkout the entire Menu in https://www.zomato.com/chennai/top-restaurants</div></h1></Title>\n"
          ]
        }
      ]
    },
    {
      "cell_type": "markdown",
      "source": [
        "### Removing HTML strips"
      ],
      "metadata": {
        "id": "vVuBBks7xfyM"
      }
    },
    {
      "cell_type": "code",
      "source": [
        "from bs4 import BeautifulSoup\n",
        "def strip_html(text):\n",
        "  soup = BeautifulSoup(text,\"html.parser\")\n",
        "  return soup.get_text()"
      ],
      "metadata": {
        "id": "LPwSl6T8xnWM"
      },
      "execution_count": 15,
      "outputs": []
    },
    {
      "cell_type": "code",
      "source": [
        "text = strip_html(text)\n",
        "print(text)"
      ],
      "metadata": {
        "colab": {
          "base_uri": "https://localhost:8080/"
        },
        "id": "JK_NEN0kx2FN",
        "outputId": "059fc732-cef3-44d6-974d-e9414a2e0b1b"
      },
      "execution_count": 16,
      "outputs": [
        {
          "output_type": "stream",
          "name": "stdout",
          "text": [
            "The apple π was [*][AMAZING][*] and YuMmY too😂! You can Checkout the entire Menu in https://www.zomato.com/chennai/top-restaurants\n"
          ]
        }
      ]
    },
    {
      "cell_type": "markdown",
      "source": [
        "Removed the html tags"
      ],
      "metadata": {
        "id": "C7gSzOfex6C7"
      }
    },
    {
      "cell_type": "markdown",
      "source": [
        "### Removing URLs"
      ],
      "metadata": {
        "id": "vQhwr1Z8y-jM"
      }
    },
    {
      "cell_type": "code",
      "source": [
        "import re\n",
        "text = re.sub(r\"http\\S+\",\"\",text)\n",
        "print(text)"
      ],
      "metadata": {
        "colab": {
          "base_uri": "https://localhost:8080/"
        },
        "id": "RESEvJ5zyA4c",
        "outputId": "4c57f2df-68b7-44d6-a655-65bad09a9669"
      },
      "execution_count": 17,
      "outputs": [
        {
          "output_type": "stream",
          "name": "stdout",
          "text": [
            "The apple π was [*][AMAZING][*] and YuMmY too😂! You can Checkout the entire Menu in \n"
          ]
        }
      ]
    },
    {
      "cell_type": "markdown",
      "source": [
        "### Removing emojis"
      ],
      "metadata": {
        "id": "SGK1a_Iaye6c"
      }
    },
    {
      "cell_type": "code",
      "source": [
        "def deEmojify(text):\n",
        "  regex_pattern = re.compile(pattern = \"[\"\n",
        "    u\"\\U0001F600-\\U0001F64F\"  #emoticons\n",
        "    u\"\\U0001F300-\\U0001F5FF\"  #miscellaneous symbols and pictographs\n",
        "    u\"\\U0001F680-\\U0001F6FF\"  #transport and map symbols\n",
        "    u\"\\U0001F1E0-\\U0001F1FF\"  #flags(ios))\n",
        "    \"]\", flags = re.UNICODE)\n",
        "  return regex_pattern.sub(r'',text)"
      ],
      "metadata": {
        "id": "Uwp7WEEOzAmb"
      },
      "execution_count": 23,
      "outputs": []
    },
    {
      "cell_type": "code",
      "source": [
        "text = deEmojify(text)\n",
        "print(text)"
      ],
      "metadata": {
        "colab": {
          "base_uri": "https://localhost:8080/"
        },
        "id": "RUniZSZh127r",
        "outputId": "e154047b-f86e-4a0d-beee-2a0c1f6e166f"
      },
      "execution_count": 25,
      "outputs": [
        {
          "output_type": "stream",
          "name": "stdout",
          "text": [
            "The apple π was [*][AMAZING][*] and YuMmY too! You can Checkout the entire Menu in \n"
          ]
        }
      ]
    },
    {
      "cell_type": "markdown",
      "source": [
        "### Text Encoding"
      ],
      "metadata": {
        "id": "THCSzJ1K2UxJ"
      }
    },
    {
      "cell_type": "code",
      "source": [
        "#Let's see what happens if we encode the text to utf-8 format\n",
        "text.encode('utf-8','ignore')"
      ],
      "metadata": {
        "colab": {
          "base_uri": "https://localhost:8080/"
        },
        "id": "sBwrN3xW28Ur",
        "outputId": "7662c1d1-ecb2-4c8b-97d1-79ba8665c3a0"
      },
      "execution_count": 26,
      "outputs": [
        {
          "output_type": "execute_result",
          "data": {
            "text/plain": [
              "b'The apple \\xcf\\x80 was [*][AMAZING][*] and YuMmY too! You can Checkout the entire Menu in '"
            ]
          },
          "metadata": {},
          "execution_count": 26
        }
      ]
    },
    {
      "cell_type": "markdown",
      "source": [
        "We can see that pi (maths function) gets converted to some \\xcf\\x80 IN UTF-8 FORMAT. Thats because unicode has all the universal codes."
      ],
      "metadata": {
        "id": "ONFrB3MO3GdK"
      }
    },
    {
      "cell_type": "markdown",
      "source": [
        "But we want to remove the 'pi' symbol so we encode it to ASCII as ASCII has only American characters encoding."
      ],
      "metadata": {
        "id": "akCNgnih3jTa"
      }
    },
    {
      "cell_type": "code",
      "source": [
        "text.encode('ascii','ignore')"
      ],
      "metadata": {
        "colab": {
          "base_uri": "https://localhost:8080/"
        },
        "id": "-hEfmZ8R4W6G",
        "outputId": "4fbdcd6f-c91d-4868-9229-42dd5dea5d39"
      },
      "execution_count": 27,
      "outputs": [
        {
          "output_type": "execute_result",
          "data": {
            "text/plain": [
              "b'The apple  was [*][AMAZING][*] and YuMmY too! You can Checkout the entire Menu in '"
            ]
          },
          "metadata": {},
          "execution_count": 27
        }
      ]
    },
    {
      "cell_type": "markdown",
      "source": [
        "ASCII removes the pi symbol as it doesn't get recognized."
      ],
      "metadata": {
        "id": "P1NhONtr4d75"
      }
    },
    {
      "cell_type": "code",
      "source": [
        "text = text.encode('ascii','ignore')\n",
        "print(text)"
      ],
      "metadata": {
        "colab": {
          "base_uri": "https://localhost:8080/"
        },
        "id": "KJMiNtz949Ap",
        "outputId": "af40bfed-6df1-4ca0-e393-d986b107eef7"
      },
      "execution_count": 28,
      "outputs": [
        {
          "output_type": "stream",
          "name": "stdout",
          "text": [
            "b'The apple  was [*][AMAZING][*] and YuMmY too! You can Checkout the entire Menu in '\n"
          ]
        }
      ]
    },
    {
      "cell_type": "markdown",
      "source": [
        "The 'b' in starting means it is now in Byte format."
      ],
      "metadata": {
        "id": "fLoXHvQc5F4a"
      }
    },
    {
      "cell_type": "code",
      "source": [
        "# Unicode encoding \n",
        "def to_unicode(text):\n",
        "    if isinstance(text, float):\n",
        "        text = str(text)\n",
        "    if isinstance(text, int):\n",
        "        text = str(text)\n",
        "    if not isinstance(text, str):\n",
        "        text = text.decode('utf-8', 'ignore')\n",
        "    return text"
      ],
      "metadata": {
        "id": "UPWrTX4S5zpN"
      },
      "execution_count": 29,
      "outputs": []
    },
    {
      "cell_type": "markdown",
      "source": [
        "The isinstance() function checks whether the given input is of the given type. In this case, it is being used to convert floats and int to string.  "
      ],
      "metadata": {
        "id": "oIwayM8c6OJ4"
      }
    },
    {
      "cell_type": "code",
      "source": [
        "text = to_unicode(text)\n",
        "print(text)"
      ],
      "metadata": {
        "colab": {
          "base_uri": "https://localhost:8080/"
        },
        "id": "5PScX9yI6RN5",
        "outputId": "ef253bab-a1a3-4d99-e4ad-4d0cf6a1cdff"
      },
      "execution_count": 30,
      "outputs": [
        {
          "output_type": "stream",
          "name": "stdout",
          "text": [
            "The apple  was [*][AMAZING][*] and YuMmY too! You can Checkout the entire Menu in \n"
          ]
        }
      ]
    },
    {
      "cell_type": "markdown",
      "source": [
        "### Removing Symbols"
      ],
      "metadata": {
        "id": "9F7kWdTt6VMn"
      }
    },
    {
      "cell_type": "code",
      "source": [
        "import re,string\n",
        "\n",
        "def remove_between_square_brackets(text):\n",
        "  return re.sub('\\[|\\]|\\*','',text)"
      ],
      "metadata": {
        "id": "zyH-hVTX6ZhY"
      },
      "execution_count": 31,
      "outputs": []
    },
    {
      "cell_type": "code",
      "source": [
        "text = remove_between_square_brackets(text)\n",
        "print(text)"
      ],
      "metadata": {
        "colab": {
          "base_uri": "https://localhost:8080/"
        },
        "id": "K7Mn1lC27vIK",
        "outputId": "2602cf49-871f-4260-f344-e8ea4ef42b92"
      },
      "execution_count": 33,
      "outputs": [
        {
          "output_type": "stream",
          "name": "stdout",
          "text": [
            "The apple  was AMAZING and YuMmY too! You can Checkout the entire Menu in \n"
          ]
        }
      ]
    },
    {
      "cell_type": "markdown",
      "source": [
        "### Removing Special Characters"
      ],
      "metadata": {
        "id": "R5JmweRK7y_J"
      }
    },
    {
      "cell_type": "code",
      "source": [
        "def remove_special_characters(text,remove_digits=True):\n",
        "  pattern = r'[^a-zA-Z0-9\\s]'\n",
        "  text = re.sub(pattern,'',text)\n",
        "  return text"
      ],
      "metadata": {
        "id": "3Pua1Wkk76w5"
      },
      "execution_count": 34,
      "outputs": []
    },
    {
      "cell_type": "code",
      "source": [
        "text = remove_special_characters(text)\n",
        "print(text)"
      ],
      "metadata": {
        "colab": {
          "base_uri": "https://localhost:8080/"
        },
        "id": "QeL6qNgX8KwZ",
        "outputId": "82902826-0011-46fb-a12d-768fa7a8a239"
      },
      "execution_count": 35,
      "outputs": [
        {
          "output_type": "stream",
          "name": "stdout",
          "text": [
            "The apple  was AMAZING and YuMmY too You can Checkout the entire Menu in \n"
          ]
        }
      ]
    },
    {
      "cell_type": "markdown",
      "source": [
        "### Lowercase conversion"
      ],
      "metadata": {
        "id": "4ACQe5nH8RRn"
      }
    },
    {
      "cell_type": "code",
      "source": [
        "text = text.lower()\n",
        "print(text)"
      ],
      "metadata": {
        "colab": {
          "base_uri": "https://localhost:8080/"
        },
        "id": "7AwkDrUf8VeJ",
        "outputId": "e85c2f42-a293-4189-c365-40cfed45553d"
      },
      "execution_count": 36,
      "outputs": [
        {
          "output_type": "stream",
          "name": "stdout",
          "text": [
            "the apple  was amazing and yummy too you can checkout the entire menu in \n"
          ]
        }
      ]
    },
    {
      "cell_type": "markdown",
      "source": [
        "## Preprocessing Zomato reviews"
      ],
      "metadata": {
        "id": "WhRQrMua8YdZ"
      }
    },
    {
      "cell_type": "code",
      "source": [
        "#Collating all functions together and applying it for the zomato reviews dataset\n",
        "def strip_html(text):\n",
        "    soup = BeautifulSoup(text, \"html.parser\")\n",
        "    return soup.get_text()\n",
        "\n",
        "def deEmojify(text):\n",
        "    regrex_pattern = re.compile(pattern = \"[\"\n",
        "        u\"\\U0001F600-\\U0001F64F\"  # emoticons\n",
        "        u\"\\U0001F300-\\U0001F5FF\"  # symbols & pictographs\n",
        "        u\"\\U0001F680-\\U0001F6FF\"  # transport & map symbols\n",
        "        u\"\\U0001F1E0-\\U0001F1FF\"  # flags (iOS)\n",
        "                           \"]+\", flags = re.UNICODE)\n",
        "    return regrex_pattern.sub(r'',text)\n",
        "\n",
        "def to_unicode(text):\n",
        "    if isinstance(text, float):\n",
        "        text = str(text)\n",
        "    if isinstance(text, int):\n",
        "        text = str(text)\n",
        "    if not isinstance(text, str):\n",
        "        text = text.decode('utf-8', 'ignore')\n",
        "    return text\n",
        "\n",
        "#Removing the square brackets\n",
        "def remove_between_square_brackets(text):\n",
        "    return re.sub('\\[|\\]|\\*', '', text)\n",
        "\n",
        "\n",
        "#Define function for removing special characters\n",
        "def remove_special_characters(text, remove_digits=True):\n",
        "    pattern=r'[^a-zA-z0-9\\s]'\n",
        "    text=re.sub(pattern,' ',text)\n",
        "    return text\n",
        "\n",
        "def denoise_text(text):\n",
        "  text = to_unicode(text)\n",
        "  text = strip_html(text)\n",
        "  text = re.sub(r\"http\\S+\", \"\", text)\n",
        "  text = deEmojify(text)\n",
        "  text = text.encode('ascii', 'ignore')\n",
        "  text = to_unicode(text)\n",
        "  text = remove_between_square_brackets(text)\n",
        "  text = remove_special_characters(text)\n",
        "  text = text.lower()\n",
        "  return text"
      ],
      "metadata": {
        "id": "mXxsH-jM8gvI"
      },
      "execution_count": 47,
      "outputs": []
    },
    {
      "cell_type": "code",
      "source": [
        "#Let's try the denoise on random review\n",
        "zomato['Review'][300]"
      ],
      "metadata": {
        "colab": {
          "base_uri": "https://localhost:8080/",
          "height": 36
        },
        "id": "bqctHNmh8xwn",
        "outputId": "a2f15e96-f0e4-4f12-a3ee-6028bf72927f"
      },
      "execution_count": 50,
      "outputs": [
        {
          "output_type": "execute_result",
          "data": {
            "text/plain": [
              "'Haleem, the best place to try out.\\nAvaialble in all multiple outlets.\\nHaleem, usually found in the Ramdan season, months of march to July served by Shah ghouse and badam kheer are must try'"
            ],
            "application/vnd.google.colaboratory.intrinsic+json": {
              "type": "string"
            }
          },
          "metadata": {},
          "execution_count": 50
        }
      ]
    },
    {
      "cell_type": "code",
      "source": [
        "tempText = denoise_text(zomato['Review'][300])\n",
        "print(tempText)"
      ],
      "metadata": {
        "colab": {
          "base_uri": "https://localhost:8080/"
        },
        "id": "UNcNbIBP8zqX",
        "outputId": "14e9e947-18d2-4391-f876-1673d7301fc3"
      },
      "execution_count": 51,
      "outputs": [
        {
          "output_type": "stream",
          "name": "stdout",
          "text": [
            "haleem  the best place to try out \n",
            "avaialble in all multiple outlets \n",
            "haleem  usually found in the ramdan season  months of march to july served by shah ghouse and badam kheer are must try\n"
          ]
        }
      ]
    },
    {
      "cell_type": "code",
      "source": [
        "#Applying the function on review column\n",
        "zomato['Review'] = zomato['Review'].apply(denoise_text)\n",
        "zomato['Review'].head()"
      ],
      "metadata": {
        "colab": {
          "base_uri": "https://localhost:8080/"
        },
        "id": "0bqBSdQV9JRo",
        "outputId": "3fce7201-f676-4a33-a72b-dd3392563205"
      },
      "execution_count": 52,
      "outputs": [
        {
          "output_type": "execute_result",
          "data": {
            "text/plain": [
              "0    the ambience was good  food was quite good   h...\n",
              "1    ambience is too good for a pleasant evening  s...\n",
              "2    a must try   great food great ambience  thnx f...\n",
              "3    soumen das and arun was a great guy  only beca...\n",
              "4    food is good we ordered kodi drumsticks and ba...\n",
              "Name: Review, dtype: object"
            ]
          },
          "metadata": {},
          "execution_count": 52
        }
      ]
    },
    {
      "cell_type": "code",
      "source": [
        "#Processed example of randomly selected review\n",
        "zomato['Review'][111]"
      ],
      "metadata": {
        "colab": {
          "base_uri": "https://localhost:8080/",
          "height": 55
        },
        "id": "wz2tUGHm-eK3",
        "outputId": "d3ebbee9-a46e-4546-f07c-d3223f6c0287"
      },
      "execution_count": 53,
      "outputs": [
        {
          "output_type": "execute_result",
          "data": {
            "text/plain": [
              "'we ordered tandoori chicken as starters that s very tasty and light and then butter naan with mutton masala and as main course we ordered chicken biryani  egg and mutton biryani those are very very tasty and light mutton piecs cooked with perfection'"
            ],
            "application/vnd.google.colaboratory.intrinsic+json": {
              "type": "string"
            }
          },
          "metadata": {},
          "execution_count": 53
        }
      ]
    },
    {
      "cell_type": "markdown",
      "source": [
        "## Removing stopwords"
      ],
      "metadata": {
        "id": "0jhHoIdb-knn"
      }
    },
    {
      "cell_type": "markdown",
      "source": [
        "The following is the pseudo code of removing the stop words from reviews. \n",
        "\n",
        "Separate the reviews into words.\n",
        "We use the toktok tokeniser from the NLTK library to split the review sentences into a list of words. \n",
        "\n",
        "From the list of words, check each word to see if it belongs to the stop words list from NLTK. \n",
        "\n",
        "If the word is present in the stop words list, then do nothing; if not, add it to a new list. \n",
        "\n",
        "Combine the words from the new list to convert the list of words into a sentence. "
      ],
      "metadata": {
        "id": "zX7HK9-bB3JV"
      }
    },
    {
      "cell_type": "code",
      "source": [
        "#Libraries\n",
        "from nltk.corpus import stopwords\n",
        "from nltk.tokenize.toktok import ToktokTokenizer"
      ],
      "metadata": {
        "id": "8a0CPL24-q5o"
      },
      "execution_count": 55,
      "outputs": []
    },
    {
      "cell_type": "code",
      "source": [
        "#Tokenization of text\n",
        "tokenizer = ToktokTokenizer()"
      ],
      "metadata": {
        "id": "VsqTbxXb-yJG"
      },
      "execution_count": 57,
      "outputs": []
    },
    {
      "cell_type": "code",
      "source": [
        "#Setting English stopwords\n",
        "stopword_list = nltk.corpus.stopwords.words('english')\n",
        "\n",
        "#Removing standard english stop words like prepositions, adverbs\n",
        "from nltk.tokenize import word_tokenize,sent_tokenize\n",
        "stop = set(stopwords.words('english'))\n",
        "print(stop)"
      ],
      "metadata": {
        "colab": {
          "base_uri": "https://localhost:8080/"
        },
        "id": "eryOsAsqBaHV",
        "outputId": "381d44bb-5d51-4c71-a514-6cd69b3c1ee4"
      },
      "execution_count": 59,
      "outputs": [
        {
          "output_type": "stream",
          "name": "stdout",
          "text": [
            "{'once', 'our', 'me', 'ourselves', 'did', 'such', 'of', 'his', \"she's\", 's', \"you'll\", 'don', 'been', 'shouldn', 'this', 'about', 'have', 'doesn', 've', 'it', 'until', \"wouldn't\", \"should've\", 'mustn', 'wouldn', 'am', 'again', 'if', 'you', 'then', 'its', 'with', 'yourselves', 'she', 'down', 'where', 'no', \"hadn't\", 'will', 'what', 'they', 'how', 'myself', \"that'll\", \"couldn't\", 'some', 'here', 'won', 'after', 'couldn', 'himself', 'an', 'on', 'ain', \"it's\", 'isn', 'are', 'there', 'very', 'yours', 'nor', 'under', 'from', \"wasn't\", \"shan't\", 'by', 'i', 'll', 'mightn', \"needn't\", \"won't\", 'hasn', 'themselves', 'we', 'hadn', \"didn't\", \"you're\", 'has', \"don't\", 'ma', \"shouldn't\", 'o', 'than', 'ours', \"weren't\", 'be', 'he', 'who', 'into', 'her', 'that', 'doing', 'above', 'against', 'both', 'too', \"hasn't\", 'because', 'same', 'why', 'when', 'didn', 'these', 'at', 'him', 'having', 'any', 'during', 'other', 'can', 'out', 'while', 't', 'wasn', 'those', 'few', 'itself', 're', 'which', 'my', 'below', 'their', 'not', 'only', 'but', 'now', \"aren't\", 'does', 'up', 'over', 'the', 'shan', 'aren', 'each', \"you'd\", 'm', 'is', 'were', 'should', \"mightn't\", 'in', 'further', \"mustn't\", 'and', 'before', 'had', \"doesn't\", 'your', 'needn', 'do', 'or', 'd', \"isn't\", 'just', 'y', 'off', 'so', 'them', 'own', 'for', 'between', 'all', \"haven't\", 'to', 'theirs', 'haven', 'hers', 'being', 'was', 'a', 'through', 'herself', 'most', 'as', \"you've\", 'yourself', 'weren', 'more', 'whom'}\n"
          ]
        }
      ]
    },
    {
      "cell_type": "code",
      "source": [
        "stopword_list"
      ],
      "metadata": {
        "colab": {
          "base_uri": "https://localhost:8080/"
        },
        "id": "w4vYrzs9CZbG",
        "outputId": "586ebe42-c816-45a4-9ee5-ad51caf147f7"
      },
      "execution_count": 60,
      "outputs": [
        {
          "output_type": "execute_result",
          "data": {
            "text/plain": [
              "['i',\n",
              " 'me',\n",
              " 'my',\n",
              " 'myself',\n",
              " 'we',\n",
              " 'our',\n",
              " 'ours',\n",
              " 'ourselves',\n",
              " 'you',\n",
              " \"you're\",\n",
              " \"you've\",\n",
              " \"you'll\",\n",
              " \"you'd\",\n",
              " 'your',\n",
              " 'yours',\n",
              " 'yourself',\n",
              " 'yourselves',\n",
              " 'he',\n",
              " 'him',\n",
              " 'his',\n",
              " 'himself',\n",
              " 'she',\n",
              " \"she's\",\n",
              " 'her',\n",
              " 'hers',\n",
              " 'herself',\n",
              " 'it',\n",
              " \"it's\",\n",
              " 'its',\n",
              " 'itself',\n",
              " 'they',\n",
              " 'them',\n",
              " 'their',\n",
              " 'theirs',\n",
              " 'themselves',\n",
              " 'what',\n",
              " 'which',\n",
              " 'who',\n",
              " 'whom',\n",
              " 'this',\n",
              " 'that',\n",
              " \"that'll\",\n",
              " 'these',\n",
              " 'those',\n",
              " 'am',\n",
              " 'is',\n",
              " 'are',\n",
              " 'was',\n",
              " 'were',\n",
              " 'be',\n",
              " 'been',\n",
              " 'being',\n",
              " 'have',\n",
              " 'has',\n",
              " 'had',\n",
              " 'having',\n",
              " 'do',\n",
              " 'does',\n",
              " 'did',\n",
              " 'doing',\n",
              " 'a',\n",
              " 'an',\n",
              " 'the',\n",
              " 'and',\n",
              " 'but',\n",
              " 'if',\n",
              " 'or',\n",
              " 'because',\n",
              " 'as',\n",
              " 'until',\n",
              " 'while',\n",
              " 'of',\n",
              " 'at',\n",
              " 'by',\n",
              " 'for',\n",
              " 'with',\n",
              " 'about',\n",
              " 'against',\n",
              " 'between',\n",
              " 'into',\n",
              " 'through',\n",
              " 'during',\n",
              " 'before',\n",
              " 'after',\n",
              " 'above',\n",
              " 'below',\n",
              " 'to',\n",
              " 'from',\n",
              " 'up',\n",
              " 'down',\n",
              " 'in',\n",
              " 'out',\n",
              " 'on',\n",
              " 'off',\n",
              " 'over',\n",
              " 'under',\n",
              " 'again',\n",
              " 'further',\n",
              " 'then',\n",
              " 'once',\n",
              " 'here',\n",
              " 'there',\n",
              " 'when',\n",
              " 'where',\n",
              " 'why',\n",
              " 'how',\n",
              " 'all',\n",
              " 'any',\n",
              " 'both',\n",
              " 'each',\n",
              " 'few',\n",
              " 'more',\n",
              " 'most',\n",
              " 'other',\n",
              " 'some',\n",
              " 'such',\n",
              " 'no',\n",
              " 'nor',\n",
              " 'not',\n",
              " 'only',\n",
              " 'own',\n",
              " 'same',\n",
              " 'so',\n",
              " 'than',\n",
              " 'too',\n",
              " 'very',\n",
              " 's',\n",
              " 't',\n",
              " 'can',\n",
              " 'will',\n",
              " 'just',\n",
              " 'don',\n",
              " \"don't\",\n",
              " 'should',\n",
              " \"should've\",\n",
              " 'now',\n",
              " 'd',\n",
              " 'll',\n",
              " 'm',\n",
              " 'o',\n",
              " 're',\n",
              " 've',\n",
              " 'y',\n",
              " 'ain',\n",
              " 'aren',\n",
              " \"aren't\",\n",
              " 'couldn',\n",
              " \"couldn't\",\n",
              " 'didn',\n",
              " \"didn't\",\n",
              " 'doesn',\n",
              " \"doesn't\",\n",
              " 'hadn',\n",
              " \"hadn't\",\n",
              " 'hasn',\n",
              " \"hasn't\",\n",
              " 'haven',\n",
              " \"haven't\",\n",
              " 'isn',\n",
              " \"isn't\",\n",
              " 'ma',\n",
              " 'mightn',\n",
              " \"mightn't\",\n",
              " 'mustn',\n",
              " \"mustn't\",\n",
              " 'needn',\n",
              " \"needn't\",\n",
              " 'shan',\n",
              " \"shan't\",\n",
              " 'shouldn',\n",
              " \"shouldn't\",\n",
              " 'wasn',\n",
              " \"wasn't\",\n",
              " 'weren',\n",
              " \"weren't\",\n",
              " 'won',\n",
              " \"won't\",\n",
              " 'wouldn',\n",
              " \"wouldn't\"]"
            ]
          },
          "metadata": {},
          "execution_count": 60
        }
      ]
    },
    {
      "cell_type": "code",
      "source": [
        "#Removing the stopwords\n",
        "def remove_stopwords(text,is_lower_case=False):\n",
        "  tokens = tokenizer.tokenize(text)\n",
        "  tokens = [token.strip() for token in tokens]\n",
        "  if is_lower_case:\n",
        "    filtered_tokens = [token for token in tokens if token not in stopword_list]\n",
        "  else:\n",
        "    filtered_tokens = [token for token in tokens if token.lower() not in stopword_list]\n",
        "  filtered_text = ' '.join(filtered_tokens)\n",
        "  return filtered_text"
      ],
      "metadata": {
        "id": "BUp78NUfCf9m"
      },
      "execution_count": 61,
      "outputs": []
    },
    {
      "cell_type": "code",
      "source": [
        "zomato['Review'][678]"
      ],
      "metadata": {
        "colab": {
          "base_uri": "https://localhost:8080/",
          "height": 55
        },
        "id": "DfqTb3HADug2",
        "outputId": "9a96d9e3-0cd1-4a91-ec07-152ca0f10c6b"
      },
      "execution_count": 64,
      "outputs": [
        {
          "output_type": "execute_result",
          "data": {
            "text/plain": [
              "'you need to improve your packing  had ordered veg thai green curry with rice  by the time it was delivered to me  curry had splashed all over the container   even leaking from package  zomato delivery person said it leaked while getting it  had second thoughts abt whether to consume it or not '"
            ],
            "application/vnd.google.colaboratory.intrinsic+json": {
              "type": "string"
            }
          },
          "metadata": {},
          "execution_count": 64
        }
      ]
    },
    {
      "cell_type": "code",
      "source": [
        "remove_stopwords(zomato['Review'][678])"
      ],
      "metadata": {
        "colab": {
          "base_uri": "https://localhost:8080/",
          "height": 36
        },
        "id": "66IKmYIeDceH",
        "outputId": "53e55c22-3d01-4836-ea38-13a6c40ab32e"
      },
      "execution_count": 63,
      "outputs": [
        {
          "output_type": "execute_result",
          "data": {
            "text/plain": [
              "'need improve packing ordered veg thai green curry rice time delivered curry splashed container even leaking package zomato delivery person said leaked getting second thoughts abt whether consume'"
            ],
            "application/vnd.google.colaboratory.intrinsic+json": {
              "type": "string"
            }
          },
          "metadata": {},
          "execution_count": 63
        }
      ]
    },
    {
      "cell_type": "code",
      "source": [
        "#Apply function on review column\n",
        "zomato['Review']=zomato['Review'].apply(remove_stopwords)"
      ],
      "metadata": {
        "id": "eGZ7J1VpDm-l"
      },
      "execution_count": 65,
      "outputs": []
    },
    {
      "cell_type": "code",
      "source": [
        "#Processed example of randomly selected review text\n",
        "zomato['Review'][300]"
      ],
      "metadata": {
        "colab": {
          "base_uri": "https://localhost:8080/",
          "height": 36
        },
        "id": "BQpglPz5KJkK",
        "outputId": "85b0b69f-54be-469b-f924-25ce92194665"
      },
      "execution_count": 67,
      "outputs": [
        {
          "output_type": "execute_result",
          "data": {
            "text/plain": [
              "'haleem best place try avaialble multiple outlets haleem usually found ramdan season months march july served shah ghouse badam kheer must try'"
            ],
            "application/vnd.google.colaboratory.intrinsic+json": {
              "type": "string"
            }
          },
          "metadata": {},
          "execution_count": 67
        }
      ]
    },
    {
      "cell_type": "markdown",
      "source": [
        "## Stemming and Lemmatization"
      ],
      "metadata": {
        "id": "VXbehjuGKLAD"
      }
    },
    {
      "cell_type": "code",
      "source": [
        "from nltk.stem import WordNetLemmatizer, SnowballStemmer\n",
        "from nltk.stem.porter import PorterStemmer\n",
        "def simple_stemmer(text):\n",
        "  ps = SnowballStemmer(language='english')\n",
        "  return ' '.join([ps.stem(word) for word in tokenizer.tokenize(text)])"
      ],
      "metadata": {
        "id": "mPkdJGsaKSKD"
      },
      "execution_count": 68,
      "outputs": []
    },
    {
      "cell_type": "code",
      "source": [
        "zomato['Review'][1]"
      ],
      "metadata": {
        "colab": {
          "base_uri": "https://localhost:8080/",
          "height": 36
        },
        "id": "VBTQkaB7K1_0",
        "outputId": "5b4985cc-c075-49a4-9088-78644c1e6e5b"
      },
      "execution_count": 69,
      "outputs": [
        {
          "output_type": "execute_result",
          "data": {
            "text/plain": [
              "'ambience good pleasant evening service prompt food good good experience soumen das kudos service'"
            ],
            "application/vnd.google.colaboratory.intrinsic+json": {
              "type": "string"
            }
          },
          "metadata": {},
          "execution_count": 69
        }
      ]
    },
    {
      "cell_type": "code",
      "source": [
        "simple_stemmer(zomato['Review'][1])"
      ],
      "metadata": {
        "colab": {
          "base_uri": "https://localhost:8080/",
          "height": 36
        },
        "id": "FCwj9TIWK46y",
        "outputId": "79cbe4a2-ac80-417b-a2f4-cc77d0e94720"
      },
      "execution_count": 70,
      "outputs": [
        {
          "output_type": "execute_result",
          "data": {
            "text/plain": [
              "'ambienc good pleasant even servic prompt food good good experi soumen das kudo servic'"
            ],
            "application/vnd.google.colaboratory.intrinsic+json": {
              "type": "string"
            }
          },
          "metadata": {},
          "execution_count": 70
        }
      ]
    },
    {
      "cell_type": "code",
      "source": [
        "from nltk.tag import pos_tag\n",
        "from nltk.tokenize import word_tokenize\n",
        "nltk.download('punkt')\n",
        "nltk.download('averaged_perceptron_tagger')\n",
        "nltk.download('wordnet')\n",
        "nltk.download('omw-1.4')\n",
        "#Lemmatizer example\n",
        "def lemmatize_all(sentence):\n",
        "  wnl = WordNetLemmatizer()\n",
        "  for word,tag in pos_tag(word_tokenize(sentence)):\n",
        "    if tag.startswith(\"NN\"):\n",
        "      yield wnl.lemmatize(word, pos='n')\n",
        "    elif tag.startswith('VB'):\n",
        "            yield wnl.lemmatize(word, pos='v')\n",
        "    elif tag.startswith('JJ'):\n",
        "        yield wnl.lemmatize(word, pos='a')\n",
        "    else:\n",
        "        yield word\n",
        "\n",
        "def lemmatize_text(text):\n",
        "    return ' '.join(lemmatize_all(text))"
      ],
      "metadata": {
        "colab": {
          "base_uri": "https://localhost:8080/"
        },
        "id": "3_N3hv7tK7MR",
        "outputId": "28a1aa65-8e8e-4121-dc8e-f72a480c8bb4"
      },
      "execution_count": 77,
      "outputs": [
        {
          "output_type": "stream",
          "name": "stderr",
          "text": [
            "[nltk_data] Downloading package punkt to /root/nltk_data...\n",
            "[nltk_data]   Package punkt is already up-to-date!\n",
            "[nltk_data] Downloading package averaged_perceptron_tagger to\n",
            "[nltk_data]     /root/nltk_data...\n",
            "[nltk_data]   Package averaged_perceptron_tagger is already up-to-\n",
            "[nltk_data]       date!\n",
            "[nltk_data] Downloading package wordnet to /root/nltk_data...\n",
            "[nltk_data]   Package wordnet is already up-to-date!\n",
            "[nltk_data] Downloading package omw-1.4 to /root/nltk_data...\n"
          ]
        }
      ]
    },
    {
      "cell_type": "code",
      "source": [
        "zomato['Review'][1]"
      ],
      "metadata": {
        "colab": {
          "base_uri": "https://localhost:8080/",
          "height": 36
        },
        "id": "mXUifxomLlAN",
        "outputId": "5a835f79-579d-41ed-d316-a9fcd6f0a99a"
      },
      "execution_count": 75,
      "outputs": [
        {
          "output_type": "execute_result",
          "data": {
            "text/plain": [
              "'ambience good pleasant evening service prompt food good good experience soumen das kudos service'"
            ],
            "application/vnd.google.colaboratory.intrinsic+json": {
              "type": "string"
            }
          },
          "metadata": {},
          "execution_count": 75
        }
      ]
    },
    {
      "cell_type": "code",
      "source": [
        "lemmatize_text(zomato['Review'][1])"
      ],
      "metadata": {
        "colab": {
          "base_uri": "https://localhost:8080/",
          "height": 36
        },
        "id": "EcLEZhrILnYw",
        "outputId": "70743ba3-9b44-4c62-a5ca-7ff78a94a89f"
      },
      "execution_count": 78,
      "outputs": [
        {
          "output_type": "execute_result",
          "data": {
            "text/plain": [
              "'ambience good pleasant even service prompt food good good experience soumen das kudos service'"
            ],
            "application/vnd.google.colaboratory.intrinsic+json": {
              "type": "string"
            }
          },
          "metadata": {},
          "execution_count": 78
        }
      ]
    },
    {
      "cell_type": "code",
      "source": [
        "#Raw example of randomly selected review text\n",
        "zomato['Review'][456]"
      ],
      "metadata": {
        "colab": {
          "base_uri": "https://localhost:8080/",
          "height": 36
        },
        "id": "oe7L2NETLoex",
        "outputId": "963dbf78-7411-45ee-93cb-cbc74371ef3a"
      },
      "execution_count": 79,
      "outputs": [
        {
          "output_type": "execute_result",
          "data": {
            "text/plain": [
              "'food ambience nice chiken chettinadu chicken pulao toooo good beer vodka appreciate kamal quick sevice'"
            ],
            "application/vnd.google.colaboratory.intrinsic+json": {
              "type": "string"
            }
          },
          "metadata": {},
          "execution_count": 79
        }
      ]
    },
    {
      "cell_type": "code",
      "source": [
        "#Apply Lemmatization\n",
        "zomato['Review'] = zomato['Review'].apply(lemmatize_text)"
      ],
      "metadata": {
        "id": "O1OG6uipL95R"
      },
      "execution_count": 80,
      "outputs": []
    },
    {
      "cell_type": "code",
      "source": [
        "#Processed example of randomly selected review text\n",
        "zomato['Review'][456]"
      ],
      "metadata": {
        "colab": {
          "base_uri": "https://localhost:8080/",
          "height": 36
        },
        "id": "IRSB9AM7MC7C",
        "outputId": "85b3c2d8-0a74-4ed1-ce3c-d7c585782d97"
      },
      "execution_count": 81,
      "outputs": [
        {
          "output_type": "execute_result",
          "data": {
            "text/plain": [
              "'food ambience nice chiken chettinadu chicken pulao toooo good beer vodka appreciate kamal quick sevice'"
            ],
            "application/vnd.google.colaboratory.intrinsic+json": {
              "type": "string"
            }
          },
          "metadata": {},
          "execution_count": 81
        }
      ]
    },
    {
      "cell_type": "markdown",
      "source": [
        "in lemmatisation, first, you pass the complete text to the parts of speech tagger, post which each word will have a part of speech attached with it. Now you can tokenise the text and lemmatise it. For each word to be converted to its lemma, you need the word itself and its POS tag. Although the results obtained using a lemmatiser are more accurate, it uses a significantly larger amount of computation resources."
      ],
      "metadata": {
        "id": "GIUwOyuPMcsz"
      }
    },
    {
      "cell_type": "markdown",
      "source": [
        "## Creating features using Bag of Words model"
      ],
      "metadata": {
        "id": "u9VntblvMeUB"
      }
    },
    {
      "cell_type": "code",
      "source": [
        "#Transformed reviews\n",
        "norm_reviews = zomato.Review"
      ],
      "metadata": {
        "id": "TTgQbRufN5Bg"
      },
      "execution_count": 82,
      "outputs": []
    },
    {
      "cell_type": "code",
      "source": [
        "norm_reviews"
      ],
      "metadata": {
        "colab": {
          "base_uri": "https://localhost:8080/"
        },
        "id": "w0h5TQJoOBUi",
        "outputId": "b2e344ce-49cf-43db-86e5-7cfa7f413b31"
      },
      "execution_count": 83,
      "outputs": [
        {
          "output_type": "execute_result",
          "data": {
            "text/plain": [
              "0       ambience good food quite good saturday lunch c...\n",
              "1       ambience good pleasant even service prompt foo...\n",
              "2       must try great food great ambience thnx servic...\n",
              "3       soumen das arun great guy behavior sincerety g...\n",
              "4       food good order kodi drumstick basket mutton b...\n",
              "                              ...                        \n",
              "9995    madhumathi mahajan well start nice courteous s...\n",
              "9996    place never disappoint us food courteous staff...\n",
              "9997    bad rating mainly chicken bone find veg food a...\n",
              "9998    personally love prefer chinese food couple tim...\n",
              "9999    check try delicious chinese food see non veg l...\n",
              "Name: Review, Length: 10000, dtype: object"
            ]
          },
          "metadata": {},
          "execution_count": 83
        }
      ]
    },
    {
      "cell_type": "code",
      "source": [
        "zomato"
      ],
      "metadata": {
        "colab": {
          "base_uri": "https://localhost:8080/",
          "height": 423
        },
        "id": "vP-bX9rUODCQ",
        "outputId": "ca523875-a9b8-4a2d-e566-f941763d24ef"
      },
      "execution_count": 84,
      "outputs": [
        {
          "output_type": "execute_result",
          "data": {
            "text/plain": [
              "            Restaurant              Reviewer  \\\n",
              "0      Beyond Flavours     Rusha Chakraborty   \n",
              "1      Beyond Flavours  Anusha Tirumalaneedi   \n",
              "2      Beyond Flavours       Ashok Shekhawat   \n",
              "3      Beyond Flavours        Swapnil Sarkar   \n",
              "4      Beyond Flavours                Dileep   \n",
              "...                ...                   ...   \n",
              "9995  Chinese Pavilion      Abhishek Mahajan   \n",
              "9996  Chinese Pavilion        Sharad Agrawal   \n",
              "9997  Chinese Pavilion             Ramandeep   \n",
              "9998  Chinese Pavilion       Nayana Shanbhag   \n",
              "9999  Chinese Pavilion      Bhargava Krishna   \n",
              "\n",
              "                                                 Review Rating  \\\n",
              "0     ambience good food quite good saturday lunch c...      5   \n",
              "1     ambience good pleasant even service prompt foo...      5   \n",
              "2     must try great food great ambience thnx servic...      5   \n",
              "3     soumen das arun great guy behavior sincerety g...      5   \n",
              "4     food good order kodi drumstick basket mutton b...      5   \n",
              "...                                                 ...    ...   \n",
              "9995  madhumathi mahajan well start nice courteous s...      3   \n",
              "9996  place never disappoint us food courteous staff...    4.5   \n",
              "9997  bad rating mainly chicken bone find veg food a...    1.5   \n",
              "9998  personally love prefer chinese food couple tim...      4   \n",
              "9999  check try delicious chinese food see non veg l...    3.5   \n",
              "\n",
              "                          Metadata             Time  Pictures  \n",
              "0           1 Review , 2 Followers  5/25/2019 15:54         0  \n",
              "1          3 Reviews , 2 Followers  5/25/2019 14:20         0  \n",
              "2          2 Reviews , 3 Followers  5/24/2019 22:54         0  \n",
              "3            1 Review , 1 Follower  5/24/2019 22:11         0  \n",
              "4          3 Reviews , 2 Followers  5/24/2019 21:37         0  \n",
              "...                            ...              ...       ...  \n",
              "9995     53 Reviews , 54 Followers    6/5/2016 0:08         0  \n",
              "9996      2 Reviews , 53 Followers   6/4/2016 22:01         0  \n",
              "9997    65 Reviews , 423 Followers   6/3/2016 10:37         3  \n",
              "9998    13 Reviews , 144 Followers  5/31/2016 17:22         0  \n",
              "9999  472 Reviews , 1302 Followers  5/31/2016 16:41         6  \n",
              "\n",
              "[10000 rows x 7 columns]"
            ],
            "text/html": [
              "\n",
              "  <div id=\"df-2e412b66-fbb6-4844-8554-ac75500fef73\">\n",
              "    <div class=\"colab-df-container\">\n",
              "      <div>\n",
              "<style scoped>\n",
              "    .dataframe tbody tr th:only-of-type {\n",
              "        vertical-align: middle;\n",
              "    }\n",
              "\n",
              "    .dataframe tbody tr th {\n",
              "        vertical-align: top;\n",
              "    }\n",
              "\n",
              "    .dataframe thead th {\n",
              "        text-align: right;\n",
              "    }\n",
              "</style>\n",
              "<table border=\"1\" class=\"dataframe\">\n",
              "  <thead>\n",
              "    <tr style=\"text-align: right;\">\n",
              "      <th></th>\n",
              "      <th>Restaurant</th>\n",
              "      <th>Reviewer</th>\n",
              "      <th>Review</th>\n",
              "      <th>Rating</th>\n",
              "      <th>Metadata</th>\n",
              "      <th>Time</th>\n",
              "      <th>Pictures</th>\n",
              "    </tr>\n",
              "  </thead>\n",
              "  <tbody>\n",
              "    <tr>\n",
              "      <th>0</th>\n",
              "      <td>Beyond Flavours</td>\n",
              "      <td>Rusha Chakraborty</td>\n",
              "      <td>ambience good food quite good saturday lunch c...</td>\n",
              "      <td>5</td>\n",
              "      <td>1 Review , 2 Followers</td>\n",
              "      <td>5/25/2019 15:54</td>\n",
              "      <td>0</td>\n",
              "    </tr>\n",
              "    <tr>\n",
              "      <th>1</th>\n",
              "      <td>Beyond Flavours</td>\n",
              "      <td>Anusha Tirumalaneedi</td>\n",
              "      <td>ambience good pleasant even service prompt foo...</td>\n",
              "      <td>5</td>\n",
              "      <td>3 Reviews , 2 Followers</td>\n",
              "      <td>5/25/2019 14:20</td>\n",
              "      <td>0</td>\n",
              "    </tr>\n",
              "    <tr>\n",
              "      <th>2</th>\n",
              "      <td>Beyond Flavours</td>\n",
              "      <td>Ashok Shekhawat</td>\n",
              "      <td>must try great food great ambience thnx servic...</td>\n",
              "      <td>5</td>\n",
              "      <td>2 Reviews , 3 Followers</td>\n",
              "      <td>5/24/2019 22:54</td>\n",
              "      <td>0</td>\n",
              "    </tr>\n",
              "    <tr>\n",
              "      <th>3</th>\n",
              "      <td>Beyond Flavours</td>\n",
              "      <td>Swapnil Sarkar</td>\n",
              "      <td>soumen das arun great guy behavior sincerety g...</td>\n",
              "      <td>5</td>\n",
              "      <td>1 Review , 1 Follower</td>\n",
              "      <td>5/24/2019 22:11</td>\n",
              "      <td>0</td>\n",
              "    </tr>\n",
              "    <tr>\n",
              "      <th>4</th>\n",
              "      <td>Beyond Flavours</td>\n",
              "      <td>Dileep</td>\n",
              "      <td>food good order kodi drumstick basket mutton b...</td>\n",
              "      <td>5</td>\n",
              "      <td>3 Reviews , 2 Followers</td>\n",
              "      <td>5/24/2019 21:37</td>\n",
              "      <td>0</td>\n",
              "    </tr>\n",
              "    <tr>\n",
              "      <th>...</th>\n",
              "      <td>...</td>\n",
              "      <td>...</td>\n",
              "      <td>...</td>\n",
              "      <td>...</td>\n",
              "      <td>...</td>\n",
              "      <td>...</td>\n",
              "      <td>...</td>\n",
              "    </tr>\n",
              "    <tr>\n",
              "      <th>9995</th>\n",
              "      <td>Chinese Pavilion</td>\n",
              "      <td>Abhishek Mahajan</td>\n",
              "      <td>madhumathi mahajan well start nice courteous s...</td>\n",
              "      <td>3</td>\n",
              "      <td>53 Reviews , 54 Followers</td>\n",
              "      <td>6/5/2016 0:08</td>\n",
              "      <td>0</td>\n",
              "    </tr>\n",
              "    <tr>\n",
              "      <th>9996</th>\n",
              "      <td>Chinese Pavilion</td>\n",
              "      <td>Sharad Agrawal</td>\n",
              "      <td>place never disappoint us food courteous staff...</td>\n",
              "      <td>4.5</td>\n",
              "      <td>2 Reviews , 53 Followers</td>\n",
              "      <td>6/4/2016 22:01</td>\n",
              "      <td>0</td>\n",
              "    </tr>\n",
              "    <tr>\n",
              "      <th>9997</th>\n",
              "      <td>Chinese Pavilion</td>\n",
              "      <td>Ramandeep</td>\n",
              "      <td>bad rating mainly chicken bone find veg food a...</td>\n",
              "      <td>1.5</td>\n",
              "      <td>65 Reviews , 423 Followers</td>\n",
              "      <td>6/3/2016 10:37</td>\n",
              "      <td>3</td>\n",
              "    </tr>\n",
              "    <tr>\n",
              "      <th>9998</th>\n",
              "      <td>Chinese Pavilion</td>\n",
              "      <td>Nayana Shanbhag</td>\n",
              "      <td>personally love prefer chinese food couple tim...</td>\n",
              "      <td>4</td>\n",
              "      <td>13 Reviews , 144 Followers</td>\n",
              "      <td>5/31/2016 17:22</td>\n",
              "      <td>0</td>\n",
              "    </tr>\n",
              "    <tr>\n",
              "      <th>9999</th>\n",
              "      <td>Chinese Pavilion</td>\n",
              "      <td>Bhargava Krishna</td>\n",
              "      <td>check try delicious chinese food see non veg l...</td>\n",
              "      <td>3.5</td>\n",
              "      <td>472 Reviews , 1302 Followers</td>\n",
              "      <td>5/31/2016 16:41</td>\n",
              "      <td>6</td>\n",
              "    </tr>\n",
              "  </tbody>\n",
              "</table>\n",
              "<p>10000 rows × 7 columns</p>\n",
              "</div>\n",
              "      <button class=\"colab-df-convert\" onclick=\"convertToInteractive('df-2e412b66-fbb6-4844-8554-ac75500fef73')\"\n",
              "              title=\"Convert this dataframe to an interactive table.\"\n",
              "              style=\"display:none;\">\n",
              "        \n",
              "  <svg xmlns=\"http://www.w3.org/2000/svg\" height=\"24px\"viewBox=\"0 0 24 24\"\n",
              "       width=\"24px\">\n",
              "    <path d=\"M0 0h24v24H0V0z\" fill=\"none\"/>\n",
              "    <path d=\"M18.56 5.44l.94 2.06.94-2.06 2.06-.94-2.06-.94-.94-2.06-.94 2.06-2.06.94zm-11 1L8.5 8.5l.94-2.06 2.06-.94-2.06-.94L8.5 2.5l-.94 2.06-2.06.94zm10 10l.94 2.06.94-2.06 2.06-.94-2.06-.94-.94-2.06-.94 2.06-2.06.94z\"/><path d=\"M17.41 7.96l-1.37-1.37c-.4-.4-.92-.59-1.43-.59-.52 0-1.04.2-1.43.59L10.3 9.45l-7.72 7.72c-.78.78-.78 2.05 0 2.83L4 21.41c.39.39.9.59 1.41.59.51 0 1.02-.2 1.41-.59l7.78-7.78 2.81-2.81c.8-.78.8-2.07 0-2.86zM5.41 20L4 18.59l7.72-7.72 1.47 1.35L5.41 20z\"/>\n",
              "  </svg>\n",
              "      </button>\n",
              "      \n",
              "  <style>\n",
              "    .colab-df-container {\n",
              "      display:flex;\n",
              "      flex-wrap:wrap;\n",
              "      gap: 12px;\n",
              "    }\n",
              "\n",
              "    .colab-df-convert {\n",
              "      background-color: #E8F0FE;\n",
              "      border: none;\n",
              "      border-radius: 50%;\n",
              "      cursor: pointer;\n",
              "      display: none;\n",
              "      fill: #1967D2;\n",
              "      height: 32px;\n",
              "      padding: 0 0 0 0;\n",
              "      width: 32px;\n",
              "    }\n",
              "\n",
              "    .colab-df-convert:hover {\n",
              "      background-color: #E2EBFA;\n",
              "      box-shadow: 0px 1px 2px rgba(60, 64, 67, 0.3), 0px 1px 3px 1px rgba(60, 64, 67, 0.15);\n",
              "      fill: #174EA6;\n",
              "    }\n",
              "\n",
              "    [theme=dark] .colab-df-convert {\n",
              "      background-color: #3B4455;\n",
              "      fill: #D2E3FC;\n",
              "    }\n",
              "\n",
              "    [theme=dark] .colab-df-convert:hover {\n",
              "      background-color: #434B5C;\n",
              "      box-shadow: 0px 1px 3px 1px rgba(0, 0, 0, 0.15);\n",
              "      filter: drop-shadow(0px 1px 2px rgba(0, 0, 0, 0.3));\n",
              "      fill: #FFFFFF;\n",
              "    }\n",
              "  </style>\n",
              "\n",
              "      <script>\n",
              "        const buttonEl =\n",
              "          document.querySelector('#df-2e412b66-fbb6-4844-8554-ac75500fef73 button.colab-df-convert');\n",
              "        buttonEl.style.display =\n",
              "          google.colab.kernel.accessAllowed ? 'block' : 'none';\n",
              "\n",
              "        async function convertToInteractive(key) {\n",
              "          const element = document.querySelector('#df-2e412b66-fbb6-4844-8554-ac75500fef73');\n",
              "          const dataTable =\n",
              "            await google.colab.kernel.invokeFunction('convertToInteractive',\n",
              "                                                     [key], {});\n",
              "          if (!dataTable) return;\n",
              "\n",
              "          const docLinkHtml = 'Like what you see? Visit the ' +\n",
              "            '<a target=\"_blank\" href=https://colab.research.google.com/notebooks/data_table.ipynb>data table notebook</a>'\n",
              "            + ' to learn more about interactive tables.';\n",
              "          element.innerHTML = '';\n",
              "          dataTable['output_type'] = 'display_data';\n",
              "          await google.colab.output.renderOutput(dataTable, element);\n",
              "          const docLink = document.createElement('div');\n",
              "          docLink.innerHTML = docLinkHtml;\n",
              "          element.appendChild(docLink);\n",
              "        }\n",
              "      </script>\n",
              "    </div>\n",
              "  </div>\n",
              "  "
            ]
          },
          "metadata": {},
          "execution_count": 84
        }
      ]
    },
    {
      "cell_type": "code",
      "source": [
        "#Convert data to float\n",
        "zomato['Rating'] = pd.to_numeric(zomato['Rating'],errors='coerce')"
      ],
      "metadata": {
        "id": "8XGtuKz7XNXt"
      },
      "execution_count": 100,
      "outputs": []
    },
    {
      "cell_type": "code",
      "source": [
        "zomato.dtypes"
      ],
      "metadata": {
        "colab": {
          "base_uri": "https://localhost:8080/"
        },
        "id": "2E8VLdXzZdUr",
        "outputId": "02eabbb5-e7a5-417f-ef8e-c9d9c76ccd1f"
      },
      "execution_count": 101,
      "outputs": [
        {
          "output_type": "execute_result",
          "data": {
            "text/plain": [
              "Restaurant     object\n",
              "Reviewer       object\n",
              "Review         object\n",
              "Rating        float64\n",
              "Metadata       object\n",
              "Time           object\n",
              "Pictures        int64\n",
              "dtype: object"
            ]
          },
          "metadata": {},
          "execution_count": 101
        }
      ]
    },
    {
      "cell_type": "code",
      "source": [
        "def create_sentiment(rating):\n",
        "  if rating>=3:\n",
        "    sentiment = 'Positive'\n",
        "  else:\n",
        "    sentiment = 'Negative'\n",
        "  return sentiment\n",
        "\n",
        "zomato['Sentiment'] = zomato['Rating'].apply(create_sentiment)\n",
        "zomato['Sentiment'].value_counts()"
      ],
      "metadata": {
        "colab": {
          "base_uri": "https://localhost:8080/"
        },
        "id": "R-5OVCHuZgtr",
        "outputId": "9940ed32-8598-41ea-f3b0-3b7c0f82ae48"
      },
      "execution_count": 102,
      "outputs": [
        {
          "output_type": "execute_result",
          "data": {
            "text/plain": [
              "Positive    7514\n",
              "Negative    2486\n",
              "Name: Sentiment, dtype: int64"
            ]
          },
          "metadata": {},
          "execution_count": 102
        }
      ]
    },
    {
      "cell_type": "code",
      "source": [
        "from sklearn.preprocessing import LabelBinarizer\n",
        "\n",
        "#Labelling the rating data\n",
        "lb = LabelBinarizer()\n",
        "\n",
        "#Transformed rating data\n",
        "sentiment_data = lb.fit_transform(zomato['Sentiment'])\n",
        "print(sentiment_data.shape)"
      ],
      "metadata": {
        "colab": {
          "base_uri": "https://localhost:8080/"
        },
        "id": "fEM7eDpBXVRt",
        "outputId": "a5938395-29c6-412c-f7db-5ead642f2506"
      },
      "execution_count": 103,
      "outputs": [
        {
          "output_type": "stream",
          "name": "stdout",
          "text": [
            "(10000, 1)\n"
          ]
        }
      ]
    },
    {
      "cell_type": "markdown",
      "source": [
        "## Fitting the bag of words model on the entire dataset"
      ],
      "metadata": {
        "id": "-cw7PN-xYB19"
      }
    },
    {
      "cell_type": "code",
      "source": [
        "from sklearn.feature_extraction.text import CountVectorizer\n",
        "cv = CountVectorizer()\n",
        "cv_fit = cv.fit(norm_reviews)"
      ],
      "metadata": {
        "id": "5vUEfO86aNGc"
      },
      "execution_count": 104,
      "outputs": []
    },
    {
      "cell_type": "code",
      "source": [
        "cv_fit.vocabulary_"
      ],
      "metadata": {
        "colab": {
          "base_uri": "https://localhost:8080/"
        },
        "id": "EVkgRaTTaaIr",
        "outputId": "0170dec3-d959-480f-9c95-759358dbd7d8"
      },
      "execution_count": 141,
      "outputs": [
        {
          "output_type": "execute_result",
          "data": {
            "text/plain": [
              "{'ambience': 788,\n",
              " 'good': 5045,\n",
              " 'food': 4574,\n",
              " 'quite': 9310,\n",
              " 'saturday': 10136,\n",
              " 'lunch': 6969,\n",
              " 'cost': 2957,\n",
              " 'effective': 3909,\n",
              " 'place': 8813,\n",
              " 'sate': 10119,\n",
              " 'brunch': 1963,\n",
              " 'one': 8134,\n",
              " 'also': 746,\n",
              " 'chill': 2429,\n",
              " 'friend': 4715,\n",
              " 'parent': 8484,\n",
              " 'waiter': 12590,\n",
              " 'soumen': 10836,\n",
              " 'das': 3246,\n",
              " 'really': 9497,\n",
              " 'courteous': 2988,\n",
              " 'helpful': 5396,\n",
              " 'pleasant': 8846,\n",
              " 'even': 4120,\n",
              " 'service': 10330,\n",
              " 'prompt': 9129,\n",
              " 'experience': 4231,\n",
              " 'kudos': 6539,\n",
              " 'must': 7682,\n",
              " 'try': 12022,\n",
              " 'great': 5130,\n",
              " 'thnx': 11738,\n",
              " 'pradeep': 8984,\n",
              " 'subroto': 11204,\n",
              " 'personal': 8684,\n",
              " 'recommendation': 9545,\n",
              " 'penne': 8639,\n",
              " 'alfredo': 697,\n",
              " 'pasta': 8538,\n",
              " 'music': 7674,\n",
              " 'background': 1304,\n",
              " 'amazing': 772,\n",
              " 'arun': 1069,\n",
              " 'guy': 5213,\n",
              " 'behavior': 1521,\n",
              " 'sincerety': 10586,\n",
              " 'course': 2985,\n",
              " 'would': 12872,\n",
              " 'like': 6787,\n",
              " 'visit': 12527,\n",
              " 'order': 8184,\n",
              " 'kodi': 6482,\n",
              " 'drumstick': 3803,\n",
              " 'basket': 1436,\n",
              " 'mutton': 7693,\n",
              " 'biryani': 1703,\n",
              " 'thanks': 11672,\n",
              " 'serve': 10322,\n",
              " 'well': 12701,\n",
              " 'enjoy': 4025,\n",
              " 'ambiance': 781,\n",
              " 'apradeecp': 985,\n",
              " 'subro': 11203,\n",
              " 'best': 1577,\n",
              " 'papiya': 8457,\n",
              " 'hostess': 5547,\n",
              " 'ur': 12304,\n",
              " 'caption': 2146,\n",
              " '4star': 305,\n",
              " 'restaurant': 9760,\n",
              " 'nice': 7864,\n",
              " 'different': 3521,\n",
              " 'tasty': 11541,\n",
              " 'gud': 5181,\n",
              " 'worth': 12863,\n",
              " 'reasonable': 9504,\n",
              " 'read': 9479,\n",
              " 'many': 7153,\n",
              " 'review': 9802,\n",
              " 'finally': 4449,\n",
              " 'come': 2693,\n",
              " 'crispy': 3071,\n",
              " 'corn': 2934,\n",
              " 'tawa': 11552,\n",
              " 'fish': 4476,\n",
              " 'ok': 8092,\n",
              " 'disappoint': 3585,\n",
              " 'us': 12314,\n",
              " 'flattering': 4497,\n",
              " 'claim': 2556,\n",
              " 'staff': 11012,\n",
              " 'polite': 8897,\n",
              " 'especially': 4094,\n",
              " 'suman': 11278,\n",
              " 'excellent': 4169,\n",
              " 'specially': 10890,\n",
              " 'spicy': 10926,\n",
              " 'shubro': 10525,\n",
              " 'give': 4984,\n",
              " 'corporate': 2942,\n",
              " 'team': 11563,\n",
              " 'dinner': 3565,\n",
              " 'overall': 8278,\n",
              " 'party': 8517,\n",
              " 'birthday': 1699,\n",
              " 'treat': 11977,\n",
              " 'close': 2595,\n",
              " 'perfect': 8662,\n",
              " 'hospitable': 5539,\n",
              " 'cooperative': 2916,\n",
              " 'delicious': 3365,\n",
              " 'light': 6774,\n",
              " 'chili': 2426,\n",
              " 'honey': 5513,\n",
              " 'lotus': 6924,\n",
              " 'stem': 11084,\n",
              " 'special': 10882,\n",
              " 'mention': 7318,\n",
              " 'take': 11457,\n",
              " 'care': 2167,\n",
              " 'awesome': 1253,\n",
              " 'manab': 7099,\n",
              " 'attentive': 1168,\n",
              " 'frequently': 4695,\n",
              " 'amaze': 769,\n",
              " 'friendly': 4720,\n",
              " 'shuvro': 10533,\n",
              " 'definitely': 3334,\n",
              " 'loved': 6932,\n",
              " 'design': 3443,\n",
              " 'menu': 7321,\n",
              " 'card': 2164,\n",
              " 'soup': 10840,\n",
              " 'expect': 4221,\n",
              " 'starter': 11049,\n",
              " 'chilli': 2434,\n",
              " 'vegan': 12408,\n",
              " 'ppl': 8978,\n",
              " 'frequent': 4694,\n",
              " 'know': 6470,\n",
              " 'impressive': 5759,\n",
              " 'telangana': 11590,\n",
              " 'kodiak': 6483,\n",
              " 'fry': 4761,\n",
              " 'biriyani': 1694,\n",
              " 'help': 5394,\n",
              " 'choose': 2499,\n",
              " 'dish': 3618,\n",
              " 'attend': 1162,\n",
              " 'cheese': 2358,\n",
              " 'ball': 1366,\n",
              " 'manchow': 7111,\n",
              " 'paneer': 8420,\n",
              " 'shashlik': 10412,\n",
              " 'sizzler': 10630,\n",
              " 'stale': 11025,\n",
              " 'smell': 10695,\n",
              " 'impolite': 5746,\n",
              " 'accept': 499,\n",
              " 'mistake': 7462,\n",
              " 'never': 7850,\n",
              " 'go': 5018,\n",
              " 'fantastic': 4337,\n",
              " 'manav': 7108,\n",
              " 'maji': 7065,\n",
              " 'quick': 9296,\n",
              " 'scrumptious': 10220,\n",
              " 'buffet': 1988,\n",
              " 'item': 6040,\n",
              " 'veg': 12406,\n",
              " 'non': 7934,\n",
              " 'shubhamtraveltales': 10521,\n",
              " 'wordpress': 12840,\n",
              " 'com': 2685,\n",
              " 'thing': 11730,\n",
              " 'favorite': 4365,\n",
              " 'although': 752,\n",
              " 'top': 11911,\n",
              " 'notch': 7968,\n",
              " 'mr': 7608,\n",
              " 'extremely': 4270,\n",
              " 'soon': 10807,\n",
              " 'spread': 10975,\n",
              " 'drink': 3785,\n",
              " 'look': 6901,\n",
              " 'forward': 4648,\n",
              " 'see': 10256,\n",
              " 'vegetarian': 12415,\n",
              " 'include': 5789,\n",
              " 'mushroom': 7672,\n",
              " 'kofta': 6486,\n",
              " 'additionally': 567,\n",
              " 'beautiful': 1487,\n",
              " 'cozy': 3008,\n",
              " 'classy': 2564,\n",
              " 'time': 11818,\n",
              " 'truly': 12017,\n",
              " 'recommend': 9543,\n",
              " 'day': 3261,\n",
              " '15': 70,\n",
              " 'percent': 8657,\n",
              " 'discount': 3600,\n",
              " 'cotorie': 2963,\n",
              " 'without': 12805,\n",
              " 'burn': 2023,\n",
              " 'hole': 5494,\n",
              " 'pocket': 8877,\n",
              " 'interior': 5966,\n",
              " 'do': 3691,\n",
              " 'love': 6931,\n",
              " 'vibe': 12474,\n",
              " 'sizzle': 10629,\n",
              " 'brownie': 1955,\n",
              " 'favourite': 4368,\n",
              " 'tomato': 11882,\n",
              " 'basil': 1432,\n",
              " 'shorba': 10485,\n",
              " 'creamy': 3046,\n",
              " 'standard': 11031,\n",
              " 'make': 7070,\n",
              " 'beyond': 1600,\n",
              " 'flavour': 4505,\n",
              " 'please': 8848,\n",
              " 'expensive': 4227,\n",
              " 'taste': 11523,\n",
              " 'rate': 9443,\n",
              " 'cant': 2123,\n",
              " 'click': 2584,\n",
              " 'better': 1587,\n",
              " 'picture': 8752,\n",
              " 'wen': 12703,\n",
              " 'nightbest': 7876,\n",
              " 'pic': 8741,\n",
              " 'fast': 4354,\n",
              " 'people': 8642,\n",
              " 'behave': 1517,\n",
              " 'hope': 5525,\n",
              " 'everyone': 4138,\n",
              " 'way': 12660,\n",
              " 'farewell': 4345,\n",
              " 'feast': 4375,\n",
              " 'recently': 9519,\n",
              " 'management': 7102,\n",
              " 'boy': 1881,\n",
              " 'complimentary': 2767,\n",
              " 'happy': 5284,\n",
              " 'desserts': 3458,\n",
              " 'wonderful': 12824,\n",
              " 'mouthwatering': 7597,\n",
              " 'hyderabad': 5626,\n",
              " 'shubhro': 10522,\n",
              " 'behaviour': 1522,\n",
              " 'enjoyable': 4026,\n",
              " 'evening': 4122,\n",
              " 'live': 6841,\n",
              " 'superb': 11308,\n",
              " 'voice': 12549,\n",
              " 'lightning': 6779,\n",
              " 'entrance': 4064,\n",
              " 'sonalin': 10801,\n",
              " 'become': 1494,\n",
              " 'fan': 4326,\n",
              " 'star': 11039,\n",
              " 'side': 10547,\n",
              " 'lighten': 6775,\n",
              " 'everything': 4141,\n",
              " 'heard': 5363,\n",
              " 'sings': 10596,\n",
              " 'priyadarshini': 9090,\n",
              " 'singer': 10592,\n",
              " 'city': 2553,\n",
              " 'face': 4281,\n",
              " 'descent': 3429,\n",
              " 'enough': 4034,\n",
              " 'desert': 3437,\n",
              " 'option': 8176,\n",
              " 'starrers': 11043,\n",
              " 'bad': 1312,\n",
              " 'ee': 3907,\n",
              " 'wait': 12588,\n",
              " 'though': 11746,\n",
              " 'book': 1823,\n",
              " 'table': 11441,\n",
              " 'prior': 9079,\n",
              " 'short': 10489,\n",
              " 'decent': 3287,\n",
              " 'bread': 1897,\n",
              " 'shaam': 10365,\n",
              " 'savera': 10158,\n",
              " 'little': 6840,\n",
              " 'screw': 10218,\n",
              " 'daal': 3198,\n",
              " 'makhni': 7078,\n",
              " 'case': 2193,\n",
              " 'night': 7875,\n",
              " 'importantly': 5751,\n",
              " 'quantity': 9276,\n",
              " 'want': 12614,\n",
              " 'extensive': 4260,\n",
              " 'much': 7616,\n",
              " 'prefer': 9027,\n",
              " 'hara': 5286,\n",
              " 'bhara': 1619,\n",
              " 'kebab': 6333,\n",
              " 'rotis': 9905,\n",
              " 'raita': 9363,\n",
              " 'yes': 12952,\n",
              " 'part': 8503,\n",
              " 'excite': 4185,\n",
              " 'mess': 7339,\n",
              " 'real': 9487,\n",
              " 'color': 2674,\n",
              " 'big': 1665,\n",
              " 'chunk': 2525,\n",
              " 'garlic': 4876,\n",
              " 'clove': 2604,\n",
              " 'spoil': 10947,\n",
              " 'kebabs': 6334,\n",
              " 'soft': 10758,\n",
              " 'extra': 4264,\n",
              " 'outer': 8249,\n",
              " 'coat': 2623,\n",
              " 'peanut': 8612,\n",
              " 'ask': 1089,\n",
              " 'skip': 10642,\n",
              " 'step': 11086,\n",
              " 'conclusion': 2792,\n",
              " 'hurry': 5609,\n",
              " 'another': 889,\n",
              " 'hop': 5524,\n",
              " 'mine': 7408,\n",
              " 'odd': 8056,\n",
              " 'change': 2287,\n",
              " 'timely': 11820,\n",
              " 'decor': 3297,\n",
              " '5star': 342,\n",
              " 'ambeince': 780,\n",
              " 'lack': 6601,\n",
              " 'lot': 6918,\n",
              " 'hey': 5424,\n",
              " 'welcome': 12696,\n",
              " 'attitude': 1173,\n",
              " 'papia': 8456,\n",
              " 'accommodate': 512,\n",
              " 'something': 10792,\n",
              " 'back': 1301,\n",
              " 'price': 9065,\n",
              " 'humble': 5584,\n",
              " 'cherry': 2383,\n",
              " 'cake': 2087,\n",
              " 'banjara': 1389,\n",
              " 'tangdi': 11490,\n",
              " 'among': 828,\n",
              " 'mannered': 7140,\n",
              " 'responsive': 9753,\n",
              " 'meet': 7289,\n",
              " 'two': 12071,\n",
              " 'person': 8683,\n",
              " 'name': 7731,\n",
              " 'drum': 3802,\n",
              " 'stick': 11093,\n",
              " 'thai': 11659,\n",
              " 'peneer': 8638,\n",
              " 'tikka': 11809,\n",
              " 'kaju': 6262,\n",
              " 'pulao': 9191,\n",
              " 'family': 4322,\n",
              " 'new': 7854,\n",
              " 'fact': 4288,\n",
              " 'say': 10168,\n",
              " 'probably': 9096,\n",
              " 'ive': 6056,\n",
              " 'eaten': 3875,\n",
              " 'period': 8671,\n",
              " 'id': 5673,\n",
              " 'thank': 11665,\n",
              " 'shurvo': 10531,\n",
              " 'double': 3733,\n",
              " 'metha': 7346,\n",
              " 'worthwhile': 12866,\n",
              " 'pretty': 9061,\n",
              " 'savory': 10164,\n",
              " '25': 182,\n",
              " 'patient': 8563,\n",
              " 'get': 4937,\n",
              " 'noodle': 7944,\n",
              " 'replace': 9684,\n",
              " 'since': 10583,\n",
              " 'shoutout': 10501,\n",
              " 'entire': 4060,\n",
              " 'afternoon': 628,\n",
              " 'multiple': 7641,\n",
              " 'span': 10861,\n",
              " 'month': 7543,\n",
              " 'safely': 10004,\n",
              " 'around': 1036,\n",
              " 'locate': 6869,\n",
              " 'near': 7804,\n",
              " 'biodiversity': 1686,\n",
              " 'signal': 10554,\n",
              " 'fabindia': 4278,\n",
              " 'ample': 834,\n",
              " 'park': 8487,\n",
              " 'four': 4654,\n",
              " 'wheeler': 12723,\n",
              " 'bit': 1718,\n",
              " 'dim': 3549,\n",
              " 'dark': 3240,\n",
              " 'seat': 10237,\n",
              " 'divide': 3676,\n",
              " 'various': 12390,\n",
              " 'pdr': 8602,\n",
              " 'section': 10250,\n",
              " 'shape': 10404,\n",
              " 'bottle': 1856,\n",
              " 'array': 1049,\n",
              " 'continental': 2870,\n",
              " 'chinese': 2452,\n",
              " 'indian': 5816,\n",
              " 'cuisine': 3126,\n",
              " 'list': 6826,\n",
              " 'across': 546,\n",
              " 'panko': 8437,\n",
              " 'crumbed': 3099,\n",
              " 'mozzarella': 7606,\n",
              " 'fried': 4713,\n",
              " 'pure': 9227,\n",
              " 'bliss': 1755,\n",
              " 'lasagna': 6650,\n",
              " 'lasagne': 6651,\n",
              " 'town': 11940,\n",
              " 'kernel': 6347,\n",
              " 'usual': 12327,\n",
              " 'slightly': 10663,\n",
              " 'presentation': 9052,\n",
              " 'makhmali': 7077,\n",
              " 'cottage': 2964,\n",
              " 'italian': 6037,\n",
              " 'nacho': 7709,\n",
              " 'red': 9560,\n",
              " 'sauce': 10143,\n",
              " 'bake': 1346,\n",
              " 'pizza': 8804,\n",
              " 'base': 1427,\n",
              " 'load': 6856,\n",
              " 'piece': 8757,\n",
              " 'green': 5138,\n",
              " 'olive': 8117,\n",
              " 'can': 2111,\n",
              " 'not': 7965,\n",
              " 'stress': 11142,\n",
              " 'variety': 12389,\n",
              " 'may': 7243,\n",
              " 'elaborate': 3938,\n",
              " 'quality': 9266,\n",
              " 'offer': 8068,\n",
              " 'bulk': 1997,\n",
              " 'booking': 1826,\n",
              " 'least': 6710,\n",
              " 'adore': 593,\n",
              " 'mocktails': 7491,\n",
              " 'delight': 3372,\n",
              " 'absolute': 483,\n",
              " 'guava': 5180,\n",
              " 'apple': 957,\n",
              " 'kiwi': 6457,\n",
              " 'ever': 4130,\n",
              " 'attendant': 1163,\n",
              " 'late': 6662,\n",
              " 'zomato': 13040,\n",
              " 'gold': 5036,\n",
              " 'brings': 1937,\n",
              " 'meal': 7263,\n",
              " 'roughly': 9912,\n",
              " '700': 371,\n",
              " 'fill': 4435,\n",
              " 'tummy': 12039,\n",
              " 'heart': 5365,\n",
              " 'today': 11857,\n",
              " 'flavor': 4499,\n",
              " 'provide': 9159,\n",
              " 'highly': 5443,\n",
              " 'reason': 9503,\n",
              " 'longlong': 6898,\n",
              " 'friday': 4708,\n",
              " 'almost': 730,\n",
              " '30mins': 227,\n",
              " 'lose': 6914,\n",
              " 'patience': 8561,\n",
              " 'leave': 6713,\n",
              " 'aftr': 630,\n",
              " 'long': 6894,\n",
              " 'think': 11731,\n",
              " 'consideration': 2840,\n",
              " 'decrease': 3303,\n",
              " 'customer': 3171,\n",
              " 'exceptional': 4177,\n",
              " 'cheer': 2354,\n",
              " 'playing': 8841,\n",
              " 'da': 3197,\n",
              " 'buddy': 1978,\n",
              " 'quickly': 9298,\n",
              " 'suggest': 11253,\n",
              " 'sizzlers': 10631,\n",
              " 'till': 11814,\n",
              " 'plan': 8816,\n",
              " 'osm': 8223,\n",
              " 'restro': 9777,\n",
              " 'der': 3425,\n",
              " 'nyt': 8020,\n",
              " 'tym': 12075,\n",
              " 'yum': 12993,\n",
              " 'shubroto': 10526,\n",
              " 'world': 12850,\n",
              " 'visited': 12528,\n",
              " 'colleague': 2664,\n",
              " 'shobro': 10469,\n",
              " 'later': 6664,\n",
              " 'sometime': 10793,\n",
              " 'reach': 9472,\n",
              " 'surprise': 11357,\n",
              " 'low': 6942,\n",
              " 'executive': 4198,\n",
              " 'thoroughly': 11743,\n",
              " 'enjoyed': 4027,\n",
              " 'cute': 3183,\n",
              " 'lil': 6797,\n",
              " 'date': 3255,\n",
              " 'hehe': 5386,\n",
              " 'first': 4474,\n",
              " 'term': 11634,\n",
              " 'hospitality': 5543,\n",
              " 'yesterday': 12954,\n",
              " 'chance': 2282,\n",
              " 'average': 1224,\n",
              " 'less': 6742,\n",
              " 'main': 7042,\n",
              " 'rice': 9817,\n",
              " 'chicken': 2410,\n",
              " 'dessert': 3457,\n",
              " 'ice': 5661,\n",
              " 'cream': 3038,\n",
              " 'jamun': 6098,\n",
              " 'disappointing': 3587,\n",
              " 'hot': 5549,\n",
              " 'schezwan': 10193,\n",
              " 'spring': 10976,\n",
              " 'roll': 9880,\n",
              " 'onion': 8137,\n",
              " 'ring': 9835,\n",
              " 'kadai': 6248,\n",
              " 'ghost': 4960,\n",
              " 'miss': 7455,\n",
              " 'masala': 7198,\n",
              " 'egg': 3921,\n",
              " 'money': 7532,\n",
              " 'pay': 8592,\n",
              " 'use': 12318,\n",
              " 'colour': 2679,\n",
              " 'suggestion': 11257,\n",
              " 'amount': 833,\n",
              " 'recommended': 9547,\n",
              " 'tried': 11994,\n",
              " 'disappoints': 3589,\n",
              " 'healthy': 5360,\n",
              " 'broth': 1950,\n",
              " 'roast': 9863,\n",
              " 'addition': 565,\n",
              " 'server': 10325,\n",
              " 'dining': 3563,\n",
              " 'waste': 12640,\n",
              " 'slow': 10676,\n",
              " 'impressively': 5760,\n",
              " 'add': 560,\n",
              " 'could': 2969,\n",
              " 'increase': 5804,\n",
              " 'ananya': 849,\n",
              " 'serving': 10336,\n",
              " 'peaceful': 8605,\n",
              " 'pardeep': 8483,\n",
              " 'shubrat': 10524,\n",
              " 'gachibowli': 4821,\n",
              " 'guidance': 5186,\n",
              " 'every': 4135,\n",
              " 'appreciate': 967,\n",
              " 'assistance': 1111,\n",
              " 'hangout': 5269,\n",
              " 'reallly': 9495,\n",
              " 'co': 2616,\n",
              " 'operative': 8163,\n",
              " 'private': 9087,\n",
              " 'room': 9892,\n",
              " 'worst': 12860,\n",
              " 'tasteless': 11531,\n",
              " 'ac': 497,\n",
              " 'work': 12842,\n",
              " 'weve': 12712,\n",
              " 'request': 9706,\n",
              " 'dont': 3716,\n",
              " 'strictly': 11146,\n",
              " 'discovered': 3604,\n",
              " 'return': 9793,\n",
              " 'despicable': 3453,\n",
              " 'office': 8070,\n",
              " 'walk': 12599,\n",
              " 'takeout': 11460,\n",
              " 'outlet': 8252,\n",
              " 'turn': 12049,\n",
              " 'saviour': 10161,\n",
              " 'indeed': 5811,\n",
              " 'remarkable': 9649,\n",
              " 'mixed': 7470,\n",
              " 'setup': 10347,\n",
              " 'retro': 9790,\n",
              " 'feel': 4391,\n",
              " 'normal': 7953,\n",
              " 'group': 5163,\n",
              " 'sit': 10609,\n",
              " 'conversation': 2892,\n",
              " 'second': 10246,\n",
              " 'imagination': 5724,\n",
              " 'hospitile': 5544,\n",
              " 'impress': 5756,\n",
              " 'ahmed': 654,\n",
              " 'dipanajan': 3572,\n",
              " 'job': 6150,\n",
              " 'keep': 6339,\n",
              " 'vegetable': 12413,\n",
              " 'absolutely': 484,\n",
              " 'appricot': 971,\n",
              " 'pudding': 9183,\n",
              " 'khan': 6376,\n",
              " 'unparalled': 12237,\n",
              " 'stater': 11060,\n",
              " 'awsome': 1271,\n",
              " 'nan': 7740,\n",
              " 'butter': 2046,\n",
              " 'easily': 3867,\n",
              " 'eat': 3872,\n",
              " 'beverage': 1594,\n",
              " 'happen': 5274,\n",
              " 'last': 6658,\n",
              " 'sunday': 11291,\n",
              " 'mother': 7575,\n",
              " 'flat': 4496,\n",
              " '50': 310,\n",
              " 'liked': 6790,\n",
              " 'needless': 7818,\n",
              " 'reservation': 9722,\n",
              " 'fir': 4465,\n",
              " '10': 12,\n",
              " 'min': 7400,\n",
              " 'mango': 7132,\n",
              " 'juice': 6197,\n",
              " 'wrlcome': 12891,\n",
              " 'kind': 6431,\n",
              " 'strters': 11155,\n",
              " 'cutlet': 3186,\n",
              " 'cold': 2657,\n",
              " 'wad': 12576,\n",
              " 'manchurian': 7115,\n",
              " 'coupd': 2979,\n",
              " 'fair': 4302,\n",
              " 'enuf': 4068,\n",
              " 'singapore': 10590,\n",
              " 'salad': 10030,\n",
              " 'rogan': 9874,\n",
              " 'josh': 6171,\n",
              " 'palak': 8386,\n",
              " 'equally': 4078,\n",
              " 'frued': 4751,\n",
              " 'moong': 7552,\n",
              " 'dal': 3213,\n",
              " 'halwa': 5251,\n",
              " 'yumm': 12995,\n",
              " 'gulab': 5194,\n",
              " 'cut': 3182,\n",
              " 'fruit': 4752,\n",
              " 'banana': 1375,\n",
              " 'refilles': 9583,\n",
              " 'actually': 554,\n",
              " 'stomach': 11108,\n",
              " 'full': 4781,\n",
              " 'improve': 5764,\n",
              " 'point': 8880,\n",
              " 'stand': 11029,\n",
              " 'company': 2726,\n",
              " 'fun': 4787,\n",
              " 'half': 5246,\n",
              " 'occupied': 8046,\n",
              " 'immediately': 5732,\n",
              " 'water': 12648,\n",
              " 'reminder': 9655,\n",
              " 'mock': 7488,\n",
              " '30': 221,\n",
              " 'sign': 10553,\n",
              " 'notice': 7972,\n",
              " 'similar': 10576,\n",
              " 'issue': 6033,\n",
              " 'guest': 5183,\n",
              " 'literally': 6834,\n",
              " 'shout': 10500,\n",
              " 'prepared': 9045,\n",
              " 'compare': 2729,\n",
              " 'rating': 9447,\n",
              " 'decide': 3289,\n",
              " 'onto': 8145,\n",
              " 'rest': 9754,\n",
              " 'twice': 12066,\n",
              " '1st': 130,\n",
              " 'except': 4174,\n",
              " 'costly': 2959,\n",
              " 'baked': 1347,\n",
              " 'unique': 12201,\n",
              " 'revisit': 9807,\n",
              " 'sister': 10608,\n",
              " 'mocktail': 7490,\n",
              " 'terrible': 11638,\n",
              " 'still': 11098,\n",
              " 'bone': 1815,\n",
              " 'boneless': 1817,\n",
              " 'tell': 11598,\n",
              " 'arrival': 1050,\n",
              " 'seem': 10264,\n",
              " 'quiet': 9300,\n",
              " 'common': 2716,\n",
              " 'etc': 4105,\n",
              " 'super': 11307,\n",
              " 'introduce': 5984,\n",
              " 'ingredient': 5881,\n",
              " 'call': 2094,\n",
              " 'salt': 10045,\n",
              " 'yo': 12965,\n",
              " 'basically': 1431,\n",
              " 'none': 7935,\n",
              " 'panner65': 8442,\n",
              " 'nachos': 7710,\n",
              " 'sure': 11347,\n",
              " 'buy': 2054,\n",
              " 'pack': 8344,\n",
              " 'dorittos': 3726,\n",
              " 'mozarella': 7605,\n",
              " 'bean': 1478,\n",
              " 'plate': 8828,\n",
              " 'bring': 1935,\n",
              " 'dump': 3828,\n",
              " 'stash': 11056,\n",
              " 'inside': 5914,\n",
              " 'microwave': 7367,\n",
              " '65': 356,\n",
              " 'horrendous': 5532,\n",
              " 'might': 7373,\n",
              " 'next': 7859,\n",
              " 'gid': 4964,\n",
              " 'didnt': 3509,\n",
              " '1300': 56,\n",
              " 'talk': 11467,\n",
              " 'general': 4915,\n",
              " 'stove': 11121,\n",
              " 'plant': 8823,\n",
              " 'inconvenient': 5799,\n",
              " 'spot': 10969,\n",
              " 'need': 7816,\n",
              " 'clean': 2569,\n",
              " 'hostile': 5548,\n",
              " 'okeish': 8098,\n",
              " 'horrible': 5533,\n",
              " 'expectation': 4222,\n",
              " 'personally': 8689,\n",
              " 'enhance': 4018,\n",
              " 'poor': 8916,\n",
              " 'handling': 5263,\n",
              " 'available': 1212,\n",
              " 'hour': 5557,\n",
              " 'popcorn': 8921,\n",
              " 'hair': 5238,\n",
              " 'strand': 11125,\n",
              " 'yuck': 12985,\n",
              " 'forget': 4625,\n",
              " 'completely': 2759,\n",
              " 'instead': 5939,\n",
              " 'figure': 4431,\n",
              " 'right': 9828,\n",
              " 'staunch': 11070,\n",
              " 'ate': 1137,\n",
              " 'save': 10155,\n",
              " 'lover': 6938,\n",
              " 'specifically': 10896,\n",
              " 'yummy': 13010,\n",
              " 'stop': 11113,\n",
              " 'rather': 9445,\n",
              " 'satisfy': 10129,\n",
              " 'impressed': 5757,\n",
              " 'politeness': 8899,\n",
              " 'readiness': 9482,\n",
              " 'falvours': 4316,\n",
              " 'song': 10803,\n",
              " 'innumerous': 5898,\n",
              " 'select': 10272,\n",
              " 'tune': 12045,\n",
              " 'put': 9241,\n",
              " 'hospitalise': 5542,\n",
              " 'infection': 5857,\n",
              " 'guess': 5182,\n",
              " 'fresh': 4697,\n",
              " 'lovely': 6937,\n",
              " 'highlight': 5441,\n",
              " 'whole': 12748,\n",
              " 'appetiser': 947,\n",
              " 'problem': 9097,\n",
              " 'else': 3969,\n",
              " 'otherwise': 8233,\n",
              " '45mins': 287,\n",
              " 'pulav': 9195,\n",
              " 'wont': 12829,\n",
              " 'centrally': 2241,\n",
              " 'coordination': 2920,\n",
              " 'boys': 1884,\n",
              " 'scope': 10201,\n",
              " 'improvement': 5766,\n",
              " 'bar': 1398,\n",
              " 'value': 12365,\n",
              " 'out': 8245,\n",
              " 'mix': 7469,\n",
              " 'fine': 4453,\n",
              " '40': 268,\n",
              " 'manager': 7103,\n",
              " 'rubbish': 9940,\n",
              " 'follow': 4566,\n",
              " 'arrangement': 1044,\n",
              " 'decoration': 3300,\n",
              " 'realy': 9499,\n",
              " 'pathetic': 8557,\n",
              " 'chair': 2267,\n",
              " 'break': 1904,\n",
              " 'bite': 1719,\n",
              " 'spacious': 10859,\n",
              " 'gilaffi': 4972,\n",
              " 'kabab': 6235,\n",
              " 'lasgna': 6652,\n",
              " 'paradise': 8464,\n",
              " 'chiken': 2421,\n",
              " 'spcal': 10870,\n",
              " 'cary': 2191,\n",
              " 'testy': 11644,\n",
              " 'facility': 4285,\n",
              " 'distance': 3652,\n",
              " 'mainly': 7048,\n",
              " 'response': 9749,\n",
              " 'environment': 4070,\n",
              " 'goodtaste': 5057,\n",
              " 'magic': 7025,\n",
              " 'chef': 2366,\n",
              " 'gladly': 4990,\n",
              " 'prepare': 9044,\n",
              " 'arrives': 1053,\n",
              " 'provider': 9161,\n",
              " 'delivery': 3388,\n",
              " 'economic': 3890,\n",
              " 'definitly': 3336,\n",
              " 'ambinence': 799,\n",
              " 'along': 735,\n",
              " 'always': 760,\n",
              " 'ka': 6229,\n",
              " 'baap': 1289,\n",
              " '20': 136,\n",
              " 'simply': 10581,\n",
              " 'friends': 4721,\n",
              " 'hopefully': 5526,\n",
              " 'famous': 4325,\n",
              " 'tandoori': 11483,\n",
              " 'naan': 7707,\n",
              " 'piecs': 8759,\n",
              " 'cook': 2903,\n",
              " 'perfection': 8663,\n",
              " 'fri': 4705,\n",
              " 'approach': 972,\n",
              " 'shri': 10515,\n",
              " 'krishan': 6522,\n",
              " 'render': 9665,\n",
              " 'seating': 10240,\n",
              " 'recommened': 9549,\n",
              " 'ambitious': 803,\n",
              " 'curry': 3159,\n",
              " 'bowl': 1872,\n",
              " 'temp': 11600,\n",
              " 'cool': 2909,\n",
              " 'tooth': 11907,\n",
              " 'selfie': 10277,\n",
              " 'setting': 10345,\n",
              " 'veggie': 12421,\n",
              " 'nise': 7899,\n",
              " 'hybd': 5624,\n",
              " 'india': 5815,\n",
              " 'haleem': 5243,\n",
              " 'receive': 9515,\n",
              " 'ordinary': 8192,\n",
              " 'disappointment': 3588,\n",
              " '400': 269,\n",
              " 'buck': 1973,\n",
              " '200': 137,\n",
              " 'maintenance': 7060,\n",
              " 'nizam': 7911,\n",
              " 'pepper': 8646,\n",
              " 'parans': 8470,\n",
              " 'ege': 3920,\n",
              " 'lastly': 6659,\n",
              " 'high': 5438,\n",
              " 'neat': 7809,\n",
              " 'hygienic': 5650,\n",
              " 'hate': 5321,\n",
              " 'apollo': 930,\n",
              " 'woowwwwwww': 12837,\n",
              " 'servive': 10339,\n",
              " 'nizamis': 7913,\n",
              " 'rajesh': 9373,\n",
              " 'brevage': 1919,\n",
              " 'rock': 9869,\n",
              " 'guys': 5215,\n",
              " 'grab': 5100,\n",
              " 'stuff': 11165,\n",
              " 'dine': 3556,\n",
              " 'instruction': 5942,\n",
              " 'soo': 10805,\n",
              " 'huge': 5575,\n",
              " 'hype': 5652,\n",
              " 'hence': 5403,\n",
              " 'find': 4451,\n",
              " 'par': 8463,\n",
              " 'versed': 12459,\n",
              " 'calm': 2098,\n",
              " 'concentrate': 2782,\n",
              " 'properly': 9138,\n",
              " 'lead': 6696,\n",
              " 'uneasy': 12176,\n",
              " 'alright': 744,\n",
              " 'tanduri': 11487,\n",
              " 'warm': 12623,\n",
              " 'saleem': 10036,\n",
              " 'upto': 12302,\n",
              " 'mint': 7422,\n",
              " 'thats': 11681,\n",
              " 'define': 3326,\n",
              " 'secure': 10254,\n",
              " 'maintain': 7052,\n",
              " 'coolest': 2912,\n",
              " 'tooo': 11899,\n",
              " 'supreme': 11339,\n",
              " 'amazingly': 774,\n",
              " 'cooked': 2904,\n",
              " 'tremendous': 11983,\n",
              " 'birya': 1701,\n",
              " 'staturs': 11068,\n",
              " 'lime': 6801,\n",
              " 'shoda': 10474,\n",
              " 'wall': 12604,\n",
              " 'delighted': 3373,\n",
              " 'judi': 6192,\n",
              " 'busy': 2039,\n",
              " 'bug': 1989,\n",
              " 'birth': 1697,\n",
              " 'nick': 7870,\n",
              " 'muttan': 7691,\n",
              " 'regular': 9606,\n",
              " 'rat': 9441,\n",
              " 'speed': 10904,\n",
              " 'year': 12944,\n",
              " 'whenever': 12725,\n",
              " 'pice': 8742,\n",
              " 'nexr': 7858,\n",
              " 'within': 12804,\n",
              " 'degrade': 3340,\n",
              " '3rd': 263,\n",
              " 'mumbaikars': 7645,\n",
              " 'however': 5563,\n",
              " 'lowest': 6944,\n",
              " 'possible': 8946,\n",
              " 'bother': 1852,\n",
              " 'jus': 6215,\n",
              " 'anyone': 913,\n",
              " 'comparing': 2731,\n",
              " 'pista': 8790,\n",
              " 'house': 5558,\n",
              " 'shah': 10376,\n",
              " 'ghouse': 4961,\n",
              " 'chillie': 2435,\n",
              " 'hygiene': 5649,\n",
              " 'history': 5471,\n",
              " 'fall': 4308,\n",
              " 'badtrips': 1321,\n",
              " 'file': 4432,\n",
              " 'kunal': 6558,\n",
              " 'cater': 2218,\n",
              " 'saw': 10167,\n",
              " 'goodbiriyani': 5047,\n",
              " 'lollipop': 6888,\n",
              " 'large': 6649,\n",
              " 'portion': 8937,\n",
              " 'hungry': 5603,\n",
              " 'birayani': 1690,\n",
              " ...}"
            ]
          },
          "metadata": {},
          "execution_count": 141
        }
      ]
    },
    {
      "cell_type": "code",
      "source": [
        "print(cv_fit)"
      ],
      "metadata": {
        "colab": {
          "base_uri": "https://localhost:8080/"
        },
        "id": "DadQS0bIeGmr",
        "outputId": "ff1f1d4f-4eb8-4a2f-a700-a6a7aaf169bc"
      },
      "execution_count": 142,
      "outputs": [
        {
          "output_type": "stream",
          "name": "stdout",
          "text": [
            "CountVectorizer()\n"
          ]
        }
      ]
    },
    {
      "cell_type": "code",
      "source": [
        "### Transform the train and the test dataset separately\n",
        "norm_train_reviews=zomato['Review'][:8000]\n",
        "print('train:','\\n',norm_train_reviews[0])\n",
        "norm_train_cv_reviews=cv_fit.transform(norm_train_reviews)\n",
        "\n",
        "#Normalised test reviews\n",
        "norm_test_reviews=zomato['Review'][8000:]\n",
        "print('test:','\\n',norm_test_reviews[8001])\n",
        "norm_test_cv_reviews=cv_fit.transform(norm_test_reviews)"
      ],
      "metadata": {
        "colab": {
          "base_uri": "https://localhost:8080/"
        },
        "id": "d2hVZkD4abc6",
        "outputId": "41d38906-063f-4682-a449-d4c8b09e6602"
      },
      "execution_count": 110,
      "outputs": [
        {
          "output_type": "stream",
          "name": "stdout",
          "text": [
            "train: \n",
            " ambience good food quite good saturday lunch cost effective good place sate brunch one also chill friend parent waiter soumen das really courteous helpful\n",
            "test: \n",
            " pleasant experience tfw stuff tangdi kabab fantastic succulent mildly flavour great salad go sizzler biryani great innovative touch right well cook cabbage base add new twist term biryani definitely must visit\n"
          ]
        }
      ]
    },
    {
      "cell_type": "markdown",
      "source": [
        "### Splitting the output variable into test and train"
      ],
      "metadata": {
        "id": "LidLOR7Saxtl"
      }
    },
    {
      "cell_type": "code",
      "source": [
        "#Splitting the sentiment data\n",
        "train_sentiments=sentiment_data[:8000]\n",
        "test_sentiments=sentiment_data[8000:]"
      ],
      "metadata": {
        "id": "sfmZnujDbb_b"
      },
      "execution_count": 113,
      "outputs": []
    },
    {
      "cell_type": "code",
      "source": [
        "#Calculating sentiment count\n",
        "zomato['Sentiment'].value_counts()"
      ],
      "metadata": {
        "colab": {
          "base_uri": "https://localhost:8080/"
        },
        "id": "u303GE5rbnOL",
        "outputId": "994f53d3-1e62-4544-98d4-585eb4150128"
      },
      "execution_count": 116,
      "outputs": [
        {
          "output_type": "execute_result",
          "data": {
            "text/plain": [
              "Positive    7514\n",
              "Negative    2486\n",
              "Name: Sentiment, dtype: int64"
            ]
          },
          "metadata": {},
          "execution_count": 116
        }
      ]
    },
    {
      "cell_type": "code",
      "source": [
        "from sklearn.linear_model import LogisticRegression,SGDClassifier\n",
        "\n",
        "#Training the model\n",
        "lr=LogisticRegression(penalty='l2',max_iter=500,C=1,random_state=42)\n",
        "\n",
        "#Fitting the model for the bag of words\n",
        "lr_bow=lr.fit(norm_train_cv_reviews,train_sentiments)\n",
        "print(lr_bow)"
      ],
      "metadata": {
        "colab": {
          "base_uri": "https://localhost:8080/"
        },
        "id": "2sNXnw_ZboNq",
        "outputId": "412ff0ed-046b-4c87-d262-f0af879e8329"
      },
      "execution_count": 117,
      "outputs": [
        {
          "output_type": "stream",
          "name": "stdout",
          "text": [
            "LogisticRegression(C=1, max_iter=500, random_state=42)\n"
          ]
        }
      ]
    },
    {
      "cell_type": "code",
      "source": [
        "#Predicting the model for bag of words\n",
        "lr_bow_predict=lr.predict(norm_test_cv_reviews)\n",
        "print(lr_bow_predict)"
      ],
      "metadata": {
        "colab": {
          "base_uri": "https://localhost:8080/"
        },
        "id": "EsYQlMvIbwIM",
        "outputId": "304a15d7-9be4-43b4-df1a-57b7a8ac2a11"
      },
      "execution_count": 118,
      "outputs": [
        {
          "output_type": "stream",
          "name": "stdout",
          "text": [
            "[1 1 0 ... 1 1 1]\n"
          ]
        }
      ]
    },
    {
      "cell_type": "code",
      "source": [],
      "metadata": {
        "id": "iGp9lq_4byK9"
      },
      "execution_count": null,
      "outputs": []
    }
  ]
}