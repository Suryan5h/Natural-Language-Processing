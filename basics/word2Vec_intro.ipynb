{
  "nbformat": 4,
  "nbformat_minor": 0,
  "metadata": {
    "colab": {
      "provenance": [],
      "authorship_tag": "ABX9TyPVCHenHsmvxLus6gENaSrd",
      "include_colab_link": true
    },
    "kernelspec": {
      "name": "python3",
      "display_name": "Python 3"
    },
    "language_info": {
      "name": "python"
    }
  },
  "cells": [
    {
      "cell_type": "markdown",
      "metadata": {
        "id": "view-in-github",
        "colab_type": "text"
      },
      "source": [
        "<a href=\"https://colab.research.google.com/github/Suryan5h/Natural-Language-Processing/blob/main/basics/word2Vec_intro.ipynb\" target=\"_parent\"><img src=\"https://colab.research.google.com/assets/colab-badge.svg\" alt=\"Open In Colab\"/></a>"
      ]
    },
    {
      "cell_type": "code",
      "execution_count": 1,
      "metadata": {
        "colab": {
          "base_uri": "https://localhost:8080/"
        },
        "id": "UlpRqZVZ5JtV",
        "outputId": "4d376d5b-8c2f-4dbf-bc8e-e394897abb46"
      },
      "outputs": [
        {
          "output_type": "stream",
          "name": "stdout",
          "text": [
            "Looking in indexes: https://pypi.org/simple, https://us-python.pkg.dev/colab-wheels/public/simple/\n",
            "Requirement already satisfied: gensim in /usr/local/lib/python3.8/dist-packages (3.6.0)\n",
            "Requirement already satisfied: scipy>=0.18.1 in /usr/local/lib/python3.8/dist-packages (from gensim) (1.7.3)\n",
            "Requirement already satisfied: smart-open>=1.2.1 in /usr/local/lib/python3.8/dist-packages (from gensim) (6.3.0)\n",
            "Requirement already satisfied: numpy>=1.11.3 in /usr/local/lib/python3.8/dist-packages (from gensim) (1.21.6)\n",
            "Requirement already satisfied: six>=1.5.0 in /usr/local/lib/python3.8/dist-packages (from gensim) (1.15.0)\n"
          ]
        }
      ],
      "source": [
        "!pip install gensim"
      ]
    },
    {
      "cell_type": "code",
      "source": [
        "# imports\n",
        "\n",
        "import json\n",
        "from collections import Counter\n",
        "from gensim.models import Word2Vec\n",
        "import matplotlib.pyplot as plt\n",
        "\n",
        "%matplotlib inline"
      ],
      "metadata": {
        "id": "igLCmRy75SKN"
      },
      "execution_count": 2,
      "outputs": []
    },
    {
      "cell_type": "code",
      "source": [
        "# Load and display data\n",
        "\n",
        "with open('countries.json', 'r') as fout:\n",
        "    countries = json.load(fout)"
      ],
      "metadata": {
        "id": "2c_oM2Qu5ag9"
      },
      "execution_count": 4,
      "outputs": []
    },
    {
      "cell_type": "code",
      "source": [
        "countries['India'][:20]"
      ],
      "metadata": {
        "colab": {
          "base_uri": "https://localhost:8080/"
        },
        "id": "IRQJ_bWz5czs",
        "outputId": "ed2ac16f-fd9d-40d9-f836-09001786e8ef"
      },
      "execution_count": 5,
      "outputs": [
        {
          "output_type": "execute_result",
          "data": {
            "text/plain": [
              "['India',\n",
              " 'Hindi',\n",
              " 'Bhārat',\n",
              " 'officially',\n",
              " 'the',\n",
              " 'Republic',\n",
              " 'of',\n",
              " 'India',\n",
              " 'Hindi',\n",
              " 'Bhārat',\n",
              " 'Gaṇarājya',\n",
              " 'is',\n",
              " 'a',\n",
              " 'country',\n",
              " 'in',\n",
              " 'South',\n",
              " 'Asia',\n",
              " 'It',\n",
              " 'is',\n",
              " 'the']"
            ]
          },
          "metadata": {},
          "execution_count": 5
        }
      ]
    },
    {
      "cell_type": "code",
      "source": [
        "print(' '.join(countries['India'])[:512] + ' ...')"
      ],
      "metadata": {
        "colab": {
          "base_uri": "https://localhost:8080/"
        },
        "id": "NARSC9v96cLR",
        "outputId": "c47a9c86-a5e0-457b-e386-25978fced173"
      },
      "execution_count": 6,
      "outputs": [
        {
          "output_type": "stream",
          "name": "stdout",
          "text": [
            "India Hindi Bhārat officially the Republic of India Hindi Bhārat Gaṇarājya is a country in South Asia It is the second most populous country the seventh largest country by land area and the most populous democracy in the world Bounded by the Indian Ocean on the south the Arabian Sea on the southwest and the Bay of Bengal on the southeast it shares land borders with Pakistan to the west China Nepal and Bhutan to the north and Bangladesh and Myanmar to the east In the Indian Ocean India is in the vicinity of  ...\n"
          ]
        }
      ]
    },
    {
      "cell_type": "code",
      "source": [
        "for i, (country, text) in enumerate(countries.items()):\n",
        "    print(country)\n",
        "    print(' '.join(text)[:512] + ' ...')\n",
        "    print('-' * 100)\n",
        "    if i >= 5:\n",
        "        break"
      ],
      "metadata": {
        "colab": {
          "base_uri": "https://localhost:8080/"
        },
        "id": "HH8dfIV66dnt",
        "outputId": "8bdc34fc-a6af-44f0-882d-c842e1bf5aab"
      },
      "execution_count": 7,
      "outputs": [
        {
          "output_type": "stream",
          "name": "stdout",
          "text": [
            "Afghanistan\n",
            "Afghanistan listen Pashto Dari افغانستان Pashto Afġānistān avɣɒnisˈtɒn ab Dari Afġānestān avɣɒnesˈtɒn officially the Islamic Republic of Afghanistan is a mountainous landlocked country at the crossroads of Central and South Asia Afghanistan is bordered by Pakistan to the east and south Iran to the west Turkmenistan Uzbekistan and Tajikistan to the north and China to the northeast Occupying 652 000 square kilometers 252 000 sq mi it is a mountainous country with plains in the north and southwest Kabul is the ...\n",
            "----------------------------------------------------------------------------------------------------\n",
            "Albania\n",
            "Albania listen a w l BAY nee ə Albanian Shqipëri or Shqipëria officially the Republic of Albania Albanian Republika e Shqipërisë is a country in Southeastern Europe It is located on the Adriatic and Ionian Sea within the Mediterranean Sea and shares land borders with Montenegro to the northwest Kosovo to the northeast North Macedonia to the east Greece to the south and maritime borders with Greece Montenegro and Italy to the west Tirana is its capital and largest city followed by Durrës Vlorë and Shkodër Ge ...\n",
            "----------------------------------------------------------------------------------------------------\n",
            "Algeria\n",
            "Algeria officially the People s Democratic Republic of Algeria is a country in the Maghreb region of North Africa It is the largest country by total area in Africa and by extension the Arab world and is bordered to the northeast by Tunisia to the east by Libya to the southeast by Niger to the southwest by Mali Mauritania and Western Sahara to the west by Morocco and to the north by the Mediterranean Sea The country has a semi arid geography with most of the population living in the fertile north and the Sah ...\n",
            "----------------------------------------------------------------------------------------------------\n",
            "Andorra\n",
            "Andorra listen also UK Catalan ənˈdorə officially the Principality of Andorra Catalan Principat d Andorra is a sovereign landlocked microstate on the Iberian Peninsula in the eastern Pyrenees bordered by France to the north and Spain to the south Believed to have been created by Charlemagne Andorra was ruled by the count of Urgell until 988 when it was transferred to the Roman Catholic Diocese of Urgell The present principality was formed by a charter in 1278 It is headed by two co princes the Bishop of Urg ...\n",
            "----------------------------------------------------------------------------------------------------\n",
            "Angola\n",
            "Angola listen Portuguese ɐ ˈɡɔlɐ officially the Republic of Angola Portuguese República de Angola is a country located on the west coast of Southern Africa It is the second largest lusophone Portuguese speaking country in both total area and population behind Brazil and it is the seventh largest country in Africa bordered by Namibia to the south the Democratic Republic of the Congo to the north Zambia to the east and the Atlantic Ocean to the west Angola has an exclave province the province of Cabinda that  ...\n",
            "----------------------------------------------------------------------------------------------------\n",
            "Antigua and Barbuda\n",
            "Antigua and Barbuda listen an TEE g w ə bar B Y OO də is a sovereign island country in the West Indies in the Americas lying between the Caribbean Sea and the Atlantic Ocean It consists of two major islands Antigua and Barbuda separated by 63 km 39 mi and smaller islands including Great Bird Green Guiana Long Maiden Prickly Pear York Islands Redonda The permanent population number is about 97 120 2019 est with 97 being resident on Antigua The capital and largest port and city is St John s on Antigua with Co ...\n",
            "----------------------------------------------------------------------------------------------------\n"
          ]
        }
      ]
    },
    {
      "cell_type": "markdown",
      "source": [
        "Basic Word2Vec Usage"
      ],
      "metadata": {
        "id": "J-h8FYCe6fAO"
      }
    },
    {
      "cell_type": "code",
      "source": [
        "# Create and train a simple model\n",
        "\n",
        "model = Word2Vec(sentences=countries.values())"
      ],
      "metadata": {
        "id": "OJq2FF0G6hL9"
      },
      "execution_count": 9,
      "outputs": []
    },
    {
      "cell_type": "code",
      "source": [
        "# Check word similarities learnt by the model\n",
        "\n",
        "model.wv.most_similar('India', topn=5)"
      ],
      "metadata": {
        "colab": {
          "base_uri": "https://localhost:8080/"
        },
        "id": "-azB1SZV6jF9",
        "outputId": "5c0d4036-5b2e-4b36-e960-7efd24ca25bc"
      },
      "execution_count": 10,
      "outputs": [
        {
          "output_type": "execute_result",
          "data": {
            "text/plain": [
              "[('Brazil', 0.868998110294342),\n",
              " ('Iran', 0.8307861685752869),\n",
              " ('China', 0.824496865272522),\n",
              " ('Mozambique', 0.7957330942153931),\n",
              " ('Morocco', 0.7947092652320862)]"
            ]
          },
          "metadata": {},
          "execution_count": 10
        }
      ]
    },
    {
      "cell_type": "code",
      "source": [
        "# Enable computation of loss\n",
        "\n",
        "model = Word2Vec(\n",
        "    sentences=countries.values(),\n",
        "    compute_loss=True\n",
        ")\n",
        "model.get_latest_training_loss()"
      ],
      "metadata": {
        "colab": {
          "base_uri": "https://localhost:8080/"
        },
        "id": "4ZeZGUob6kXe",
        "outputId": "41145acd-c28e-4c47-da6c-dec8a5c62e7f"
      },
      "execution_count": 11,
      "outputs": [
        {
          "output_type": "execute_result",
          "data": {
            "text/plain": [
              "5322032.0"
            ]
          },
          "metadata": {},
          "execution_count": 11
        }
      ]
    },
    {
      "cell_type": "markdown",
      "source": [
        "Word2Vec options"
      ],
      "metadata": {
        "id": "WefnBRoS6mRt"
      }
    },
    {
      "cell_type": "code",
      "source": [
        "Word2Vec?"
      ],
      "metadata": {
        "id": "NacdV58A6oyN"
      },
      "execution_count": 12,
      "outputs": []
    },
    {
      "cell_type": "markdown",
      "source": [
        "Heuristics for Word2vec algorithms"
      ],
      "metadata": {
        "id": "xSX4VJd-6qju"
      }
    },
    {
      "cell_type": "code",
      "source": [
        "#Determining size of the vocabulary\n",
        "# How many unique words in the vocabulary?\n",
        "\n",
        "counter = Counter()\n",
        "for words in countries.values():\n",
        "    for word in words:\n",
        "        counter.update([word])\n",
        "\n",
        "print(len(counter))"
      ],
      "metadata": {
        "colab": {
          "base_uri": "https://localhost:8080/"
        },
        "id": "pO77puC-6tX9",
        "outputId": "64a10ff5-7cef-4f48-9f5f-9bd241870f78"
      },
      "execution_count": 13,
      "outputs": [
        {
          "output_type": "stream",
          "name": "stdout",
          "text": [
            "85125\n"
          ]
        }
      ]
    }
  ]
}