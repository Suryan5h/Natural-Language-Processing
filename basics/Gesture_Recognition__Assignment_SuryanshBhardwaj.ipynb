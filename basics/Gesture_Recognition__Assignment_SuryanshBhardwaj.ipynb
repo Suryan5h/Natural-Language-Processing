{
  "cells": [
    {
      "cell_type": "markdown",
      "metadata": {
        "id": "view-in-github",
        "colab_type": "text"
      },
      "source": [
        "<a href=\"https://colab.research.google.com/github/Suryan5h/Natural-Language-Processing/blob/main/basics/Gesture_Recognition__Assignment_SuryanshBhardwaj.ipynb\" target=\"_parent\"><img src=\"https://colab.research.google.com/assets/colab-badge.svg\" alt=\"Open In Colab\"/></a>"
      ]
    },
    {
      "cell_type": "markdown",
      "metadata": {
        "id": "A6NQfYucNGQ6"
      },
      "source": [
        "# Gesture Recognition\n",
        "In this group project, you are going to build a 3D Conv model that will be able to predict the 5 gestures correctly. Please import the following libraries to get started."
      ]
    },
    {
      "cell_type": "code",
      "execution_count": 1,
      "metadata": {
        "id": "62pvCqKfNGQ7"
      },
      "outputs": [],
      "source": [
        "import numpy as np\n",
        "import os\n",
        "#from scipy.misc import imread, imresize\n",
        "import cv2\n",
        "import imageio\n",
        "import datetime\n",
        "import os\n",
        "#from PIL import Image, ImageFilter, ImageEnhance"
      ]
    },
    {
      "cell_type": "markdown",
      "metadata": {
        "id": "HQeK9faCNGQ8"
      },
      "source": [
        "We set the random seed so that the results don't vary drastically."
      ]
    },
    {
      "cell_type": "code",
      "execution_count": 2,
      "metadata": {
        "id": "tiGnVDNeNGQ9"
      },
      "outputs": [],
      "source": [
        "np.random.seed(30)\n",
        "import random as rn\n",
        "rn.seed(30)\n",
        "from keras import backend as K\n",
        "import tensorflow as tf\n",
        "tf.random.set_seed(30)"
      ]
    },
    {
      "cell_type": "markdown",
      "metadata": {
        "id": "dv7HkzxnNGQ9"
      },
      "source": [
        "In this block, you read the folder names for training and validation. You also set the `batch_size` here. Note that you set the batch size in such a way that you are able to use the GPU in full capacity. You keep increasing the batch size until the machine throws an error."
      ]
    },
    {
      "cell_type": "code",
      "execution_count": 3,
      "metadata": {
        "colab": {
          "base_uri": "https://localhost:8080/"
        },
        "id": "rGpA7Yu2P0Ne",
        "outputId": "ae32fb48-bbde-4b66-d024-3bf129152cf8"
      },
      "outputs": [
        {
          "output_type": "stream",
          "name": "stdout",
          "text": [
            "Mounted at /content/drive\n"
          ]
        }
      ],
      "source": [
        "from google.colab import drive\n",
        "drive.mount('/content/drive')"
      ]
    },
    {
      "cell_type": "code",
      "execution_count": 4,
      "metadata": {
        "id": "y9Zpu-GaNGQ9"
      },
      "outputs": [],
      "source": [
        "train_doc = np.random.permutation(open('/content/drive/MyDrive/Colab Notebooks/Project_data/train.csv').readlines())\n",
        "val_doc = np.random.permutation(open('/content/drive/MyDrive/Colab Notebooks/Project_data/val.csv').readlines())\n",
        "batch_size = 32"
      ]
    },
    {
      "cell_type": "markdown",
      "metadata": {
        "id": "t5RqahJTNGQ-"
      },
      "source": [
        "## Generator\n",
        "This is one of the most important part of the code. The overall structure of the generator has been given. In the generator, you are going to preprocess the images as you have images of 2 different dimensions as well as create a batch of video frames. You have to experiment with `img_idx`, `y`,`z` and normalization such that you get high accuracy."
      ]
    },
    {
      "cell_type": "code",
      "execution_count": 5,
      "metadata": {
        "id": "GHptCdVVW4zt"
      },
      "outputs": [],
      "source": [
        "#using percentile to deal with outliers in the data.\n",
        "def normalize_image(img):\n",
        "    #using percentile for normalization for images, as min-max is giving better results.\n",
        "    # normalized_image= img - np.percentile(img,15)/ np.percentile(img,85) - np.percentile(img,15) \n",
        "    normalized_image= (img - np.min(img))/(np.max(img)- np.min(img))\n",
        "    return normalized_image"
      ]
    },
    {
      "cell_type": "code",
      "execution_count": 6,
      "metadata": {
        "id": "FG-5QAG2bHd-"
      },
      "outputs": [],
      "source": [
        "seq_idx = range(7,26,3)"
      ]
    },
    {
      "cell_type": "code",
      "execution_count": 25,
      "metadata": {
        "id": "VsQvcV-LNGQ-"
      },
      "outputs": [],
      "source": [
        "def generator(source_path, folder_list, batch_size):\n",
        "    print( 'Source path = ', source_path, '; batch size =', batch_size)\n",
        "    img_idx = seq_idx\n",
        "    x = len(img_idx)\n",
        "    # image dimensions\n",
        "    y, z = 120, 120\n",
        "    while True:\n",
        "        t = np.random.permutation(folder_list)\n",
        "        num_batches = len(folder_list)//batch_size # calculate the number of batches\n",
        "        for batch in range(num_batches): # we iterate over the number of batches\n",
        "            batch_data = np.zeros((batch_size,x,y,z,3)) # x is the number of images you use for each video, (y,z) is the final size of the input images and 3 is the number of channels RGB\n",
        "            batch_labels = np.zeros((batch_size,5)) # batch_labels is the one hot representation of the output\n",
        "            for folder in range(batch_size): # iterate over the batch_size\n",
        "                imgs = os.listdir(source_path+'/'+ t[folder + (batch*batch_size)].split(';')[0]) # read all the images in the folder\n",
        "                for idx,item in enumerate(img_idx): #  Iterate iver the frames/images of a folder to read them in\n",
        "                    image = cv2.imread(source_path+'/'+ t[folder + (batch*batch_size)].strip().split(';')[0]+'/'+imgs[item]).astype(np.float32)\n",
        "                    \n",
        "                    #crop the images and resize them. Note that the images are of 2 different shape \n",
        "                    #and the conv3D will throw error if the inputs in a batch have different shapes\n",
        "                    if image.shape[1] > image.shape[0]:\n",
        "                        diff_px = image.shape[1] - image.shape[0]\n",
        "                        crop_start = diff_px//2\n",
        "                        crop_end = crop_start + image.shape[0]\n",
        "                        image = image[:, crop_start:crop_end]\n",
        "                    elif image.shape[0] > image.shape[1]:\n",
        "                        diff_px = image.shape[0] - image.shape[1]\n",
        "                        crop_start = diff_px//2\n",
        "                        crop_end = crop_start + image.shape[1]\n",
        "                        image = image[:, crop_start:crop_end]\n",
        "\n",
        "                    resized_im = cv2.resize(image, dsize=(y,z))\n",
        "                    \n",
        "                    batch_data[folder,idx,:,:,0] = normalize_image(resized_im[:, : , 0]) #normalise and feed in the image\n",
        "                    batch_data[folder,idx,:,:,1] = normalize_image(resized_im[:, : , 1]) #normalise and feed in the image\n",
        "                    batch_data[folder,idx,:,:,2] = normalize_image(resized_im[:, : , 2])#normalise and feed in the image\n",
        "                    \n",
        "                batch_labels[folder, int(t[folder + (batch*batch_size)].strip().split(';')[2])] = 1\n",
        "            yield batch_data, batch_labels #you yield the batch_data and the batch_labels, remember what does yield do\n",
        "\n",
        "        \n",
        "        # write the code for the remaining data points which are left after full batches\n",
        "        if((len(source_path)%batch_size)//2==0):\n",
        "            batch_size = 2\n",
        "        else:\n",
        "            batch_size = 1\n",
        "        num_batches = len(source_path)%batch_size # calculate the number of batches\n",
        "        for batch in range(num_batches): # we iterate over the number of batches\n",
        "            batch_data = np.zeros((batch_size,x,y,z,3)) # x is the number of images you use for each video, (y,z) is the final size of the input images and 3 is the number of channels RGB\n",
        "            batch_labels = np.zeros((batch_size,5)) # batch_labels is the one hot representation of the output\n",
        "            for folder in range(batch_size): # iterate over the batch_size\n",
        "                imgs = os.listdir(source_path+'/'+ t[folder + (batch*batch_size)].split(';')[0]) # read all the images in the folder\n",
        "                for idx,item in enumerate(img_idx): #  Iterate iver the frames/images of a folder to read them in\n",
        "                    image = cv2.imread(source_path+'/'+ t[folder + (batch*batch_size)].strip().split(';')[0]+'/'+imgs[item]).astype(np.float32)\n",
        "                    \n",
        "                    \n",
        "                    \n",
        "                    # Cropped image of above dimension \n",
        "                    # (It will not change orginal image) \n",
        "                    \n",
        "                    #image = image.crop((0, 0, 120, 120))\n",
        "                    image = image.resize(100, 100)\n",
        "                    \n",
        "                    if image.shape[1] > image.shape[0]:\n",
        "                        diff_px = image.shape[1] - image.shape[0]\n",
        "                        crop_start = diff_px//2\n",
        "                        crop_end = crop_start + image.shape[0]\n",
        "                        image = image[:, crop_start:crop_end]\n",
        "                    elif image.shape[0] > image.shape[1]:\n",
        "                        diff_px = image.shape[0] - image.shape[1]\n",
        "                        crop_start = diff_px//2\n",
        "                        crop_end = crop_start + image.shape[1]\n",
        "                        image = image[:, crop_start:crop_end]\n",
        "\n",
        "                    resized_im = cv2.resize(image, dsize=(y,z))\n",
        "                    \n",
        "                    batch_data[folder,idx,:,:,0] = normalize_image(resized_im[:, : , 0]) #normalise and feed in the image\n",
        "                    batch_data[folder,idx,:,:,1] = normalize_image(resized_im[:, : , 1]) #normalise and feed in the image\n",
        "                    batch_data[folder,idx,:,:,2] = normalize_image(resized_im[:, : , 2])#normalise and feed in the image\n",
        "                    \n",
        "                batch_labels[folder, int(t[folder + (batch*batch_size)].strip().split(';')[2])] = 1\n",
        "            yield batch_data, batch_labels #you yield the batch_data and the batch_labels, remember what does yield do"
      ]
    },
    {
      "cell_type": "markdown",
      "metadata": {
        "id": "ac-KaietNGQ_"
      },
      "source": [
        "Note here that a video is represented above in the generator as (number of images, height, width, number of channels). Take this into consideration while creating the model architecture."
      ]
    },
    {
      "cell_type": "code",
      "execution_count": 26,
      "metadata": {
        "colab": {
          "base_uri": "https://localhost:8080/"
        },
        "id": "Tgs_Vb0eNGQ_",
        "outputId": "6fd696e8-77e4-4513-9346-9292ac7716ff"
      },
      "outputs": [
        {
          "output_type": "stream",
          "name": "stdout",
          "text": [
            "# training sequences = 663\n",
            "# validation sequences = 100\n",
            "# epochs = 50\n"
          ]
        }
      ],
      "source": [
        "curr_dt_time = datetime.datetime.now()\n",
        "train_path = '/content/drive/MyDrive/Colab Notebooks/Project_data/train'\n",
        "val_path = '/content/drive/MyDrive/Colab Notebooks/Project_data/val'\n",
        "num_train_sequences = len(train_doc)\n",
        "print('# training sequences =', num_train_sequences)\n",
        "num_val_sequences = len(val_doc)\n",
        "print('# validation sequences =', num_val_sequences)\n",
        "num_epochs = 50 # choose the number of epochs\n",
        "print ('# epochs =', num_epochs)"
      ]
    },
    {
      "cell_type": "markdown",
      "metadata": {
        "id": "re5i2M-3NGQ_"
      },
      "source": [
        "## Model\n",
        "Here you make the model using different functionalities that Keras provides. Remember to use `Conv3D` and `MaxPooling3D` and not `Conv2D` and `Maxpooling2D` for a 3D convolution model. You would want to use `TimeDistributed` while building a Conv2D + RNN model. Also remember that the last layer is the softmax. Design the network in such a way that the model is able to give good accuracy on the least number of parameters so that it can fit in the memory of the webcam."
      ]
    },
    {
      "cell_type": "code",
      "execution_count": 27,
      "metadata": {
        "id": "MAN44LbANGRA"
      },
      "outputs": [],
      "source": [
        "from keras.models import Sequential, Model\n",
        "from keras.layers import Dense, GRU, Flatten, TimeDistributed, Flatten, BatchNormalization, Activation, Rescaling, Dropout, GlobalAveragePooling3D, ConvLSTM2D\n",
        "from keras.layers.convolutional import Conv3D, MaxPooling3D\n",
        "from keras.callbacks import ModelCheckpoint, ReduceLROnPlateau\n",
        "from keras import optimizers\n",
        "\n",
        "#write your model here\n",
        "#input shape for the st layer\n",
        "input_shape = (len(seq_idx), 120, 120, 3)"
      ]
    },
    {
      "cell_type": "markdown",
      "metadata": {
        "id": "NLxNVOoLaI5-"
      },
      "source": [
        "Experiment - 1 (Conv3D)"
      ]
    },
    {
      "cell_type": "code",
      "execution_count": 10,
      "metadata": {
        "id": "ync9xoW7GZgn"
      },
      "outputs": [],
      "source": [
        "# model = Sequential()\n",
        "# model.add(Conv3D(32, kernel_size=3, activation='relu', input_shape=input_shape))\n",
        "# model.add(MaxPooling3D(pool_size=1))\n",
        "\n",
        "# model.add(Conv3D(64, kernel_size=3, activation='relu'))\n",
        "# model.add(MaxPooling3D(pool_size=2))\n",
        "\n",
        "# model.add(Flatten())\n",
        "# model.add(Dense(16, activation='relu'))\n",
        "# model.add(Dense(5, activation='softmax'))"
      ]
    },
    {
      "cell_type": "markdown",
      "metadata": {
        "id": "Qh-cYWd3u9D7"
      },
      "source": [
        "Experiment - 2 (Conv3D - As Model is underfit, need more training)"
      ]
    },
    {
      "cell_type": "code",
      "execution_count": 11,
      "metadata": {
        "id": "UfyFM45mvI1C"
      },
      "outputs": [],
      "source": [
        "# model = Sequential()\n",
        "\n",
        "# model.add(Conv3D(32, kernel_size=3, activation='relu', input_shape=input_shape,padding='same'))\n",
        "# model.add(Conv3D(64, kernel_size=3, activation='relu', padding='same'))\n",
        "# model.add(MaxPooling3D(pool_size=(2, 2, 2)))\n",
        "\n",
        "# model.add(Conv3D(128, kernel_size=3, activation='relu',padding='same'))\n",
        "# model.add(MaxPooling3D(pool_size=(2, 2, 2)))\n",
        "\n",
        "# model.add(Conv3D(256, kernel_size=(3, 3, 3), activation='relu',padding='same'))\n",
        "\n",
        "# model.add(Conv3D(512, kernel_size=(3, 3, 3), activation='relu',padding='same'))\n",
        "# model.add(Conv3D(512, kernel_size=(3, 3, 3), activation='relu',padding='same'))\n",
        "# model.add(MaxPooling3D(pool_size=1))\n",
        "\n",
        "# model.add(Flatten())\n",
        "# model.add(Dense(512, activation='relu'))\n",
        "# model.add(Dense(5, activation='softmax'))"
      ]
    },
    {
      "cell_type": "markdown",
      "metadata": {
        "id": "pjET0PxN2pm4"
      },
      "source": [
        "Experiment - 3"
      ]
    },
    {
      "cell_type": "code",
      "execution_count": 12,
      "metadata": {
        "id": "cjPHBnyD2sZf"
      },
      "outputs": [],
      "source": [
        "# model = Sequential()\n",
        "\n",
        "# model.add(Conv3D(32, kernel_size=3, activation='relu', input_shape=input_shape,padding='same'))\n",
        "# model.add(Conv3D(64, kernel_size=3, activation='relu',padding='same'))\n",
        "# model.add(MaxPooling3D(pool_size=(2, 2, 2)))\n",
        "\n",
        "# model.add(Conv3D(128, kernel_size=3, activation='relu',padding='same'))\n",
        "# model.add(MaxPooling3D(pool_size=(1, 2, 2)))\n",
        "\n",
        "# model.add(Conv3D(256, kernel_size=(1, 3, 3), activation='relu',padding='same'))\n",
        "# model.add(MaxPooling3D(pool_size=(1, 2, 2)))\n",
        "\n",
        "# model.add(Conv3D(512, kernel_size=(1, 3, 3), activation='relu',padding='same'))\n",
        "# model.add(Conv3D(512, kernel_size=(1, 3, 3), activation='relu',padding='same'))\n",
        "# model.add(MaxPooling3D(pool_size=(1, 2, 2)))\n",
        "\n",
        "# model.add(Flatten())\n",
        "# model.add(Dense(512, activation='relu'))\n",
        "# model.add(Dense(5, activation='softmax'))"
      ]
    },
    {
      "cell_type": "markdown",
      "metadata": {
        "id": "EfQ6d0H-AkgU"
      },
      "source": [
        "Experiment - 4 (Batch Normalization and adding dropout layers in between)"
      ]
    },
    {
      "cell_type": "code",
      "execution_count": 13,
      "metadata": {
        "id": "1JOhwvcGAuTE"
      },
      "outputs": [],
      "source": [
        "# model = Sequential()\n",
        "\n",
        "# model.add(Conv3D(32, kernel_size=3, activation='relu', input_shape=input_shape,padding='same'))\n",
        "# model.add(Conv3D(64, kernel_size=3, activation='relu',padding='same'))\n",
        "# model.add(MaxPooling3D(pool_size=(2, 2, 2)))\n",
        "# model.add(BatchNormalization())\n",
        "# model.add(Dropout(0.5))\n",
        "\n",
        "# model.add(Conv3D(128, kernel_size=3, activation='relu',padding='same'))\n",
        "# model.add(MaxPooling3D(pool_size=(1, 2, 2)))\n",
        "# model.add(BatchNormalization())\n",
        "# model.add(Dropout(0.5))\n",
        "\n",
        "# model.add(Conv3D(256, kernel_size=(1, 3, 3), activation='relu',padding='same'))\n",
        "# model.add(MaxPooling3D(pool_size=(1, 2, 2)))\n",
        "# model.add(BatchNormalization())\n",
        "# model.add(Dropout(0.5))\n",
        "\n",
        "# model.add(Conv3D(512, kernel_size=(1, 3, 3), activation='relu',padding='same'))\n",
        "# model.add(Conv3D(512, kernel_size=(1, 3, 3), activation='relu',padding='same'))\n",
        "# model.add(MaxPooling3D(pool_size=(1, 2, 2)))\n",
        "# model.add(BatchNormalization())\n",
        "# model.add(Dropout(0.5))\n",
        "\n",
        "# model.add(Flatten())\n",
        "# model.add(Dense(512, activation='relu'))\n",
        "# model.add(BatchNormalization())\n",
        "# model.add(Dense(5, activation='softmax'))"
      ]
    },
    {
      "cell_type": "markdown",
      "metadata": {
        "id": "dWaraRgVv7JV"
      },
      "source": [
        "Model 4 results:\n",
        "1. Epoch 27, Training accuracy = 99.55%\n",
        "2. Training Loss = 0.03778\n",
        "3. Validation Accuracy = 64.02% (Highest till Model 4)\n",
        "4. Validation Loss = 1.36040\n",
        "\n",
        "So, this model is performing good with high training accuracy and moderate validation accuracy after doing batch normalization and adding dropout layers for solving overfitting."
      ]
    },
    {
      "cell_type": "markdown",
      "metadata": {
        "id": "8vetIaR7p2f3"
      },
      "source": [
        "Experiment - 5"
      ]
    },
    {
      "cell_type": "code",
      "execution_count": 14,
      "metadata": {
        "id": "UKyWlxyDp6Vx"
      },
      "outputs": [],
      "source": [
        "# model = Sequential()\n",
        "\n",
        "# model.add(Conv3D(32, kernel_size=3, activation='relu', input_shape=input_shape))\n",
        "# model.add(Conv3D(64, kernel_size=3, activation='relu',padding='same'))\n",
        "# model.add(MaxPooling3D(pool_size=(2, 2, 2)))\n",
        "# model.add(BatchNormalization())\n",
        "# model.add(Dropout(0.2))\n",
        "\n",
        "# model.add(Conv3D(128, kernel_size=3, activation='relu',padding='same'))\n",
        "# model.add(MaxPooling3D(pool_size=(1, 2, 2)))\n",
        "# model.add(BatchNormalization())\n",
        "# model.add(Dropout(0.2))\n",
        "\n",
        "# model.add(Conv3D(256, kernel_size=(1, 3, 3), activation='relu',padding='same'))\n",
        "# model.add(MaxPooling3D(pool_size=(1, 2, 2)))\n",
        "# model.add(BatchNormalization())\n",
        "# model.add(Dropout(0.2))\n",
        "\n",
        "# model.add(GlobalAveragePooling3D())\n",
        "# model.add(Dense(512, activation='relu'))\n",
        "# model.add(BatchNormalization())\n",
        "# model.add(Dense(5, activation='softmax'))"
      ]
    },
    {
      "cell_type": "markdown",
      "metadata": {
        "id": "s8zT7G-14NO8"
      },
      "source": [
        "Model 5 results:\n",
        "1. Epoch 50, Training accuracy = 89.28%\n",
        "2. Training Loss = 0.28310\n",
        "3. Validation Accuracy = 71.875% (Highest till Model 5)\n",
        "4. Validation Loss = 0.9690\n",
        "\n",
        "So, this model is performing really well with moderate training accuracy (Neither overfitting nor underfitting) and moderate validation accuracy after experimenting with Conv3D layers, Dropout layer and using GlobalAveragePooling3D.\n",
        "<br>\n",
        "This is a pretty good model using Conv3D. Now we will try to experiment with TimeDistributed."
      ]
    },
    {
      "cell_type": "markdown",
      "metadata": {
        "id": "5_97PShh5Q1L"
      },
      "source": [
        "Experiment - 6 (Time Distributed Conv2D+ GRU)"
      ]
    },
    {
      "cell_type": "code",
      "execution_count": 15,
      "metadata": {
        "id": "NwN-2mnn5lA_"
      },
      "outputs": [],
      "source": [
        "# Importing Libraries\n",
        "from keras.layers.convolutional import Conv2D, MaxPooling2D\n",
        "from keras.layers import GlobalAveragePooling2D"
      ]
    },
    {
      "cell_type": "code",
      "execution_count": 16,
      "metadata": {
        "id": "ujUG78mS5UM1"
      },
      "outputs": [],
      "source": [
        "# model = Sequential()\n",
        "# model.add(TimeDistributed(\n",
        "#     Conv2D(32, (3,3), activation='relu'), input_shape=input_shape)\n",
        "# )\n",
        "# model.add(TimeDistributed(\n",
        "#     MaxPooling2D((2,2)))\n",
        "# )\n",
        "# model.add(BatchNormalization())\n",
        "\n",
        "# model.add(TimeDistributed(\n",
        "#     Conv2D(64, (3,3), activation='relu',padding='same'))\n",
        "# )\n",
        "# model.add(TimeDistributed(\n",
        "#     MaxPooling2D((2,2)))\n",
        "# )\n",
        "# model.add(BatchNormalization())\n",
        "\n",
        "# model.add(TimeDistributed(GlobalAveragePooling2D()))\n",
        "# model.add(TimeDistributed(Dense(64, activation='relu')))\n",
        "# model.add(BatchNormalization())\n",
        "\n",
        "# model.add(GRU(128))\n",
        "# model.add(BatchNormalization())\n",
        "# model.add(Dense(5, activation='softmax'))"
      ]
    },
    {
      "cell_type": "markdown",
      "metadata": {
        "id": "TebfQPzNkedk"
      },
      "source": [
        "Model 6 results:\n",
        "\n",
        "Epoch 45, Training accuracy = 88.988% <br>\n",
        "Training Loss = 0.31143 <br>\n",
        "Validation Accuracy = 75% (Highest till Model 6) <br>\n",
        "Validation Loss = 0.96900.57760 <br>\n",
        "So, this model is performing really well without any tuning on training accuracy (Neither overfitting nor underfitting) and good validation accuracy (75%) using TimeDistributed Conv2D+ GRU architecture."
      ]
    },
    {
      "cell_type": "markdown",
      "metadata": {
        "id": "U_rUtnbWmLnh"
      },
      "source": [
        "Experiment - 7 (Added dropout layers in model 6)"
      ]
    },
    {
      "cell_type": "code",
      "execution_count": 17,
      "metadata": {
        "id": "-PukbLMLmTg9"
      },
      "outputs": [],
      "source": [
        "model = Sequential()\n",
        "model.add(TimeDistributed(\n",
        "    Conv2D(32, (3,3), activation='relu'), input_shape=input_shape)\n",
        ")\n",
        "model.add(TimeDistributed(\n",
        "    MaxPooling2D((2,2)))\n",
        ")\n",
        "model.add(BatchNormalization())\n",
        "model.add(Dropout(0.2))\n",
        "\n",
        "model.add(TimeDistributed(\n",
        "    Conv2D(64, (3,3), activation='relu',padding='same'))\n",
        ")\n",
        "model.add(TimeDistributed(\n",
        "    MaxPooling2D((2,2)))\n",
        ")\n",
        "model.add(BatchNormalization())\n",
        "model.add(Dropout(0.2))\n",
        "\n",
        "model.add(TimeDistributed(GlobalAveragePooling2D()))\n",
        "model.add(TimeDistributed(Dense(64, activation='relu')))\n",
        "model.add(BatchNormalization())\n",
        "model.add(Dropout(0.2))\n",
        "\n",
        "model.add(GRU(128))\n",
        "model.add(BatchNormalization())\n",
        "model.add(Dense(5, activation='softmax'))"
      ]
    },
    {
      "cell_type": "markdown",
      "metadata": {
        "id": "jyTQLvbTQiHY"
      },
      "source": [
        "Model 7 results:\n",
        "\n",
        "Epoch 45, Training accuracy = 93.155% <br>\n",
        "Training Loss = 0.20165 <br>\n",
        "Validation Accuracy = 78.90% (Highest till Model 7) <br>\n",
        "Validation Loss = 0.63995 <br>\n",
        "So, this model is performing really well after adding dropout layers with impressive validation accuracy (78.9%) using TimeDistributed Conv2D+ GRU architecture."
      ]
    },
    {
      "cell_type": "markdown",
      "metadata": {
        "id": "vyInb__JRUpX"
      },
      "source": [
        "Experiment - 8 (Time Distributed Conv2D+ ConvLSTM2D)<br>\n",
        "###NOTE: Commented out Experiment 8 instead of experiment 7 because Experiment 7 is our final model with the best accuracy. But the last model fitted was experiment 8 (implemented below) which is less accurate than Model/Experiment 7."
      ]
    },
    {
      "cell_type": "code",
      "execution_count": 18,
      "metadata": {
        "id": "XnaTtnq9RZ92"
      },
      "outputs": [],
      "source": [
        "# model = Sequential()\n",
        "# model.add(TimeDistributed(\n",
        "#     Conv2D(8, (3,3), activation='relu'), input_shape=input_shape)\n",
        "# )\n",
        "# model.add(BatchNormalization())\n",
        "# model.add(TimeDistributed(\n",
        "#     Conv2D(16, (3,3), activation='relu'))\n",
        "# )\n",
        "# model.add(BatchNormalization())\n",
        "# model.add(\n",
        "#     ConvLSTM2D(8, kernel_size = 3, return_sequences=False)\n",
        "# )\n",
        "# model.add(BatchNormalization())\n",
        "# model.add(TimeDistributed(\n",
        "#     Dense(64, activation='relu'))\n",
        "# )\n",
        "# model.add(BatchNormalization())\n",
        "# model.add(GlobalAveragePooling2D())\n",
        "# model.add(Dense(64, activation='relu'))\n",
        "# model.add(Dense(5, activation='softmax'))"
      ]
    },
    {
      "cell_type": "code",
      "execution_count": 19,
      "metadata": {
        "colab": {
          "base_uri": "https://localhost:8080/"
        },
        "id": "poovdWBQNGRA",
        "outputId": "16d4cc3e-109f-4cf4-cdef-49cbaa5453fc",
        "scrolled": true
      },
      "outputs": [
        {
          "output_type": "stream",
          "name": "stdout",
          "text": [
            "Model: \"sequential\"\n",
            "_________________________________________________________________\n",
            " Layer (type)                Output Shape              Param #   \n",
            "=================================================================\n",
            " time_distributed (TimeDistr  (None, 7, 118, 118, 8)   224       \n",
            " ibuted)                                                         \n",
            "                                                                 \n",
            " batch_normalization (BatchN  (None, 7, 118, 118, 8)   32        \n",
            " ormalization)                                                   \n",
            "                                                                 \n",
            " time_distributed_1 (TimeDis  (None, 7, 116, 116, 16)  1168      \n",
            " tributed)                                                       \n",
            "                                                                 \n",
            " batch_normalization_1 (Batc  (None, 7, 116, 116, 16)  64        \n",
            " hNormalization)                                                 \n",
            "                                                                 \n",
            " conv_lstm2d (ConvLSTM2D)    (None, 114, 114, 8)       6944      \n",
            "                                                                 \n",
            " batch_normalization_2 (Batc  (None, 114, 114, 8)      32        \n",
            " hNormalization)                                                 \n",
            "                                                                 \n",
            " time_distributed_2 (TimeDis  (None, 114, 114, 64)     576       \n",
            " tributed)                                                       \n",
            "                                                                 \n",
            " batch_normalization_3 (Batc  (None, 114, 114, 64)     256       \n",
            " hNormalization)                                                 \n",
            "                                                                 \n",
            " global_average_pooling2d (G  (None, 64)               0         \n",
            " lobalAveragePooling2D)                                          \n",
            "                                                                 \n",
            " dense_1 (Dense)             (None, 64)                4160      \n",
            "                                                                 \n",
            " dense_2 (Dense)             (None, 5)                 325       \n",
            "                                                                 \n",
            "=================================================================\n",
            "Total params: 13,781\n",
            "Trainable params: 13,589\n",
            "Non-trainable params: 192\n",
            "_________________________________________________________________\n",
            "None\n"
          ]
        },
        {
          "output_type": "stream",
          "name": "stderr",
          "text": [
            "/usr/local/lib/python3.8/dist-packages/keras/optimizers/optimizer_v2/adam.py:117: UserWarning: The `lr` argument is deprecated, use `learning_rate` instead.\n",
            "  super().__init__(name, **kwargs)\n"
          ]
        }
      ],
      "source": [
        "optimiser = optimizers.Adam(lr=0.01) #write your optimizer\n",
        "model.compile(optimizer=optimiser, loss='categorical_crossentropy', metrics=['categorical_accuracy'])\n",
        "print (model.summary())"
      ]
    },
    {
      "cell_type": "markdown",
      "metadata": {
        "id": "ADo58CBnNGRB"
      },
      "source": [
        "Let us create the `train_generator` and the `val_generator` which will be used in `.fit_generator`."
      ]
    },
    {
      "cell_type": "code",
      "execution_count": 28,
      "metadata": {
        "id": "Masnyrm8NGRB"
      },
      "outputs": [],
      "source": [
        "train_generator = generator(train_path, train_doc, batch_size)\n",
        "val_generator = generator(val_path, val_doc, batch_size)"
      ]
    },
    {
      "cell_type": "code",
      "execution_count": 21,
      "metadata": {
        "colab": {
          "base_uri": "https://localhost:8080/"
        },
        "id": "BGod3S5HNGRB",
        "outputId": "53bd1198-daca-43ec-e830-eb9d9d3fa6ec"
      },
      "outputs": [
        {
          "output_type": "stream",
          "name": "stderr",
          "text": [
            "WARNING:tensorflow:`period` argument is deprecated. Please use `save_freq` to specify the frequency in number of batches seen.\n"
          ]
        }
      ],
      "source": [
        "model_name = 'model_8_init' + '_' + str(curr_dt_time).replace(' ','').replace(':','_') + '/'\n",
        "    \n",
        "if not os.path.exists(model_name):\n",
        "    os.mkdir(model_name)\n",
        "        \n",
        "filepath = model_name + 'model8-{epoch:05d}-{loss:.5f}-{categorical_accuracy:.5f}-{val_loss:.5f}-{val_categorical_accuracy:.5f}.h5'\n",
        "\n",
        "checkpoint = ModelCheckpoint(filepath, monitor='val_loss', verbose=1, save_best_only=False, save_weights_only=False, mode='auto', period=1)\n",
        "\n",
        "LR = ReduceLROnPlateau(monitor='val_loss', factor=0.2, patience=5, min_lr=0.001, verbose=1) # write the REducelronplateau code here\n",
        "callbacks_list = [checkpoint, LR]"
      ]
    },
    {
      "cell_type": "markdown",
      "metadata": {
        "id": "y9pkA7hJNGRB"
      },
      "source": [
        "The `steps_per_epoch` and `validation_steps` are used by `fit_generator` to decide the number of next() calls it need to make."
      ]
    },
    {
      "cell_type": "code",
      "execution_count": 22,
      "metadata": {
        "id": "oLvMl5v5NGRB"
      },
      "outputs": [],
      "source": [
        "if (num_train_sequences%batch_size) == 0:\n",
        "    steps_per_epoch = int(num_train_sequences/batch_size)\n",
        "else:\n",
        "    steps_per_epoch = (num_train_sequences//batch_size) + 1\n",
        "\n",
        "if (num_val_sequences%batch_size) == 0:\n",
        "    validation_steps = int(num_val_sequences/batch_size)\n",
        "else:\n",
        "    validation_steps = (num_val_sequences//batch_size) + 1"
      ]
    },
    {
      "cell_type": "markdown",
      "metadata": {
        "id": "5plo1CMwNGRC"
      },
      "source": [
        "Let us now fit the model. This will start training the model and with the help of the checkpoints, you'll be able to save the model at the end of each epoch."
      ]
    },
    {
      "cell_type": "code",
      "execution_count": 23,
      "metadata": {
        "colab": {
          "base_uri": "https://localhost:8080/"
        },
        "id": "LQzz8V2qNGRC",
        "outputId": "36a1c50e-426b-4749-fd53-eeba4cb057c7"
      },
      "outputs": [
        {
          "output_type": "stream",
          "name": "stderr",
          "text": [
            "<ipython-input-23-bd77c9c60c14>:1: UserWarning: `Model.fit_generator` is deprecated and will be removed in a future version. Please use `Model.fit`, which supports generators.\n",
            "  model.fit_generator(train_generator, steps_per_epoch=steps_per_epoch, epochs=num_epochs, verbose=1,\n"
          ]
        },
        {
          "output_type": "stream",
          "name": "stdout",
          "text": [
            "Source path =  /content/drive/MyDrive/Colab Notebooks/Project_data/train ; batch size = 32\n",
            "Epoch 1/50\n",
            "21/21 [==============================] - ETA: 0s - loss: 1.4475 - categorical_accuracy: 0.3304  Source path =  /content/drive/MyDrive/Colab Notebooks/Project_data/val ; batch size = 32\n",
            "\n",
            "Epoch 1: saving model to model_8_init_2023-03-0815_13_03.329141/model8-00001-1.44746-0.33036-1.74603-0.23438.h5\n",
            "21/21 [==============================] - 1399s 69s/step - loss: 1.4475 - categorical_accuracy: 0.3304 - val_loss: 1.7460 - val_categorical_accuracy: 0.2344 - lr: 0.0100\n",
            "Epoch 2/50\n",
            "21/21 [==============================] - ETA: 0s - loss: 1.2452 - categorical_accuracy: 0.4301\n",
            "Epoch 2: saving model to model_8_init_2023-03-0815_13_03.329141/model8-00002-1.24523-0.43006-1.99802-0.14062.h5\n",
            "21/21 [==============================] - 75s 4s/step - loss: 1.2452 - categorical_accuracy: 0.4301 - val_loss: 1.9980 - val_categorical_accuracy: 0.1406 - lr: 0.0100\n",
            "Epoch 3/50\n",
            "21/21 [==============================] - ETA: 0s - loss: 1.0894 - categorical_accuracy: 0.5268\n",
            "Epoch 3: saving model to model_8_init_2023-03-0815_13_03.329141/model8-00003-1.08937-0.52679-2.32027-0.17188.h5\n",
            "21/21 [==============================] - 36s 2s/step - loss: 1.0894 - categorical_accuracy: 0.5268 - val_loss: 2.3203 - val_categorical_accuracy: 0.1719 - lr: 0.0100\n",
            "Epoch 4/50\n",
            "21/21 [==============================] - ETA: 0s - loss: 1.0816 - categorical_accuracy: 0.5149\n",
            "Epoch 4: saving model to model_8_init_2023-03-0815_13_03.329141/model8-00004-1.08159-0.51488-1.89315-0.14844.h5\n",
            "21/21 [==============================] - 31s 2s/step - loss: 1.0816 - categorical_accuracy: 0.5149 - val_loss: 1.8931 - val_categorical_accuracy: 0.1484 - lr: 0.0100\n",
            "Epoch 5/50\n",
            "21/21 [==============================] - ETA: 0s - loss: 0.9652 - categorical_accuracy: 0.5491\n",
            "Epoch 5: saving model to model_8_init_2023-03-0815_13_03.329141/model8-00005-0.96515-0.54911-1.91958-0.23438.h5\n",
            "21/21 [==============================] - 30s 2s/step - loss: 0.9652 - categorical_accuracy: 0.5491 - val_loss: 1.9196 - val_categorical_accuracy: 0.2344 - lr: 0.0100\n",
            "Epoch 6/50\n",
            "21/21 [==============================] - ETA: 0s - loss: 0.9116 - categorical_accuracy: 0.6161\n",
            "Epoch 6: saving model to model_8_init_2023-03-0815_13_03.329141/model8-00006-0.91157-0.61607-2.03668-0.19531.h5\n",
            "\n",
            "Epoch 6: ReduceLROnPlateau reducing learning rate to 0.0019999999552965165.\n",
            "21/21 [==============================] - 30s 1s/step - loss: 0.9116 - categorical_accuracy: 0.6161 - val_loss: 2.0367 - val_categorical_accuracy: 0.1953 - lr: 0.0100\n",
            "Epoch 7/50\n",
            "21/21 [==============================] - ETA: 0s - loss: 0.8360 - categorical_accuracy: 0.6235\n",
            "Epoch 7: saving model to model_8_init_2023-03-0815_13_03.329141/model8-00007-0.83602-0.62351-2.23320-0.14844.h5\n",
            "21/21 [==============================] - 34s 2s/step - loss: 0.8360 - categorical_accuracy: 0.6235 - val_loss: 2.2332 - val_categorical_accuracy: 0.1484 - lr: 0.0020\n",
            "Epoch 8/50\n",
            "21/21 [==============================] - ETA: 0s - loss: 0.8444 - categorical_accuracy: 0.6518\n",
            "Epoch 8: saving model to model_8_init_2023-03-0815_13_03.329141/model8-00008-0.84445-0.65179-2.00934-0.22656.h5\n",
            "21/21 [==============================] - 30s 1s/step - loss: 0.8444 - categorical_accuracy: 0.6518 - val_loss: 2.0093 - val_categorical_accuracy: 0.2266 - lr: 0.0020\n",
            "Epoch 9/50\n",
            "21/21 [==============================] - ETA: 0s - loss: 0.7788 - categorical_accuracy: 0.6310\n",
            "Epoch 9: saving model to model_8_init_2023-03-0815_13_03.329141/model8-00009-0.77877-0.63095-2.07580-0.25000.h5\n",
            "21/21 [==============================] - 30s 2s/step - loss: 0.7788 - categorical_accuracy: 0.6310 - val_loss: 2.0758 - val_categorical_accuracy: 0.2500 - lr: 0.0020\n",
            "Epoch 10/50\n",
            "21/21 [==============================] - ETA: 0s - loss: 0.7743 - categorical_accuracy: 0.6384\n",
            "Epoch 10: saving model to model_8_init_2023-03-0815_13_03.329141/model8-00010-0.77428-0.63839-2.00786-0.37500.h5\n",
            "21/21 [==============================] - 35s 2s/step - loss: 0.7743 - categorical_accuracy: 0.6384 - val_loss: 2.0079 - val_categorical_accuracy: 0.3750 - lr: 0.0020\n",
            "Epoch 11/50\n",
            "21/21 [==============================] - ETA: 0s - loss: 0.7031 - categorical_accuracy: 0.7247\n",
            "Epoch 11: saving model to model_8_init_2023-03-0815_13_03.329141/model8-00011-0.70312-0.72470-1.96142-0.42188.h5\n",
            "\n",
            "Epoch 11: ReduceLROnPlateau reducing learning rate to 0.001.\n",
            "21/21 [==============================] - 30s 1s/step - loss: 0.7031 - categorical_accuracy: 0.7247 - val_loss: 1.9614 - val_categorical_accuracy: 0.4219 - lr: 0.0020\n",
            "Epoch 12/50\n",
            "21/21 [==============================] - ETA: 0s - loss: 0.7273 - categorical_accuracy: 0.6920\n",
            "Epoch 12: saving model to model_8_init_2023-03-0815_13_03.329141/model8-00012-0.72733-0.69196-1.93686-0.40625.h5\n",
            "21/21 [==============================] - 30s 1s/step - loss: 0.7273 - categorical_accuracy: 0.6920 - val_loss: 1.9369 - val_categorical_accuracy: 0.4062 - lr: 0.0010\n",
            "Epoch 13/50\n",
            "21/21 [==============================] - ETA: 0s - loss: 0.7383 - categorical_accuracy: 0.6830\n",
            "Epoch 13: saving model to model_8_init_2023-03-0815_13_03.329141/model8-00013-0.73827-0.68304-2.20624-0.29688.h5\n",
            "21/21 [==============================] - 32s 2s/step - loss: 0.7383 - categorical_accuracy: 0.6830 - val_loss: 2.2062 - val_categorical_accuracy: 0.2969 - lr: 0.0010\n",
            "Epoch 14/50\n",
            "21/21 [==============================] - ETA: 0s - loss: 0.7120 - categorical_accuracy: 0.6994\n",
            "Epoch 14: saving model to model_8_init_2023-03-0815_13_03.329141/model8-00014-0.71201-0.69940-2.13448-0.33594.h5\n",
            "21/21 [==============================] - 30s 1s/step - loss: 0.7120 - categorical_accuracy: 0.6994 - val_loss: 2.1345 - val_categorical_accuracy: 0.3359 - lr: 0.0010\n",
            "Epoch 15/50\n",
            "21/21 [==============================] - ETA: 0s - loss: 0.6845 - categorical_accuracy: 0.7128\n",
            "Epoch 15: saving model to model_8_init_2023-03-0815_13_03.329141/model8-00015-0.68450-0.71280-1.94855-0.37500.h5\n",
            "21/21 [==============================] - 34s 2s/step - loss: 0.6845 - categorical_accuracy: 0.7128 - val_loss: 1.9485 - val_categorical_accuracy: 0.3750 - lr: 0.0010\n",
            "Epoch 16/50\n",
            "21/21 [==============================] - ETA: 0s - loss: 0.7067 - categorical_accuracy: 0.6905\n",
            "Epoch 16: saving model to model_8_init_2023-03-0815_13_03.329141/model8-00016-0.70668-0.69048-2.00277-0.35156.h5\n",
            "21/21 [==============================] - 31s 2s/step - loss: 0.7067 - categorical_accuracy: 0.6905 - val_loss: 2.0028 - val_categorical_accuracy: 0.3516 - lr: 0.0010\n",
            "Epoch 17/50\n",
            "21/21 [==============================] - ETA: 0s - loss: 0.6520 - categorical_accuracy: 0.7128\n",
            "Epoch 17: saving model to model_8_init_2023-03-0815_13_03.329141/model8-00017-0.65199-0.71280-1.80519-0.38281.h5\n",
            "21/21 [==============================] - 34s 2s/step - loss: 0.6520 - categorical_accuracy: 0.7128 - val_loss: 1.8052 - val_categorical_accuracy: 0.3828 - lr: 0.0010\n",
            "Epoch 18/50\n",
            "21/21 [==============================] - ETA: 0s - loss: 0.6625 - categorical_accuracy: 0.7024\n",
            "Epoch 18: saving model to model_8_init_2023-03-0815_13_03.329141/model8-00018-0.66250-0.70238-1.68239-0.47656.h5\n",
            "21/21 [==============================] - 30s 1s/step - loss: 0.6625 - categorical_accuracy: 0.7024 - val_loss: 1.6824 - val_categorical_accuracy: 0.4766 - lr: 0.0010\n",
            "Epoch 19/50\n",
            "21/21 [==============================] - ETA: 0s - loss: 0.6560 - categorical_accuracy: 0.7173\n",
            "Epoch 19: saving model to model_8_init_2023-03-0815_13_03.329141/model8-00019-0.65602-0.71726-1.47435-0.45312.h5\n",
            "21/21 [==============================] - 31s 2s/step - loss: 0.6560 - categorical_accuracy: 0.7173 - val_loss: 1.4743 - val_categorical_accuracy: 0.4531 - lr: 0.0010\n",
            "Epoch 20/50\n",
            "21/21 [==============================] - ETA: 0s - loss: 0.6447 - categorical_accuracy: 0.7217\n",
            "Epoch 20: saving model to model_8_init_2023-03-0815_13_03.329141/model8-00020-0.64472-0.72173-1.64386-0.42969.h5\n",
            "21/21 [==============================] - 30s 1s/step - loss: 0.6447 - categorical_accuracy: 0.7217 - val_loss: 1.6439 - val_categorical_accuracy: 0.4297 - lr: 0.0010\n",
            "Epoch 21/50\n",
            "21/21 [==============================] - ETA: 0s - loss: 0.6667 - categorical_accuracy: 0.7113\n",
            "Epoch 21: saving model to model_8_init_2023-03-0815_13_03.329141/model8-00021-0.66666-0.71131-1.51779-0.42969.h5\n",
            "21/21 [==============================] - 30s 1s/step - loss: 0.6667 - categorical_accuracy: 0.7113 - val_loss: 1.5178 - val_categorical_accuracy: 0.4297 - lr: 0.0010\n",
            "Epoch 22/50\n",
            "21/21 [==============================] - ETA: 0s - loss: 0.6799 - categorical_accuracy: 0.7173\n",
            "Epoch 22: saving model to model_8_init_2023-03-0815_13_03.329141/model8-00022-0.67992-0.71726-1.28676-0.54688.h5\n",
            "21/21 [==============================] - 30s 1s/step - loss: 0.6799 - categorical_accuracy: 0.7173 - val_loss: 1.2868 - val_categorical_accuracy: 0.5469 - lr: 0.0010\n",
            "Epoch 23/50\n",
            "21/21 [==============================] - ETA: 0s - loss: 0.6412 - categorical_accuracy: 0.7440\n",
            "Epoch 23: saving model to model_8_init_2023-03-0815_13_03.329141/model8-00023-0.64120-0.74405-1.20106-0.52344.h5\n",
            "21/21 [==============================] - 30s 1s/step - loss: 0.6412 - categorical_accuracy: 0.7440 - val_loss: 1.2011 - val_categorical_accuracy: 0.5234 - lr: 0.0010\n",
            "Epoch 24/50\n",
            "21/21 [==============================] - ETA: 0s - loss: 0.6523 - categorical_accuracy: 0.7307\n",
            "Epoch 24: saving model to model_8_init_2023-03-0815_13_03.329141/model8-00024-0.65233-0.73065-1.08355-0.55469.h5\n",
            "21/21 [==============================] - 30s 1s/step - loss: 0.6523 - categorical_accuracy: 0.7307 - val_loss: 1.0836 - val_categorical_accuracy: 0.5547 - lr: 0.0010\n",
            "Epoch 25/50\n",
            "21/21 [==============================] - ETA: 0s - loss: 0.6557 - categorical_accuracy: 0.7158\n",
            "Epoch 25: saving model to model_8_init_2023-03-0815_13_03.329141/model8-00025-0.65565-0.71577-1.10571-0.58594.h5\n",
            "21/21 [==============================] - 31s 2s/step - loss: 0.6557 - categorical_accuracy: 0.7158 - val_loss: 1.1057 - val_categorical_accuracy: 0.5859 - lr: 0.0010\n",
            "Epoch 26/50\n",
            "21/21 [==============================] - ETA: 0s - loss: 0.6092 - categorical_accuracy: 0.7455\n",
            "Epoch 26: saving model to model_8_init_2023-03-0815_13_03.329141/model8-00026-0.60919-0.74554-0.87828-0.59375.h5\n",
            "21/21 [==============================] - 30s 1s/step - loss: 0.6092 - categorical_accuracy: 0.7455 - val_loss: 0.8783 - val_categorical_accuracy: 0.5938 - lr: 0.0010\n",
            "Epoch 27/50\n",
            "21/21 [==============================] - ETA: 0s - loss: 0.6077 - categorical_accuracy: 0.7366\n",
            "Epoch 27: saving model to model_8_init_2023-03-0815_13_03.329141/model8-00027-0.60768-0.73661-0.97617-0.65625.h5\n",
            "21/21 [==============================] - 30s 1s/step - loss: 0.6077 - categorical_accuracy: 0.7366 - val_loss: 0.9762 - val_categorical_accuracy: 0.6562 - lr: 0.0010\n",
            "Epoch 28/50\n",
            "21/21 [==============================] - ETA: 0s - loss: 0.6017 - categorical_accuracy: 0.7545\n",
            "Epoch 28: saving model to model_8_init_2023-03-0815_13_03.329141/model8-00028-0.60170-0.75446-0.90497-0.61719.h5\n",
            "21/21 [==============================] - 30s 1s/step - loss: 0.6017 - categorical_accuracy: 0.7545 - val_loss: 0.9050 - val_categorical_accuracy: 0.6172 - lr: 0.0010\n",
            "Epoch 29/50\n",
            "21/21 [==============================] - ETA: 0s - loss: 0.5964 - categorical_accuracy: 0.7574\n",
            "Epoch 29: saving model to model_8_init_2023-03-0815_13_03.329141/model8-00029-0.59639-0.75744-0.88247-0.67188.h5\n",
            "21/21 [==============================] - 30s 1s/step - loss: 0.5964 - categorical_accuracy: 0.7574 - val_loss: 0.8825 - val_categorical_accuracy: 0.6719 - lr: 0.0010\n",
            "Epoch 30/50\n",
            "21/21 [==============================] - ETA: 0s - loss: 0.6004 - categorical_accuracy: 0.7455\n",
            "Epoch 30: saving model to model_8_init_2023-03-0815_13_03.329141/model8-00030-0.60039-0.74554-0.77466-0.67969.h5\n",
            "21/21 [==============================] - 30s 1s/step - loss: 0.6004 - categorical_accuracy: 0.7455 - val_loss: 0.7747 - val_categorical_accuracy: 0.6797 - lr: 0.0010\n",
            "Epoch 31/50\n",
            "21/21 [==============================] - ETA: 0s - loss: 0.6125 - categorical_accuracy: 0.7247\n",
            "Epoch 31: saving model to model_8_init_2023-03-0815_13_03.329141/model8-00031-0.61252-0.72470-1.09122-0.65625.h5\n",
            "21/21 [==============================] - 30s 1s/step - loss: 0.6125 - categorical_accuracy: 0.7247 - val_loss: 1.0912 - val_categorical_accuracy: 0.6562 - lr: 0.0010\n",
            "Epoch 32/50\n",
            "21/21 [==============================] - ETA: 0s - loss: 0.5607 - categorical_accuracy: 0.7604\n",
            "Epoch 32: saving model to model_8_init_2023-03-0815_13_03.329141/model8-00032-0.56074-0.76042-0.81840-0.67188.h5\n",
            "21/21 [==============================] - 30s 1s/step - loss: 0.5607 - categorical_accuracy: 0.7604 - val_loss: 0.8184 - val_categorical_accuracy: 0.6719 - lr: 0.0010\n",
            "Epoch 33/50\n",
            "21/21 [==============================] - ETA: 0s - loss: 0.5781 - categorical_accuracy: 0.7723\n",
            "Epoch 33: saving model to model_8_init_2023-03-0815_13_03.329141/model8-00033-0.57807-0.77232-0.68659-0.74219.h5\n",
            "21/21 [==============================] - 30s 1s/step - loss: 0.5781 - categorical_accuracy: 0.7723 - val_loss: 0.6866 - val_categorical_accuracy: 0.7422 - lr: 0.0010\n",
            "Epoch 34/50\n",
            "21/21 [==============================] - ETA: 0s - loss: 0.5530 - categorical_accuracy: 0.7708\n",
            "Epoch 34: saving model to model_8_init_2023-03-0815_13_03.329141/model8-00034-0.55299-0.77083-0.77378-0.70312.h5\n",
            "21/21 [==============================] - 30s 2s/step - loss: 0.5530 - categorical_accuracy: 0.7708 - val_loss: 0.7738 - val_categorical_accuracy: 0.7031 - lr: 0.0010\n",
            "Epoch 35/50\n",
            "21/21 [==============================] - ETA: 0s - loss: 0.5615 - categorical_accuracy: 0.7485\n",
            "Epoch 35: saving model to model_8_init_2023-03-0815_13_03.329141/model8-00035-0.56153-0.74851-0.98582-0.64844.h5\n",
            "21/21 [==============================] - 30s 1s/step - loss: 0.5615 - categorical_accuracy: 0.7485 - val_loss: 0.9858 - val_categorical_accuracy: 0.6484 - lr: 0.0010\n",
            "Epoch 36/50\n",
            "21/21 [==============================] - ETA: 0s - loss: 0.5435 - categorical_accuracy: 0.7812\n",
            "Epoch 36: saving model to model_8_init_2023-03-0815_13_03.329141/model8-00036-0.54353-0.78125-0.76130-0.72656.h5\n",
            "21/21 [==============================] - 30s 1s/step - loss: 0.5435 - categorical_accuracy: 0.7812 - val_loss: 0.7613 - val_categorical_accuracy: 0.7266 - lr: 0.0010\n",
            "Epoch 37/50\n",
            "21/21 [==============================] - ETA: 0s - loss: 0.5564 - categorical_accuracy: 0.7798\n",
            "Epoch 37: saving model to model_8_init_2023-03-0815_13_03.329141/model8-00037-0.55644-0.77976-0.69918-0.69531.h5\n",
            "21/21 [==============================] - 30s 1s/step - loss: 0.5564 - categorical_accuracy: 0.7798 - val_loss: 0.6992 - val_categorical_accuracy: 0.6953 - lr: 0.0010\n",
            "Epoch 38/50\n",
            "21/21 [==============================] - ETA: 0s - loss: 0.5420 - categorical_accuracy: 0.7783\n",
            "Epoch 38: saving model to model_8_init_2023-03-0815_13_03.329141/model8-00038-0.54203-0.77827-0.78395-0.67969.h5\n",
            "21/21 [==============================] - 30s 1s/step - loss: 0.5420 - categorical_accuracy: 0.7783 - val_loss: 0.7840 - val_categorical_accuracy: 0.6797 - lr: 0.0010\n",
            "Epoch 39/50\n",
            "21/21 [==============================] - ETA: 0s - loss: 0.5155 - categorical_accuracy: 0.7917\n",
            "Epoch 39: saving model to model_8_init_2023-03-0815_13_03.329141/model8-00039-0.51546-0.79167-0.72181-0.69531.h5\n",
            "21/21 [==============================] - 31s 2s/step - loss: 0.5155 - categorical_accuracy: 0.7917 - val_loss: 0.7218 - val_categorical_accuracy: 0.6953 - lr: 0.0010\n",
            "Epoch 40/50\n",
            "21/21 [==============================] - ETA: 0s - loss: 0.5502 - categorical_accuracy: 0.7664\n",
            "Epoch 40: saving model to model_8_init_2023-03-0815_13_03.329141/model8-00040-0.55018-0.76637-0.73913-0.71094.h5\n",
            "21/21 [==============================] - 30s 1s/step - loss: 0.5502 - categorical_accuracy: 0.7664 - val_loss: 0.7391 - val_categorical_accuracy: 0.7109 - lr: 0.0010\n",
            "Epoch 41/50\n",
            "21/21 [==============================] - ETA: 0s - loss: 0.5109 - categorical_accuracy: 0.7946\n",
            "Epoch 41: saving model to model_8_init_2023-03-0815_13_03.329141/model8-00041-0.51093-0.79464-0.78204-0.67969.h5\n",
            "21/21 [==============================] - 30s 1s/step - loss: 0.5109 - categorical_accuracy: 0.7946 - val_loss: 0.7820 - val_categorical_accuracy: 0.6797 - lr: 0.0010\n",
            "Epoch 42/50\n",
            "21/21 [==============================] - ETA: 0s - loss: 0.5272 - categorical_accuracy: 0.7708\n",
            "Epoch 42: saving model to model_8_init_2023-03-0815_13_03.329141/model8-00042-0.52722-0.77083-0.81566-0.71875.h5\n",
            "21/21 [==============================] - 30s 1s/step - loss: 0.5272 - categorical_accuracy: 0.7708 - val_loss: 0.8157 - val_categorical_accuracy: 0.7188 - lr: 0.0010\n",
            "Epoch 43/50\n",
            "21/21 [==============================] - ETA: 0s - loss: 0.5218 - categorical_accuracy: 0.7902\n",
            "Epoch 43: saving model to model_8_init_2023-03-0815_13_03.329141/model8-00043-0.52176-0.79018-0.75043-0.69531.h5\n",
            "21/21 [==============================] - 30s 1s/step - loss: 0.5218 - categorical_accuracy: 0.7902 - val_loss: 0.7504 - val_categorical_accuracy: 0.6953 - lr: 0.0010\n",
            "Epoch 44/50\n",
            "21/21 [==============================] - ETA: 0s - loss: 0.5260 - categorical_accuracy: 0.7812\n",
            "Epoch 44: saving model to model_8_init_2023-03-0815_13_03.329141/model8-00044-0.52597-0.78125-0.88533-0.69531.h5\n",
            "21/21 [==============================] - 34s 2s/step - loss: 0.5260 - categorical_accuracy: 0.7812 - val_loss: 0.8853 - val_categorical_accuracy: 0.6953 - lr: 0.0010\n",
            "Epoch 45/50\n",
            "21/21 [==============================] - ETA: 0s - loss: 0.5021 - categorical_accuracy: 0.7768\n",
            "Epoch 45: saving model to model_8_init_2023-03-0815_13_03.329141/model8-00045-0.50209-0.77679-0.88958-0.65625.h5\n",
            "21/21 [==============================] - 30s 1s/step - loss: 0.5021 - categorical_accuracy: 0.7768 - val_loss: 0.8896 - val_categorical_accuracy: 0.6562 - lr: 0.0010\n",
            "Epoch 46/50\n",
            "21/21 [==============================] - ETA: 0s - loss: 0.4868 - categorical_accuracy: 0.8080\n",
            "Epoch 46: saving model to model_8_init_2023-03-0815_13_03.329141/model8-00046-0.48682-0.80804-0.74866-0.73438.h5\n",
            "21/21 [==============================] - 30s 1s/step - loss: 0.4868 - categorical_accuracy: 0.8080 - val_loss: 0.7487 - val_categorical_accuracy: 0.7344 - lr: 0.0010\n",
            "Epoch 47/50\n",
            "21/21 [==============================] - ETA: 0s - loss: 0.4788 - categorical_accuracy: 0.8125\n",
            "Epoch 47: saving model to model_8_init_2023-03-0815_13_03.329141/model8-00047-0.47881-0.81250-0.74226-0.73438.h5\n",
            "21/21 [==============================] - 30s 1s/step - loss: 0.4788 - categorical_accuracy: 0.8125 - val_loss: 0.7423 - val_categorical_accuracy: 0.7344 - lr: 0.0010\n",
            "Epoch 48/50\n",
            "21/21 [==============================] - ETA: 0s - loss: 0.4635 - categorical_accuracy: 0.8199\n",
            "Epoch 48: saving model to model_8_init_2023-03-0815_13_03.329141/model8-00048-0.46352-0.81994-0.78845-0.69531.h5\n",
            "21/21 [==============================] - 30s 1s/step - loss: 0.4635 - categorical_accuracy: 0.8199 - val_loss: 0.7884 - val_categorical_accuracy: 0.6953 - lr: 0.0010\n",
            "Epoch 49/50\n",
            "21/21 [==============================] - ETA: 0s - loss: 0.4668 - categorical_accuracy: 0.8125\n",
            "Epoch 49: saving model to model_8_init_2023-03-0815_13_03.329141/model8-00049-0.46679-0.81250-0.86786-0.67188.h5\n",
            "21/21 [==============================] - 31s 2s/step - loss: 0.4668 - categorical_accuracy: 0.8125 - val_loss: 0.8679 - val_categorical_accuracy: 0.6719 - lr: 0.0010\n",
            "Epoch 50/50\n",
            "21/21 [==============================] - ETA: 0s - loss: 0.4871 - categorical_accuracy: 0.8125\n",
            "Epoch 50: saving model to model_8_init_2023-03-0815_13_03.329141/model8-00050-0.48709-0.81250-0.78193-0.74219.h5\n",
            "21/21 [==============================] - 29s 1s/step - loss: 0.4871 - categorical_accuracy: 0.8125 - val_loss: 0.7819 - val_categorical_accuracy: 0.7422 - lr: 0.0010\n"
          ]
        },
        {
          "output_type": "execute_result",
          "data": {
            "text/plain": [
              "<keras.callbacks.History at 0x7f9e6c9fdf10>"
            ]
          },
          "metadata": {},
          "execution_count": 23
        }
      ],
      "source": [
        "model.fit_generator(train_generator, steps_per_epoch=steps_per_epoch, epochs=num_epochs, verbose=1, \n",
        "                    callbacks=callbacks_list, validation_data=val_generator, \n",
        "                    validation_steps=validation_steps, class_weight=None, workers=1, initial_epoch=0)"
      ]
    },
    {
      "cell_type": "markdown",
      "source": [
        "Model 8 results:\n",
        "\n",
        "Epoch 50, Training accuracy = 81.25% <br>\n",
        "Training Loss = 0.4871 <br>\n",
        "Validation Accuracy = 74.22% <br>\n",
        "Validation Loss = 0.7819 <br>\n",
        "So, this model is performing fine but not better than Experiment 7 (Time Distributed Conv2D+ GRU architecture)"
      ],
      "metadata": {
        "id": "W-YlNas8NGRC"
      }
    },
    {
      "cell_type": "markdown",
      "source": [
        "## CONCLUSION"
      ],
      "metadata": {
        "id": "9ON5nzf12g8k"
      }
    },
    {
      "cell_type": "markdown",
      "source": [
        "Model 7 is our best model.\n",
        "Model 7 results:\n",
        "\n",
        "Epoch 45, Training accuracy = 93.155% <br>\n",
        "Training Loss = 0.20165 <br>\n",
        "Validation Accuracy = 78.90% (BEST AND FINAL MODEL) <br>\n",
        "Validation Loss = 0.63995 <br>\n",
        "So, this model is performing really well after adding dropout layers with impressive validation accuracy (78.9%) using TimeDistributed Conv2D+ GRU architecture."
      ],
      "metadata": {
        "id": "0q3-GhCbCjQv"
      }
    },
    {
      "cell_type": "markdown",
      "source": [
        "#### The End"
      ],
      "metadata": {
        "id": "Hp81KMwMCy28"
      }
    }
  ],
  "metadata": {
    "accelerator": "GPU",
    "colab": {
      "provenance": [],
      "include_colab_link": true
    },
    "gpuClass": "standard",
    "kernelspec": {
      "display_name": "Python 3",
      "language": "python",
      "name": "python3"
    },
    "language_info": {
      "codemirror_mode": {
        "name": "ipython",
        "version": 3
      },
      "file_extension": ".py",
      "mimetype": "text/x-python",
      "name": "python",
      "nbconvert_exporter": "python",
      "pygments_lexer": "ipython3",
      "version": "3.6.5"
    }
  },
  "nbformat": 4,
  "nbformat_minor": 0
}