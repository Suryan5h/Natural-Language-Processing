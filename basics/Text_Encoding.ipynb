{
  "nbformat": 4,
  "nbformat_minor": 0,
  "metadata": {
    "colab": {
      "provenance": [],
      "authorship_tag": "ABX9TyPb+4aR9nihY2DFcrja5tl4",
      "include_colab_link": true
    },
    "kernelspec": {
      "name": "python3",
      "display_name": "Python 3"
    },
    "language_info": {
      "name": "python"
    }
  },
  "cells": [
    {
      "cell_type": "markdown",
      "metadata": {
        "id": "view-in-github",
        "colab_type": "text"
      },
      "source": [
        "<a href=\"https://colab.research.google.com/github/Suryan5h/Natural-Language-Processing/blob/main/basics/Text_Encoding.ipynb\" target=\"_parent\"><img src=\"https://colab.research.google.com/assets/colab-badge.svg\" alt=\"Open In Colab\"/></a>"
      ]
    },
    {
      "cell_type": "code",
      "execution_count": 1,
      "metadata": {
        "colab": {
          "base_uri": "https://localhost:8080/"
        },
        "id": "aDljC4k2OCIX",
        "outputId": "8c427f06-1637-40e8-d877-8f20669ca05a"
      },
      "outputs": [
        {
          "output_type": "stream",
          "name": "stdout",
          "text": [
            "Default string:  ₹50 \n",
            " Type of string <class 'str'> \n",
            "\n",
            "Encoded to UTF-8:  b'\\xe2\\x82\\xb950' \n",
            " Type of string <class 'bytes'> \n",
            "\n",
            "Decoded from UTF-8:  ₹50 \n",
            " Type of string <class 'str'> \n",
            "\n"
          ]
        }
      ],
      "source": [
        "# create a string \n",
        "amount = u\"₹50\" \n",
        "print('Default string: ', amount, '\\n', 'Type of string', type(amount), '\\n') \n",
        "\n",
        "# encode to UTF-8 byte format \n",
        "amount_encoded = amount.encode('utf-8')\n",
        "print('Encoded to UTF-8: ', amount_encoded, '\\n', 'Type of string', type(amount_encoded), '\\n') \n",
        "\n",
        "# decode from UTF-8 byte format \n",
        "amount_decoded = amount_encoded.decode('utf-8') \n",
        "print('Decoded from UTF-8: ', amount_decoded, '\\n', 'Type of string', type(amount_decoded), '\\n')"
      ]
    },
    {
      "cell_type": "code",
      "source": [
        "character_encode = \"©\"\n",
        "encoded = character_encode.encode('utf-8')"
      ],
      "metadata": {
        "id": "N_9oCIwtPC6n"
      },
      "execution_count": 2,
      "outputs": []
    },
    {
      "cell_type": "code",
      "source": [
        "encoded"
      ],
      "metadata": {
        "colab": {
          "base_uri": "https://localhost:8080/"
        },
        "id": "C2yz6zOGPT4h",
        "outputId": "9a024ee3-81dc-414a-c5b8-b9be4ddea048"
      },
      "execution_count": 3,
      "outputs": [
        {
          "output_type": "execute_result",
          "data": {
            "text/plain": [
              "b'\\xc2\\xa9'"
            ]
          },
          "metadata": {},
          "execution_count": 3
        }
      ]
    },
    {
      "cell_type": "code",
      "source": [
        "decode_text = b'\\xe2\\x82\\xb9'\n",
        "decoded = decode_text.decode('utf-8')\n",
        "decoded"
      ],
      "metadata": {
        "colab": {
          "base_uri": "https://localhost:8080/",
          "height": 36
        },
        "id": "8ww8YVRjPVNW",
        "outputId": "96ae49cf-e254-4959-9350-15c743a72e69"
      },
      "execution_count": 4,
      "outputs": [
        {
          "output_type": "execute_result",
          "data": {
            "text/plain": [
              "'₹'"
            ],
            "application/vnd.google.colaboratory.intrinsic+json": {
              "type": "string"
            }
          },
          "metadata": {},
          "execution_count": 4
        }
      ]
    }
  ]
}