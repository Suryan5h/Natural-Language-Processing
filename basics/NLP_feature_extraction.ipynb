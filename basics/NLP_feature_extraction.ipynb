{
  "nbformat": 4,
  "nbformat_minor": 0,
  "metadata": {
    "colab": {
      "provenance": [],
      "authorship_tag": "ABX9TyOR5XIE02awMP7XiyzSxDVl",
      "include_colab_link": true
    },
    "kernelspec": {
      "name": "python3",
      "display_name": "Python 3"
    },
    "language_info": {
      "name": "python"
    }
  },
  "cells": [
    {
      "cell_type": "markdown",
      "metadata": {
        "id": "view-in-github",
        "colab_type": "text"
      },
      "source": [
        "<a href=\"https://colab.research.google.com/github/Suryan5h/Natural-Language-Processing/blob/main/basics/NLP_feature_extraction.ipynb\" target=\"_parent\"><img src=\"https://colab.research.google.com/assets/colab-badge.svg\" alt=\"Open In Colab\"/></a>"
      ]
    },
    {
      "cell_type": "code",
      "execution_count": 7,
      "metadata": {
        "id": "36x71QCV3pgr"
      },
      "outputs": [],
      "source": [
        " corpus = [\n",
        "\"john told you to come market\",\n",
        "\"can you please come here\",\n",
        "\"can you please come to meet sofia\",\n",
        "\"i suggest you do not come to party\",\n",
        "\"please come with harry\",\n",
        "\"may i come in\",\n",
        "\"dreams come true\",\n",
        "\"why dont you come to audition\",\n",
        "\"may i come help you\" \n",
        "]"
      ]
    },
    {
      "cell_type": "code",
      "source": [
        "import nltk\n",
        "nltk.download('stopwords')\n",
        "#Libraries\n",
        "from nltk.corpus import stopwords\n",
        "from nltk.tokenize.toktok import ToktokTokenizer\n",
        "\n",
        "#Tokenization of text\n",
        "tokenizer = ToktokTokenizer()\n",
        "#Setting English stopwords\n",
        "stopword_list = nltk.corpus.stopwords.words('english')\n",
        "\n",
        "#Removing standard english stop words like prepositions, adverbs\n",
        "from nltk.tokenize import word_tokenize,sent_tokenize\n",
        "stop = set(stopwords.words('english'))\n",
        "print(stop)"
      ],
      "metadata": {
        "colab": {
          "base_uri": "https://localhost:8080/"
        },
        "id": "novczMxjepJK",
        "outputId": "261b4dda-8738-48d2-821b-83c61e8ccfd5"
      },
      "execution_count": 4,
      "outputs": [
        {
          "output_type": "stream",
          "name": "stdout",
          "text": [
            "{'having', 'yourselves', 'will', 'both', 'shan', 'any', \"wasn't\", 'didn', 'doing', 'was', 'does', 'couldn', \"hasn't\", 'wasn', 'haven', \"don't\", 'myself', 'up', 'do', 'very', 'don', 'can', \"aren't\", 'from', 'more', 'mustn', 'again', 'themselves', 'whom', 'or', 'here', \"haven't\", \"you'd\", 'am', 'too', 'yourself', 'than', \"wouldn't\", \"isn't\", 've', 'above', \"shouldn't\", 'he', 'while', 'them', \"she's\", 'that', 'under', 'nor', 'i', 'we', 'there', 'what', 'same', 'isn', 'now', \"you've\", 'only', \"couldn't\", 'your', 'our', \"that'll\", 'its', 'for', 'against', 's', 'no', 'each', 'itself', 'few', 'own', \"mustn't\", 'doesn', 'of', 'these', 'm', 'won', 'at', 'aren', 'my', 'in', 'who', 'about', 'ain', 'through', \"didn't\", \"won't\", 'herself', 'hers', 'after', 'hasn', 'below', 'just', 'she', 'o', 'when', \"mightn't\", 'mightn', 'but', 'out', \"weren't\", 'were', 'some', 'with', \"needn't\", 'which', 'as', 'an', 'most', 'is', 'are', 'all', 'so', 'me', 't', 'between', 'should', 'be', 'being', 'until', 'before', 'll', 'wouldn', 'have', 'had', 'needn', 'd', 'why', 'those', 'her', 'to', 'further', 'it', 'other', \"shan't\", 'this', 'a', 'where', \"you'll\", 'once', 'weren', 'down', 'the', 'then', 'ma', 'because', 'y', \"should've\", 'ours', 'has', 'his', 'if', 're', 'their', 'over', 'himself', 'not', 'theirs', \"it's\", 'you', 'yours', \"you're\", 'by', 'on', 'off', 'during', 'such', \"hadn't\", 'how', 'ourselves', 'him', 'and', 'into', 'been', 'hadn', 'they', \"doesn't\", 'did', 'shouldn'}\n"
          ]
        },
        {
          "output_type": "stream",
          "name": "stderr",
          "text": [
            "[nltk_data] Downloading package stopwords to /root/nltk_data...\n",
            "[nltk_data]   Unzipping corpora/stopwords.zip.\n"
          ]
        }
      ]
    },
    {
      "cell_type": "code",
      "source": [
        "#Removing the stopwords\n",
        "def remove_stopwords(text,is_lower_case=False):\n",
        "  tokens = tokenizer.tokenize(text)\n",
        "  tokens = [token.strip() for token in tokens]\n",
        "  if is_lower_case:\n",
        "    filtered_tokens = [token for token in tokens if token not in stopword_list]\n",
        "  else:\n",
        "    filtered_tokens = [token for token in tokens if token.lower() not in stopword_list]\n",
        "  filtered_text = ' '.join(filtered_tokens)\n",
        "  return filtered_text"
      ],
      "metadata": {
        "id": "XiY0LjAI3wB7"
      },
      "execution_count": 5,
      "outputs": []
    },
    {
      "cell_type": "code",
      "source": [
        "nltk.download('punkt')\n",
        "stop = set(stopwords.words('english'))\n",
        "for index, sentence in enumerate(corpus):\n",
        "  corpus[index] = ' '.join([i for i in word_tokenize(sentence.lower()) if i not in stop])"
      ],
      "metadata": {
        "colab": {
          "base_uri": "https://localhost:8080/"
        },
        "id": "CVQiRzBm3uRL",
        "outputId": "5d2e571d-50ad-47ca-e776-7823f9a3d0b2"
      },
      "execution_count": 9,
      "outputs": [
        {
          "output_type": "stream",
          "name": "stderr",
          "text": [
            "[nltk_data] Downloading package punkt to /root/nltk_data...\n",
            "[nltk_data]   Unzipping tokenizers/punkt.zip.\n"
          ]
        }
      ]
    },
    {
      "cell_type": "code",
      "source": [
        "corpus"
      ],
      "metadata": {
        "colab": {
          "base_uri": "https://localhost:8080/"
        },
        "id": "OFieYwvfe47K",
        "outputId": "ed5f91ad-cddc-4836-cb1f-620c2763524b"
      },
      "execution_count": 10,
      "outputs": [
        {
          "output_type": "execute_result",
          "data": {
            "text/plain": [
              "['john told come market',\n",
              " 'please come',\n",
              " 'please come meet sofia',\n",
              " 'suggest come party',\n",
              " 'please come harry',\n",
              " 'may come',\n",
              " 'dreams come true',\n",
              " 'dont come audition',\n",
              " 'may come help']"
            ]
          },
          "metadata": {},
          "execution_count": 10
        }
      ]
    },
    {
      "cell_type": "code",
      "source": [
        "from sklearn.feature_extraction.text import CountVectorizer\n",
        "cv = CountVectorizer()\n",
        "cv_fit = cv.fit(corpus)"
      ],
      "metadata": {
        "id": "iCrCGDbzfBKZ"
      },
      "execution_count": 11,
      "outputs": []
    },
    {
      "cell_type": "code",
      "source": [
        "cv_fit.vocabulary_"
      ],
      "metadata": {
        "colab": {
          "base_uri": "https://localhost:8080/"
        },
        "id": "EkCH9LTIfMCq",
        "outputId": "abf58ebb-67ce-4a9e-a6b3-854e7ee400fc"
      },
      "execution_count": 12,
      "outputs": [
        {
          "output_type": "execute_result",
          "data": {
            "text/plain": [
              "{'john': 6,\n",
              " 'told': 14,\n",
              " 'come': 1,\n",
              " 'market': 7,\n",
              " 'please': 11,\n",
              " 'meet': 9,\n",
              " 'sofia': 12,\n",
              " 'suggest': 13,\n",
              " 'party': 10,\n",
              " 'harry': 4,\n",
              " 'may': 8,\n",
              " 'dreams': 3,\n",
              " 'true': 15,\n",
              " 'dont': 2,\n",
              " 'audition': 0,\n",
              " 'help': 5}"
            ]
          },
          "metadata": {},
          "execution_count": 12
        }
      ]
    },
    {
      "cell_type": "code",
      "source": [
        "print(cv_fit)"
      ],
      "metadata": {
        "colab": {
          "base_uri": "https://localhost:8080/"
        },
        "id": "YLdlXD6SfO2K",
        "outputId": "7a152dd0-05c8-49c7-85ab-1e084a6dbe35"
      },
      "execution_count": 13,
      "outputs": [
        {
          "output_type": "stream",
          "name": "stdout",
          "text": [
            "CountVectorizer()\n"
          ]
        }
      ]
    },
    {
      "cell_type": "code",
      "source": [
        " corpus = [\n",
        "\"john told you to come market\",\n",
        "\"can you please come here\",\n",
        "\"can you please come to meet sofia\",\n",
        "\"i suggest you do not come to party\",\n",
        "\"please come with harry\",\n",
        "\"may i come in\",\n",
        "\"dreams come true\",\n",
        "\"why dont you come to audition\",\n",
        "\"may i come help you\" \n",
        "]"
      ],
      "metadata": {
        "id": "C8oPwkgH22Yg"
      },
      "execution_count": 14,
      "outputs": []
    },
    {
      "cell_type": "code",
      "source": [
        "nltk.download('punkt')\n",
        "stop = set(stopwords.words('english'))\n",
        "for index, sentence in enumerate(corpus):\n",
        "  corpus[index] = ' '.join([i for i in word_tokenize(sentence.lower()) if i not in stop])"
      ],
      "metadata": {
        "colab": {
          "base_uri": "https://localhost:8080/"
        },
        "id": "JtmD7smZ29_w",
        "outputId": "6f193ea5-45f1-4540-9932-cadcfc7304e5"
      },
      "execution_count": 15,
      "outputs": [
        {
          "output_type": "stream",
          "name": "stderr",
          "text": [
            "[nltk_data] Downloading package punkt to /root/nltk_data...\n",
            "[nltk_data]   Package punkt is already up-to-date!\n"
          ]
        }
      ]
    },
    {
      "cell_type": "code",
      "source": [
        "corpus"
      ],
      "metadata": {
        "colab": {
          "base_uri": "https://localhost:8080/"
        },
        "id": "EE62vwLe3A4_",
        "outputId": "af0904b1-f80d-4cf2-dac3-ce5162b7ba5b"
      },
      "execution_count": 16,
      "outputs": [
        {
          "output_type": "execute_result",
          "data": {
            "text/plain": [
              "['john told come market',\n",
              " 'please come',\n",
              " 'please come meet sofia',\n",
              " 'suggest come party',\n",
              " 'please come harry',\n",
              " 'may come',\n",
              " 'dreams come true',\n",
              " 'dont come audition',\n",
              " 'may come help']"
            ]
          },
          "metadata": {},
          "execution_count": 16
        }
      ]
    },
    {
      "cell_type": "code",
      "source": [
        "from sklearn.feature_extraction.text import TfidfVectorizer\n",
        " \n",
        "#Applying TF-IDF vectorizer\n",
        "tv=TfidfVectorizer()\n",
        " \n",
        "#Fitting model on entire data\n",
        "tv_fit = tv.fit_transform(corpus)"
      ],
      "metadata": {
        "id": "3_MWChMJ3Clf"
      },
      "execution_count": 25,
      "outputs": []
    },
    {
      "cell_type": "code",
      "source": [
        "print(tv_fit)"
      ],
      "metadata": {
        "colab": {
          "base_uri": "https://localhost:8080/"
        },
        "id": "YtuREhnh3SRg",
        "outputId": "d287e430-1c0c-4a11-b3da-d0f463918616"
      },
      "execution_count": 26,
      "outputs": [
        {
          "output_type": "stream",
          "name": "stdout",
          "text": [
            "  (0, 7)\t0.5637171267451105\n",
            "  (0, 1)\t0.21603009753900276\n",
            "  (0, 14)\t0.5637171267451105\n",
            "  (0, 6)\t0.5637171267451105\n",
            "  (1, 11)\t0.8865476297873808\n",
            "  (1, 1)\t0.46263733109032296\n",
            "  (2, 12)\t0.6101465333688625\n",
            "  (2, 9)\t0.6101465333688625\n",
            "  (2, 11)\t0.4480727981334654\n",
            "  (2, 1)\t0.23382297408245817\n",
            "  (3, 10)\t0.6824927635661049\n",
            "  (3, 13)\t0.6824927635661049\n",
            "  (3, 1)\t0.2615478070254108\n",
            "  (4, 4)\t0.7701064259345348\n",
            "  (4, 11)\t0.5655424103187389\n",
            "  (4, 1)\t0.2951234908732412\n",
            "  (5, 8)\t0.9106473463953395\n",
            "  (5, 1)\t0.4131844751477559\n",
            "  (6, 15)\t0.6824927635661049\n",
            "  (6, 3)\t0.6824927635661049\n",
            "  (6, 1)\t0.2615478070254108\n",
            "  (7, 0)\t0.6824927635661049\n",
            "  (7, 2)\t0.6824927635661049\n",
            "  (7, 1)\t0.2615478070254108\n",
            "  (8, 5)\t0.7331888826871095\n",
            "  (8, 8)\t0.6192630030308558\n",
            "  (8, 1)\t0.28097579145049906\n"
          ]
        }
      ]
    },
    {
      "cell_type": "code",
      "source": [
        "tv_fit.vocabulary_"
      ],
      "metadata": {
        "colab": {
          "base_uri": "https://localhost:8080/"
        },
        "id": "rxYOFu9V3VMg",
        "outputId": "d8c0de4d-cbfc-49a1-fd18-232642e95672"
      },
      "execution_count": 19,
      "outputs": [
        {
          "output_type": "execute_result",
          "data": {
            "text/plain": [
              "{'john': 6,\n",
              " 'told': 14,\n",
              " 'come': 1,\n",
              " 'market': 7,\n",
              " 'please': 11,\n",
              " 'meet': 9,\n",
              " 'sofia': 12,\n",
              " 'suggest': 13,\n",
              " 'party': 10,\n",
              " 'harry': 4,\n",
              " 'may': 8,\n",
              " 'dreams': 3,\n",
              " 'true': 15,\n",
              " 'dont': 2,\n",
              " 'audition': 0,\n",
              " 'help': 5}"
            ]
          },
          "metadata": {},
          "execution_count": 19
        }
      ]
    },
    {
      "cell_type": "code",
      "source": [
        "tv_fit.get_feature_names_out()"
      ],
      "metadata": {
        "colab": {
          "base_uri": "https://localhost:8080/"
        },
        "id": "GIyUQ1vW3XX_",
        "outputId": "1c136f6f-4735-420c-fcdd-7c21ef525f64"
      },
      "execution_count": 21,
      "outputs": [
        {
          "output_type": "execute_result",
          "data": {
            "text/plain": [
              "array(['audition', 'come', 'dont', 'dreams', 'harry', 'help', 'john',\n",
              "       'market', 'may', 'meet', 'party', 'please', 'sofia', 'suggest',\n",
              "       'told', 'true'], dtype=object)"
            ]
          },
          "metadata": {},
          "execution_count": 21
        }
      ]
    },
    {
      "cell_type": "code",
      "source": [
        "corpus = [\"can you please come here\",\n",
        "\"can you please come to meet sofia\"]"
      ],
      "metadata": {
        "id": "kyfRLD8J3lhf"
      },
      "execution_count": 27,
      "outputs": []
    },
    {
      "cell_type": "code",
      "source": [
        "stop = set(stopwords.words('english'))\n",
        "for index, sentence in enumerate(corpus):\n",
        "  corpus[index] = ' '.join([i for i in word_tokenize(sentence.lower()) if i not in stop])"
      ],
      "metadata": {
        "id": "NV6miRqE4LaP"
      },
      "execution_count": 28,
      "outputs": []
    },
    {
      "cell_type": "code",
      "source": [
        "corpus"
      ],
      "metadata": {
        "colab": {
          "base_uri": "https://localhost:8080/"
        },
        "id": "J6_L5VlV4lcO",
        "outputId": "f4a57cd4-54b6-4da2-dea4-05815c52e193"
      },
      "execution_count": 29,
      "outputs": [
        {
          "output_type": "execute_result",
          "data": {
            "text/plain": [
              "['please come', 'please come meet sofia']"
            ]
          },
          "metadata": {},
          "execution_count": 29
        }
      ]
    },
    {
      "cell_type": "code",
      "source": [
        "# Initialize an instance of tf-idf Vectorizer\n",
        "tfidf_vectorizer = TfidfVectorizer()\n",
        "\n",
        "# Generate the tf-idf vectors for the corpus\n",
        "tfidf_matrix = tfidf_vectorizer.fit_transform(corpus)"
      ],
      "metadata": {
        "id": "03DeRzn94mhv"
      },
      "execution_count": 30,
      "outputs": []
    },
    {
      "cell_type": "code",
      "source": [
        "df = pd.DataFrame(tfidf_matrix.toarray(), columns = tfidf_vectorizer.get_feature_names())\n",
        "print(df)"
      ],
      "metadata": {
        "colab": {
          "base_uri": "https://localhost:8080/"
        },
        "id": "wNbdtG5z4xpv",
        "outputId": "0081d270-8b80-4ef3-8822-6cf0ebecdf0d"
      },
      "execution_count": 31,
      "outputs": [
        {
          "output_type": "stream",
          "name": "stdout",
          "text": [
            "       come      meet    please     sofia\n",
            "0  0.707107  0.000000  0.707107  0.000000\n",
            "1  0.409937  0.576152  0.409937  0.576152\n"
          ]
        },
        {
          "output_type": "stream",
          "name": "stderr",
          "text": [
            "/usr/local/lib/python3.8/dist-packages/sklearn/utils/deprecation.py:87: FutureWarning: Function get_feature_names is deprecated; get_feature_names is deprecated in 1.0 and will be removed in 1.2. Please use get_feature_names_out instead.\n",
            "  warnings.warn(msg, category=FutureWarning)\n"
          ]
        }
      ]
    },
    {
      "cell_type": "code",
      "source": [
        "# compute and print the cosine similarity matrix\n",
        "from sklearn.metrics.pairwise import cosine_similarity\n",
        "from sklearn.feature_extraction.text import TfidfVectorizer\n",
        "cosine_sim = cosine_similarity(tfidf_matrix, tfidf_matrix)\n",
        "print(cosine_sim)"
      ],
      "metadata": {
        "colab": {
          "base_uri": "https://localhost:8080/"
        },
        "id": "oHf1UsqI41MB",
        "outputId": "d1600ec1-201f-42d7-ea17-9212de7cd9fe"
      },
      "execution_count": 33,
      "outputs": [
        {
          "output_type": "stream",
          "name": "stdout",
          "text": [
            "[[1.         0.57973867]\n",
            " [0.57973867 1.        ]]\n"
          ]
        }
      ]
    },
    {
      "cell_type": "code",
      "source": [],
      "metadata": {
        "id": "D6toGwnY44Zf"
      },
      "execution_count": null,
      "outputs": []
    }
  ]
}